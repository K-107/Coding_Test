{
  "cells": [
    {
      "cell_type": "markdown",
      "metadata": {
        "id": "view-in-github",
        "colab_type": "text"
      },
      "source": [
        "<a href=\"https://colab.research.google.com/github/K-107/Coding_Test/blob/main/Programmers.ipynb\" target=\"_parent\"><img src=\"https://colab.research.google.com/assets/colab-badge.svg\" alt=\"Open In Colab\"/></a>"
      ]
    },
    {
      "cell_type": "markdown",
      "source": [
        "# Level 1"
      ],
      "metadata": {
        "id": "dILbRLd_h9WS"
      }
    },
    {
      "cell_type": "markdown",
      "source": [
        "## 1.완주하지 못한 선수\n",
        "\n",
        "- https://programmers.co.kr/learn/courses/30/lessons/42576"
      ],
      "metadata": {
        "id": "Efb6vh5qi3tO"
      }
    },
    {
      "cell_type": "markdown",
      "source": [
        "### 1번 풀이 - 시간초과"
      ],
      "metadata": {
        "id": "kut8euwunj3W"
      }
    },
    {
      "cell_type": "code",
      "source": [
        "def solution(participant, completion):\n",
        "    \n",
        "    for i in participant:\n",
        "        if i in completion:\n",
        "            completion.remove(i)\n",
        "        else:\n",
        "            return i"
      ],
      "metadata": {
        "id": "izyVKd0uh9Dv"
      },
      "execution_count": null,
      "outputs": []
    },
    {
      "cell_type": "code",
      "source": [
        "'''\n",
        "sort(), sorted() 함수\n",
        "\n",
        "sort()는 리스트를 정렬된 상태로 변경한다. 원본이 정렬돼 변경됨.\n",
        "sorted()는 정렬된 리스트를 생성한다. 변수로 받아줘야한다.\n",
        "https://cigiko.cafe24.com/python-%EC%A0%95%EB%A0%AC%ED%95%98%EA%B8%B0-sort%EC%99%80-sorted/\n",
        "'''\n",
        "\n",
        "다 = 'd b e g a g'.split()\n",
        "다"
      ],
      "metadata": {
        "colab": {
          "base_uri": "https://localhost:8080/"
        },
        "id": "8xhYszgYh9A8",
        "outputId": "7e0eaf57-574e-4e47-9012-b51a9b26d938"
      },
      "execution_count": null,
      "outputs": [
        {
          "output_type": "execute_result",
          "data": {
            "text/plain": [
              "['d', 'b', 'e', 'g', 'a', 'g']"
            ]
          },
          "metadata": {},
          "execution_count": 16
        }
      ]
    },
    {
      "cell_type": "code",
      "source": [
        "다.sort()"
      ],
      "metadata": {
        "id": "fycFrBBzn66g"
      },
      "execution_count": null,
      "outputs": []
    },
    {
      "cell_type": "code",
      "source": [
        "다"
      ],
      "metadata": {
        "colab": {
          "base_uri": "https://localhost:8080/"
        },
        "id": "jTkGmrmhn9Hx",
        "outputId": "52764650-f826-4617-bb8c-29264308aa77"
      },
      "execution_count": null,
      "outputs": [
        {
          "output_type": "execute_result",
          "data": {
            "text/plain": [
              "['a', 'b', 'd', 'e', 'g', 'g']"
            ]
          },
          "metadata": {},
          "execution_count": 18
        }
      ]
    },
    {
      "cell_type": "code",
      "source": [
        "라 = 'd b e g a g'.split()\n",
        "sorted(라)"
      ],
      "metadata": {
        "colab": {
          "base_uri": "https://localhost:8080/"
        },
        "id": "6DYp6EA9n-kH",
        "outputId": "c36c62c9-5154-4f00-9a4f-01eef252061a"
      },
      "execution_count": null,
      "outputs": [
        {
          "output_type": "execute_result",
          "data": {
            "text/plain": [
              "['a', 'b', 'd', 'e', 'g', 'g']"
            ]
          },
          "metadata": {},
          "execution_count": 19
        }
      ]
    },
    {
      "cell_type": "code",
      "source": [
        "라"
      ],
      "metadata": {
        "colab": {
          "base_uri": "https://localhost:8080/"
        },
        "id": "V-OhW6wBn-dH",
        "outputId": "a9396597-3faa-4d84-87f2-e8110d717d6f"
      },
      "execution_count": null,
      "outputs": [
        {
          "output_type": "execute_result",
          "data": {
            "text/plain": [
              "['d', 'b', 'e', 'g', 'a', 'g']"
            ]
          },
          "metadata": {},
          "execution_count": 20
        }
      ]
    },
    {
      "cell_type": "code",
      "source": [
        "'''\n",
        "split 함수\n",
        "\n",
        "'리스트 + 리스트'는 되지만 '리스트 - 리스트'는 안된다!\n",
        "https://hjp845.tistory.com/54\n",
        "'''\n",
        "\n",
        "가 = 'a b c d e'.split( )\n",
        "나 = 'a b c d'.split()\n",
        "가 + 나"
      ],
      "metadata": {
        "colab": {
          "base_uri": "https://localhost:8080/"
        },
        "id": "pQzonpChh8-c",
        "outputId": "be826e9a-01b8-4a56-de07-322ea71754f8"
      },
      "execution_count": null,
      "outputs": [
        {
          "output_type": "execute_result",
          "data": {
            "text/plain": [
              "['a', 'b', 'c', 'd', 'e', 'a', 'b', 'c', 'd']"
            ]
          },
          "metadata": {},
          "execution_count": 13
        }
      ]
    },
    {
      "cell_type": "code",
      "source": [
        "가 - 나"
      ],
      "metadata": {
        "colab": {
          "base_uri": "https://localhost:8080/",
          "height": 172
        },
        "id": "RFCJKu-Eh85N",
        "outputId": "011b6ceb-c4de-47d7-f62d-f63a2bd9ca42"
      },
      "execution_count": null,
      "outputs": [
        {
          "output_type": "error",
          "ename": "TypeError",
          "evalue": "ignored",
          "traceback": [
            "\u001b[0;31m---------------------------------------------------------------------------\u001b[0m",
            "\u001b[0;31mTypeError\u001b[0m                                 Traceback (most recent call last)",
            "\u001b[0;32m<ipython-input-14-02b726fb9ad7>\u001b[0m in \u001b[0;36m<module>\u001b[0;34m()\u001b[0m\n\u001b[0;32m----> 1\u001b[0;31m \u001b[0m가\u001b[0m \u001b[0;34m-\u001b[0m \u001b[0m나\u001b[0m\u001b[0;34m\u001b[0m\u001b[0;34m\u001b[0m\u001b[0m\n\u001b[0m",
            "\u001b[0;31mTypeError\u001b[0m: unsupported operand type(s) for -: 'list' and 'list'"
          ]
        }
      ]
    },
    {
      "cell_type": "markdown",
      "source": [
        "### 2번 풀이 - 통과"
      ],
      "metadata": {
        "id": "s-MN7zePnqKF"
      }
    },
    {
      "cell_type": "code",
      "source": [
        "'''\n",
        "zip 함수\n",
        "\n",
        "서로 길이가 다른 리스트에 zip함수 적용\n",
        "https://dev-lagom.tistory.com/23\n",
        "'''\n",
        "\n",
        "def solution(participant, completion):\n",
        "    \n",
        "    sort_par = sorted(participant)\n",
        "    sort_com = sorted(completion)\n",
        "    \n",
        "    for p,c in zip(sort_par, sort_com):\n",
        "        if p != c:\n",
        "            return p\n",
        "    \n",
        "    return sort_par[-1]"
      ],
      "metadata": {
        "id": "cLvMrshmh82a"
      },
      "execution_count": null,
      "outputs": []
    },
    {
      "cell_type": "code",
      "source": [
        "'''\n",
        "pop 함수\n",
        "\n",
        "https://wikidocs.net/14#pop\n",
        "'''\n",
        "\n",
        "def solution(participant, completion):\n",
        "    \n",
        "    sort_par = sorted(participant)\n",
        "    sort_com = sorted(completion)\n",
        "    \n",
        "    for p,c in zip(sort_par, sort_com):\n",
        "        if p != c:\n",
        "            return p\n",
        "    \n",
        "    return sort_par.pop()"
      ],
      "metadata": {
        "id": "p8XKoV8doUPh"
      },
      "execution_count": null,
      "outputs": []
    },
    {
      "cell_type": "markdown",
      "source": [
        "## 2.직사각형 별찍기\n",
        "\n",
        "- https://programmers.co.kr/learn/courses/30/lessons/12969"
      ],
      "metadata": {
        "id": "2tyylcdwpIeM"
      }
    },
    {
      "cell_type": "markdown",
      "source": [
        "### 1번 풀이 - 틀림"
      ],
      "metadata": {
        "id": "MDmTenSOsEYd"
      }
    },
    {
      "cell_type": "code",
      "source": [
        "# a, b = map(int, input().strip().split(' '))\n",
        "\n",
        "a, b = 5, 3\n",
        "answer = (a*'*', '\\n')*b\n",
        "print(answer)"
      ],
      "metadata": {
        "colab": {
          "base_uri": "https://localhost:8080/"
        },
        "id": "AeXp5-G5oUMt",
        "outputId": "bebf57c1-d2f9-4259-bb41-83fe9d4741a5"
      },
      "execution_count": null,
      "outputs": [
        {
          "output_type": "stream",
          "name": "stdout",
          "text": [
            "('*****', '\\n', '*****', '\\n', '*****', '\\n')\n"
          ]
        }
      ]
    },
    {
      "cell_type": "markdown",
      "source": [
        "### 2번 풀이 - 정답"
      ],
      "metadata": {
        "id": "mJRq3ssQsHhb"
      }
    },
    {
      "cell_type": "code",
      "source": [
        "# 이걸로 해야한다!\n",
        "# https://dojang.io/mod/page/view.php?id=1224\n",
        "# https://gilu-world.tistory.com/40\n",
        "\n",
        "a, b = 5, 3\n",
        "answer = (a*'*' + '\\n')*b\n",
        "print(answer)"
      ],
      "metadata": {
        "colab": {
          "base_uri": "https://localhost:8080/"
        },
        "id": "UDczc27AoUKL",
        "outputId": "124ebfe5-ffad-470a-e059-16078872b521"
      },
      "execution_count": null,
      "outputs": [
        {
          "output_type": "stream",
          "name": "stdout",
          "text": [
            "*****\n",
            "*****\n",
            "*****\n",
            "\n"
          ]
        }
      ]
    },
    {
      "cell_type": "markdown",
      "source": [
        "### 추가 문제"
      ],
      "metadata": {
        "id": "ALqid1a2s-rI"
      }
    },
    {
      "cell_type": "code",
      "source": [
        "for i in range(3):\n",
        "  print((i+1)*'*')"
      ],
      "metadata": {
        "colab": {
          "base_uri": "https://localhost:8080/"
        },
        "id": "FXovGMCCoUHW",
        "outputId": "a274646a-0cea-4fd5-daaf-79c266802071"
      },
      "execution_count": null,
      "outputs": [
        {
          "output_type": "stream",
          "name": "stdout",
          "text": [
            "*\n",
            "**\n",
            "***\n"
          ]
        }
      ]
    },
    {
      "cell_type": "markdown",
      "source": [
        "## 3.x만큼 간격이 있는 n개의 숫자\n",
        "\n",
        "- https://programmers.co.kr/learn/courses/30/lessons/12954"
      ],
      "metadata": {
        "id": "pFBbOWbQt5eg"
      }
    },
    {
      "cell_type": "code",
      "source": [
        "def solution(x, n):\n",
        "    \n",
        "    answer = []\n",
        "    \n",
        "    for i in range(n):\n",
        "        i += 1 # =+는 아니다!\n",
        "        a = x*i\n",
        "        answer.append(a)\n",
        "        \n",
        "    return answer"
      ],
      "metadata": {
        "id": "TExyUaLFoT_l"
      },
      "execution_count": null,
      "outputs": []
    },
    {
      "cell_type": "code",
      "source": [
        "def solution(x, n):\n",
        "    answer = []\n",
        "    for i in range(1,n+1):\n",
        "        answer.append(x*i)\n",
        "    return answer"
      ],
      "metadata": {
        "id": "aT5nazhVvezl"
      },
      "execution_count": null,
      "outputs": []
    },
    {
      "cell_type": "markdown",
      "source": [
        "## 4.행렬의 덧셈\n",
        "\n",
        "- https://programmers.co.kr/learn/courses/30/lessons/12950"
      ],
      "metadata": {
        "id": "Nh7larknwnvY"
      }
    },
    {
      "cell_type": "code",
      "source": [
        "'''\n",
        "zip 함수\n",
        "'''\n",
        "\n",
        "arr1 = [[1,2],[2,3]]\n",
        "arr2 = [[3,4],[5,6]]\n",
        "arr1, arr2"
      ],
      "metadata": {
        "colab": {
          "base_uri": "https://localhost:8080/"
        },
        "id": "6KLH5uO4vexg",
        "outputId": "7b087545-d06a-48af-e96f-ab08d77e808d"
      },
      "execution_count": null,
      "outputs": [
        {
          "output_type": "execute_result",
          "data": {
            "text/plain": [
              "([[1, 2], [2, 3]], [[3, 4], [5, 6]])"
            ]
          },
          "metadata": {},
          "execution_count": 27
        }
      ]
    },
    {
      "cell_type": "code",
      "source": [
        "list(zip([1, 2, 3], [4, 5, 6]))"
      ],
      "metadata": {
        "colab": {
          "base_uri": "https://localhost:8080/"
        },
        "id": "AlvFPcCuzbdS",
        "outputId": "70b8b770-77ef-4295-b4b4-2d6a6a284ec6"
      },
      "execution_count": null,
      "outputs": [
        {
          "output_type": "execute_result",
          "data": {
            "text/plain": [
              "[(1, 4), (2, 5), (3, 6)]"
            ]
          },
          "metadata": {},
          "execution_count": 35
        }
      ]
    },
    {
      "cell_type": "code",
      "source": [
        "for a,b in zip(arr1, arr2):\n",
        "  print(a,b)"
      ],
      "metadata": {
        "colab": {
          "base_uri": "https://localhost:8080/"
        },
        "id": "kvQoiKZ3veu0",
        "outputId": "aaddde02-a15a-40ef-f997-cea75c485bc7"
      },
      "execution_count": null,
      "outputs": [
        {
          "output_type": "stream",
          "name": "stdout",
          "text": [
            "[1, 2] [3, 4]\n",
            "[2, 3] [5, 6]\n"
          ]
        }
      ]
    },
    {
      "cell_type": "code",
      "source": [
        "for a,b in zip(arr1, arr2):\n",
        "  print(a+b) # 이렇게 더할 수는 없다."
      ],
      "metadata": {
        "colab": {
          "base_uri": "https://localhost:8080/"
        },
        "id": "8FRXL2J3vese",
        "outputId": "16763dc1-d886-428e-fe59-fe4c1d98b91e"
      },
      "execution_count": null,
      "outputs": [
        {
          "output_type": "stream",
          "name": "stdout",
          "text": [
            "[1, 2, 3, 4]\n",
            "[2, 3, 5, 6]\n"
          ]
        }
      ]
    },
    {
      "cell_type": "code",
      "source": [
        "'''\n",
        "리스트 내포\n",
        "\n",
        "https://wikidocs.net/22#_1\n",
        "'''\n",
        "\n",
        "[[c + d for c,d in zip(a, b)] for a, b in zip(arr1, arr2)]"
      ],
      "metadata": {
        "colab": {
          "base_uri": "https://localhost:8080/"
        },
        "id": "YQkFV0Vzveph",
        "outputId": "9e89b7dc-18fb-4f89-f783-27ab11c67b36"
      },
      "execution_count": null,
      "outputs": [
        {
          "output_type": "execute_result",
          "data": {
            "text/plain": [
              "[[4, 6], [7, 9]]"
            ]
          },
          "metadata": {},
          "execution_count": 34
        }
      ]
    },
    {
      "cell_type": "code",
      "source": [
        "def solution(arr1, arr2): \n",
        "    answer = [[c + d for c,d in zip(a, b)] for a, b in zip(arr1, arr2)]\n",
        "    return answer"
      ],
      "metadata": {
        "id": "eeszy3J1vece"
      },
      "execution_count": null,
      "outputs": []
    },
    {
      "cell_type": "markdown",
      "source": [
        "## 5.핸드폰 번호 가리기\n",
        "\n",
        "- https://programmers.co.kr/learn/courses/30/lessons/12948"
      ],
      "metadata": {
        "id": "MZL4SUWHzjOx"
      }
    },
    {
      "cell_type": "markdown",
      "source": [
        "### 내 풀이"
      ],
      "metadata": {
        "id": "vaD9YUXE0iZJ"
      }
    },
    {
      "cell_type": "code",
      "source": [
        "def solution(phone_number):\n",
        "    star_len = len(phone_number[:-4])\n",
        "    star = star_len*'*'\n",
        "    real = phone_number[-4:]\n",
        "    answer = star+real\n",
        "    return answer"
      ],
      "metadata": {
        "id": "v8hW-sVCzmfX"
      },
      "execution_count": null,
      "outputs": []
    },
    {
      "cell_type": "markdown",
      "source": [
        "### 정답 풀이"
      ],
      "metadata": {
        "id": "NOK3nfVa0kSB"
      }
    },
    {
      "cell_type": "code",
      "source": [
        "def solution(phone_number):\n",
        "    return '*'*(len(phone_number)-4) + phone_number[-4:]"
      ],
      "metadata": {
        "id": "ESBa5Fp2zjGz"
      },
      "execution_count": null,
      "outputs": []
    },
    {
      "cell_type": "markdown",
      "source": [
        "## 6.하샤드 수\n",
        "\n",
        "- https://programmers.co.kr/learn/courses/30/lessons/12947"
      ],
      "metadata": {
        "id": "CMCJsad71_SM"
      }
    },
    {
      "cell_type": "markdown",
      "source": [
        "### 오답"
      ],
      "metadata": {
        "id": "a4Nh2FVJ3zs3"
      }
    },
    {
      "cell_type": "code",
      "source": [
        "'''\n",
        "split 함수\n",
        "'''\n",
        "def solution(x):\n",
        "    lst = str(x).split() # 안나눠진다!!\n",
        "    print(lst)\n",
        "    num = int(lst[0]) + int(lst[1])\n",
        "    if x%num == 0:\n",
        "        return true"
      ],
      "metadata": {
        "id": "iIB1872g3zQ5"
      },
      "execution_count": null,
      "outputs": []
    },
    {
      "cell_type": "code",
      "source": [
        "solution(10)"
      ],
      "metadata": {
        "colab": {
          "base_uri": "https://localhost:8080/",
          "height": 318
        },
        "id": "OAH1cLeT38vw",
        "outputId": "41eb3410-1924-4e64-a310-7af113c8de4c"
      },
      "execution_count": null,
      "outputs": [
        {
          "output_type": "stream",
          "name": "stdout",
          "text": [
            "['10']\n"
          ]
        },
        {
          "output_type": "error",
          "ename": "IndexError",
          "evalue": "ignored",
          "traceback": [
            "\u001b[0;31m---------------------------------------------------------------------------\u001b[0m",
            "\u001b[0;31mIndexError\u001b[0m                                Traceback (most recent call last)",
            "\u001b[0;32m<ipython-input-48-54ab054d5708>\u001b[0m in \u001b[0;36m<module>\u001b[0;34m()\u001b[0m\n\u001b[0;32m----> 1\u001b[0;31m \u001b[0msolution\u001b[0m\u001b[0;34m(\u001b[0m\u001b[0;36m10\u001b[0m\u001b[0;34m)\u001b[0m\u001b[0;34m\u001b[0m\u001b[0;34m\u001b[0m\u001b[0m\n\u001b[0m",
            "\u001b[0;32m<ipython-input-47-231182eb092e>\u001b[0m in \u001b[0;36msolution\u001b[0;34m(x)\u001b[0m\n\u001b[1;32m      2\u001b[0m     \u001b[0mlst\u001b[0m \u001b[0;34m=\u001b[0m \u001b[0mstr\u001b[0m\u001b[0;34m(\u001b[0m\u001b[0mx\u001b[0m\u001b[0;34m)\u001b[0m\u001b[0;34m.\u001b[0m\u001b[0msplit\u001b[0m\u001b[0;34m(\u001b[0m\u001b[0;34m)\u001b[0m\u001b[0;34m\u001b[0m\u001b[0;34m\u001b[0m\u001b[0m\n\u001b[1;32m      3\u001b[0m     \u001b[0mprint\u001b[0m\u001b[0;34m(\u001b[0m\u001b[0mlst\u001b[0m\u001b[0;34m)\u001b[0m\u001b[0;34m\u001b[0m\u001b[0;34m\u001b[0m\u001b[0m\n\u001b[0;32m----> 4\u001b[0;31m     \u001b[0mnum\u001b[0m \u001b[0;34m=\u001b[0m \u001b[0mint\u001b[0m\u001b[0;34m(\u001b[0m\u001b[0mlst\u001b[0m\u001b[0;34m[\u001b[0m\u001b[0;36m0\u001b[0m\u001b[0;34m]\u001b[0m\u001b[0;34m)\u001b[0m \u001b[0;34m+\u001b[0m \u001b[0mint\u001b[0m\u001b[0;34m(\u001b[0m\u001b[0mlst\u001b[0m\u001b[0;34m[\u001b[0m\u001b[0;36m1\u001b[0m\u001b[0;34m]\u001b[0m\u001b[0;34m)\u001b[0m\u001b[0;34m\u001b[0m\u001b[0;34m\u001b[0m\u001b[0m\n\u001b[0m\u001b[1;32m      5\u001b[0m     \u001b[0;32mif\u001b[0m \u001b[0mx\u001b[0m\u001b[0;34m%\u001b[0m\u001b[0mnum\u001b[0m \u001b[0;34m==\u001b[0m \u001b[0;36m0\u001b[0m\u001b[0;34m:\u001b[0m\u001b[0;34m\u001b[0m\u001b[0;34m\u001b[0m\u001b[0m\n\u001b[1;32m      6\u001b[0m         \u001b[0;32mreturn\u001b[0m \u001b[0mtrue\u001b[0m\u001b[0;34m\u001b[0m\u001b[0;34m\u001b[0m\u001b[0m\n",
            "\u001b[0;31mIndexError\u001b[0m: list index out of range"
          ]
        }
      ]
    },
    {
      "cell_type": "code",
      "source": [
        "'''\n",
        "나눗셈\n",
        "'''\n",
        "\n",
        "7/2 # 그냥 나누기!"
      ],
      "metadata": {
        "colab": {
          "base_uri": "https://localhost:8080/"
        },
        "id": "qdGGOve5zjEV",
        "outputId": "7cd2ce2e-cf73-4133-8806-4222657e53b7"
      },
      "execution_count": null,
      "outputs": [
        {
          "output_type": "execute_result",
          "data": {
            "text/plain": [
              "3.5"
            ]
          },
          "metadata": {},
          "execution_count": 39
        }
      ]
    },
    {
      "cell_type": "code",
      "source": [
        "7//2 # 몫만!"
      ],
      "metadata": {
        "colab": {
          "base_uri": "https://localhost:8080/"
        },
        "id": "FMMnHKTRzjBw",
        "outputId": "5a3395b6-05c7-4f0f-e7ed-674229d8deca"
      },
      "execution_count": null,
      "outputs": [
        {
          "output_type": "execute_result",
          "data": {
            "text/plain": [
              "3"
            ]
          },
          "metadata": {},
          "execution_count": 40
        }
      ]
    },
    {
      "cell_type": "code",
      "source": [
        "7%2 # 나머지만!"
      ],
      "metadata": {
        "colab": {
          "base_uri": "https://localhost:8080/"
        },
        "id": "eyMiC4gbzi-9",
        "outputId": "63c9fa7e-042b-4930-98c8-950c9e749c1f"
      },
      "execution_count": null,
      "outputs": [
        {
          "output_type": "execute_result",
          "data": {
            "text/plain": [
              "1"
            ]
          },
          "metadata": {},
          "execution_count": 41
        }
      ]
    },
    {
      "cell_type": "markdown",
      "source": [
        "### 정답"
      ],
      "metadata": {
        "id": "puHAOtAx31lz"
      }
    },
    {
      "cell_type": "markdown",
      "source": [
        "#### 다른 사람"
      ],
      "metadata": {
        "id": "53TEOdVP5kIW"
      }
    },
    {
      "cell_type": "code",
      "source": [
        "def solution(x):\n",
        "    return x % sum([int(n) for n in str(x)]) == 0"
      ],
      "metadata": {
        "id": "INS54fc2y0Ov"
      },
      "execution_count": null,
      "outputs": []
    },
    {
      "cell_type": "markdown",
      "source": [
        "#### 내 풀이"
      ],
      "metadata": {
        "id": "m6-BlMLU5nhK"
      }
    },
    {
      "cell_type": "code",
      "source": [
        "def solution(x):\n",
        "    for i in str(x):\n",
        "      print(i)"
      ],
      "metadata": {
        "id": "UNoF3XyYy0L7"
      },
      "execution_count": null,
      "outputs": []
    },
    {
      "cell_type": "code",
      "source": [
        "solution(10)"
      ],
      "metadata": {
        "colab": {
          "base_uri": "https://localhost:8080/"
        },
        "id": "R5t2gW6xy0JU",
        "outputId": "04d60d39-6c4a-45d2-e063-2a9dc8f94d92"
      },
      "execution_count": null,
      "outputs": [
        {
          "output_type": "stream",
          "name": "stdout",
          "text": [
            "1\n",
            "0\n"
          ]
        }
      ]
    },
    {
      "cell_type": "code",
      "source": [
        "def solution(x):\n",
        "    a = 0\n",
        "    for i in str(x):\n",
        "        a += int(i)\n",
        "    print(a)"
      ],
      "metadata": {
        "id": "5WP3aSK75CnK"
      },
      "execution_count": null,
      "outputs": []
    },
    {
      "cell_type": "code",
      "source": [
        "solution(12)"
      ],
      "metadata": {
        "colab": {
          "base_uri": "https://localhost:8080/"
        },
        "id": "DxwRfgHu5Ckt",
        "outputId": "d0e438a9-5cf6-45a2-916e-beba48f1206d"
      },
      "execution_count": null,
      "outputs": [
        {
          "output_type": "stream",
          "name": "stdout",
          "text": [
            "3\n"
          ]
        }
      ]
    },
    {
      "cell_type": "code",
      "source": [
        "def solution(x):\n",
        "    a = 0\n",
        "    for i in str(x):\n",
        "        a += int(i)\n",
        "    return x%a==0"
      ],
      "metadata": {
        "id": "xah03xjF5Cic"
      },
      "execution_count": null,
      "outputs": []
    },
    {
      "cell_type": "markdown",
      "source": [
        "## 7.평균 구하기\n",
        "\n",
        "- https://programmers.co.kr/learn/courses/30/lessons/12944"
      ],
      "metadata": {
        "id": "YPKwZ_Dy6tUs"
      }
    },
    {
      "cell_type": "code",
      "source": [
        "def solution(arr):\n",
        "    return sum(arr) / len(arr)\n",
        "\n",
        "#############################################\n",
        "###   1)\n",
        "###   return (sum(arr) / len(arr))\n",
        "###\n",
        "###   2)\n",
        "###   answer = 0\n",
        "###   for i in arr:\n",
        "###       answer += i\n",
        "###   return answer / len(arr)\n",
        "###\n",
        "###   3)\n",
        "###   if len(arr) == 0:\n",
        "###       return 0\n",
        "###\n",
        "###   return sum(list) / len(list)\n",
        "########################################"
      ],
      "metadata": {
        "id": "OgJT3H2U5pfN"
      },
      "execution_count": null,
      "outputs": []
    },
    {
      "cell_type": "markdown",
      "source": [
        "## 8.콜라츠 추측\n",
        "\n",
        "- https://programmers.co.kr/learn/courses/30/lessons/12943"
      ],
      "metadata": {
        "id": "4DI8v1-l7eYR"
      }
    },
    {
      "cell_type": "markdown",
      "source": [
        "### 버전 업뎃 되면서 실패됨"
      ],
      "metadata": {
        "id": "IykUiknzX7XZ"
      }
    },
    {
      "cell_type": "code",
      "source": [
        "'''\n",
        "파이썬의 조건부 표현식(conditional expression)을 사용\n",
        "https://wikidocs.net/20#_3\n",
        "'''\n",
        "\n",
        "def solution(num):\n",
        "    for i in range(500):\n",
        "        num = num/2 if num % 2 ==0 else num*3 +1\n",
        "        if num == 1:\n",
        "            return i+1\n",
        "    return -1"
      ],
      "metadata": {
        "id": "H9Dlqvhk5pai"
      },
      "execution_count": null,
      "outputs": []
    },
    {
      "cell_type": "markdown",
      "source": [
        "### 성공!"
      ],
      "metadata": {
        "id": "JH09Jl6lX9Wq"
      }
    },
    {
      "cell_type": "code",
      "source": [
        "# 중복된 if문을 위에서 제거 가능하다.\n",
        "\n",
        "def solution(num):\n",
        "    \n",
        "    if num == 1:\n",
        "        return 0\n",
        "    \n",
        "    for i in range(500):\n",
        "\n",
        "        if num % 2 == 0:\n",
        "            num = num/2\n",
        "            if num == 1:\n",
        "                return i+1\n",
        "        else:\n",
        "            num = num*3+1\n",
        "            if num == 1:\n",
        "                return i+1\n",
        "        \n",
        "    return -1"
      ],
      "metadata": {
        "id": "kIg4UP8C5pcp"
      },
      "execution_count": null,
      "outputs": []
    },
    {
      "cell_type": "code",
      "source": [
        "##########################################################\n",
        "###\n",
        "###   1)\n",
        "###   for i in range(500):\n",
        "###       num = num / 2 if num % 2 == 0 else num*3 + 1\n",
        "###       if num == 1:\n",
        "###            return i + 1\n",
        "###    return -1\n",
        "###\n",
        "###\n",
        "###   2)\n",
        "###    answer = 0 #작업횟수 초기화\n",
        "###    while True: #수마다 몇회 반복해야 할지 모르므로 무한루프\n",
        "###         if num == 1: #입력받은 수가 1일경우 answer를 리턴\n",
        "###             return answer\n",
        "###\n",
        "###         if answer == 500: #작업 횟수가 500이 되면 -1을 리턴\n",
        "###            return -1\n",
        "###\n",
        "###         if num % 2 == 0: #입력받은 수가 짝수 일경우 2로 나눈값을 변수에 담는다. \n",
        "###             num = num / 2\n",
        "###\n",
        "###        elif num % 2 == 1: #입력받은 수가 홀수 일경우 3을 곱하고 1을 더해준다.\n",
        "###            num = num * 3 + 1\n",
        "###\n",
        "###        answer += 1 #위의 작업을 마치고 작업횟수를 1더해준다\n",
        "##################################################################"
      ],
      "metadata": {
        "id": "RsL73b_f5pXv"
      },
      "execution_count": null,
      "outputs": []
    },
    {
      "cell_type": "markdown",
      "source": [
        "## 9.최대공약수와 최소공배수\n",
        "\n",
        "- https://programmers.co.kr/learn/courses/30/lessons/12940"
      ],
      "metadata": {
        "id": "m0dcKMb5bTKr"
      }
    },
    {
      "cell_type": "code",
      "source": [
        "# 유클리드 호제법으로 푼다!\n",
        "# https://myjamong.tistory.com/138\n",
        "\n",
        "def solution(a, b):\n",
        "    c, d = max(a, b), min(a, b)\n",
        "    t = 1\n",
        "    while t > 0:\n",
        "        t = c % d\n",
        "        c, d = d, t\n",
        "    answer = [c, int(a*b)/c]\n",
        "    return answer"
      ],
      "metadata": {
        "id": "XDUJP-f3bTCG"
      },
      "execution_count": null,
      "outputs": []
    },
    {
      "cell_type": "code",
      "source": [
        "def gcd(a, b):\n",
        "    if a < b:\n",
        "        (a, b) = (b, a)\n",
        "    while b != 0:\n",
        "        (a, b) = (b, a % b)\n",
        "    return a\n",
        " \n",
        "def solution(n, m):\n",
        "    return [gcd(n,m), n*m/gcd(n,m)]"
      ],
      "metadata": {
        "id": "aJiRmDXLbS_8"
      },
      "execution_count": null,
      "outputs": []
    },
    {
      "cell_type": "markdown",
      "source": [
        "## 10.짝수와 홀수\n",
        "\n",
        "- https://programmers.co.kr/learn/courses/30/lessons/12937"
      ],
      "metadata": {
        "id": "Z8_L4CGljP5N"
      }
    },
    {
      "cell_type": "code",
      "source": [
        "def solution(num):\n",
        "    answer = 'Even' if num%2==0 else 'Odd'\n",
        "    return answer"
      ],
      "metadata": {
        "id": "phhaQb4JbS9q"
      },
      "execution_count": null,
      "outputs": []
    },
    {
      "cell_type": "markdown",
      "source": [
        "## 11.제일 작은 수 제거하기\n",
        "\n",
        "- https://programmers.co.kr/learn/courses/30/lessons/12935"
      ],
      "metadata": {
        "id": "A-Etq1LojiMR"
      }
    },
    {
      "cell_type": "code",
      "source": [
        "'''\n",
        "remove, pop 함수!\n",
        "\n",
        "https://redcow77.tistory.com/359\n",
        "'''\n",
        "\n",
        "def solution(arr):\n",
        "    arr.remove(min(arr))\n",
        "    if arr != True:\n",
        "        return [-1]\n",
        "    return arr"
      ],
      "metadata": {
        "id": "UlB94gwejiDl"
      },
      "execution_count": null,
      "outputs": []
    },
    {
      "cell_type": "code",
      "source": [
        "def solution(arr):\n",
        "    i = arr.index(min(arr))\n",
        "    arr.pop(i)\n",
        "    return arr or [-1] # 이게 개쩌는구나!! False면 or 뒤가 나오는 것이다!!"
      ],
      "metadata": {
        "id": "NEMqq-0bjiAq"
      },
      "execution_count": null,
      "outputs": []
    },
    {
      "cell_type": "code",
      "source": [
        "def solution(arr):\n",
        "    arr.remove(min(arr))\n",
        "    return arr or [-1]"
      ],
      "metadata": {
        "id": "In5f1gQCjh-L",
        "outputId": "cd550669-2275-4bb1-eeb4-08489a4b6981",
        "colab": {
          "base_uri": "https://localhost:8080/"
        }
      },
      "execution_count": null,
      "outputs": [
        {
          "output_type": "stream",
          "name": "stdout",
          "text": [
            "4\n"
          ]
        }
      ]
    },
    {
      "cell_type": "code",
      "source": [
        "'''\n",
        "1)\n",
        "index(x) 함수는 리스트에 x 값이 있으면 x의 위치 값을 돌려준다\n",
        ">>> a.index(3)\n",
        "2\n",
        ">>> a = [1,2,3]\n",
        ">>> a.index(1)\n",
        "0\n",
        "\n",
        "\n",
        "2)\n",
        "pop()은 리스트의 맨 마지막 요소를 돌려주고 그 요소는 삭제한다.\n",
        ">>> a = [1,2,3]\n",
        ">>> a.pop()\n",
        "3\n",
        ">>> a\n",
        "[1, 2]\n",
        "\n",
        "\n",
        "3)\n",
        "return A or B\n",
        "파이썬에서 0, [], \" \", False 등등은 거짓 그 외에 나머지 값은 참\n",
        "리스트가 빈 리스트라면(거짓) or에 의해서 참인 값 [-1]을 return 한다\n",
        "'''"
      ],
      "metadata": {
        "id": "0KFruXrZjh7P"
      },
      "execution_count": null,
      "outputs": []
    },
    {
      "cell_type": "markdown",
      "source": [
        "## 12.정수 제곱근 판별\n",
        "\n",
        "- https://programmers.co.kr/learn/courses/30/lessons/12934"
      ],
      "metadata": {
        "id": "MXJhbS7Foon4"
      }
    },
    {
      "cell_type": "code",
      "source": [
        "def solution(n):\n",
        "    num = n**(1/2)\n",
        "    if num == int(num):\n",
        "        return (num+1)**2    \n",
        "    return -1"
      ],
      "metadata": {
        "id": "prwcTy00jh4q"
      },
      "execution_count": null,
      "outputs": []
    },
    {
      "cell_type": "code",
      "source": [
        "'''\n",
        "def solution(n):\n",
        "    num = pow(n, 0.5)\n",
        "    # num = n ** (1/2)\n",
        "\n",
        "    if num == int(num) :\n",
        "        return (num+1)**2\n",
        "\n",
        "    return -1\n",
        "'''"
      ],
      "metadata": {
        "id": "eZeTY_-qbS7N"
      },
      "execution_count": null,
      "outputs": []
    },
    {
      "cell_type": "markdown",
      "source": [
        "## 13.정수 내림차순으로 배치하기\n",
        "\n",
        "- https://programmers.co.kr/learn/courses/30/lessons/12933"
      ],
      "metadata": {
        "id": "oXLzxtftseby"
      }
    },
    {
      "cell_type": "code",
      "source": [
        "'''\n",
        "리스트 내포, join 함수\n",
        "\n",
        "https://wikidocs.net/22#_1\n",
        "https://devpouch.tistory.com/77\n",
        "'''\n",
        "\n",
        "def solution(n):\n",
        "    box = [i for i in str(n)]\n",
        "    box.sort(reverse=True)\n",
        "    answer = ''.join(box)\n",
        "    return int(answer)"
      ],
      "metadata": {
        "id": "yyWqDKjYsh8s"
      },
      "execution_count": null,
      "outputs": []
    },
    {
      "cell_type": "code",
      "source": [
        "def solution(n):\n",
        "    ls = list(str(n))\n",
        "    ls.sort(reverse = True)\n",
        "    return int(''.join(ls))"
      ],
      "metadata": {
        "id": "IT117pfPsh6S"
      },
      "execution_count": null,
      "outputs": []
    },
    {
      "cell_type": "code",
      "source": [
        "'''\n",
        "sort()는 오름차순 정렬\n",
        "sort(reverse = True)는 내림차순 정렬\n",
        "reverse( )는 단순히 리스트의 순서를 뒤집는 것\n",
        "sorted()는 새로운 리스트를 반환, 오름차순\n",
        "sorted(reverse=True)는 내림차순\n",
        "\n",
        "split(구분자)는 문자열을 쪼개 리스트로 반환\n",
        ">>> a = \"Life is too short\"\n",
        ">>> a.split()\n",
        "['Life', 'is', 'too', 'short']\n",
        ">>> b = \"a:b:c:d\"\n",
        ">>> b.split(':')\n",
        "['a', 'b', 'c', 'd']\n",
        "\n",
        "\"\".join(리스트)는 리스트의 문자열들을 합치는 역할\n",
        "'''"
      ],
      "metadata": {
        "id": "vgBcb3sFsh3l"
      },
      "execution_count": null,
      "outputs": []
    },
    {
      "cell_type": "markdown",
      "source": [
        "## 14.자연수 뒤집어 배열로 만들기\n",
        "\n",
        "- https://programmers.co.kr/learn/courses/30/lessons/12932"
      ],
      "metadata": {
        "id": "aPfAsCrm1sv0"
      }
    },
    {
      "cell_type": "code",
      "source": [
        "'''\n",
        "[::-1]\n",
        "\n",
        "순서 뒤집기!!\n",
        "'''\n",
        "\n",
        "def solution(n):\n",
        "    return [int(i) for i in str(n)][::-1]"
      ],
      "metadata": {
        "id": "pKbooCQksh1I"
      },
      "execution_count": null,
      "outputs": []
    },
    {
      "cell_type": "markdown",
      "source": [
        "## 15.자릿수 더하기\n",
        "\n",
        "- https://programmers.co.kr/learn/courses/30/lessons/12931"
      ],
      "metadata": {
        "id": "m-N-ulD138eB"
      }
    },
    {
      "cell_type": "code",
      "source": [
        "def solution(n):\n",
        "\n",
        "    return sum([int(i) for i in str(n)])"
      ],
      "metadata": {
        "id": "InhvfhONbS47"
      },
      "execution_count": null,
      "outputs": []
    },
    {
      "cell_type": "code",
      "source": [
        "'''\n",
        "sum()은 Iterable인 list, tuple, dictionary의 합을 리턴하는 함수입니다. \n",
        "숫자만 가능하며, 숫자가 아닌 객체가 있을 때 TypeError가 발생합니다.\n",
        "\n",
        "sum(iterable) : iterable의 합\n",
        "sum(iterable, num) : start + num의 합\n",
        "\n",
        "\n",
        "list = [10, 22, 19, 2, 9, 3]\n",
        "sum_list = sum(list)\n",
        "print(sum_list)\n",
        ">>>65\n",
        "'''"
      ],
      "metadata": {
        "id": "4p3P2w8UbS2Q"
      },
      "execution_count": null,
      "outputs": []
    },
    {
      "cell_type": "markdown",
      "source": [
        "## 16.이상한 문자 만들기\n",
        "\n",
        "- https://programmers.co.kr/learn/courses/30/lessons/12930"
      ],
      "metadata": {
        "id": "QQfvUZBA5F-o"
      }
    },
    {
      "cell_type": "code",
      "source": [
        "'''\n",
        "split 함수\n",
        "\n",
        "split()과 split(' ')이 똑같지만 그래도 확실하게 후자를 사용하자!\n",
        "'''\n",
        "\n",
        "def solution(s):\n",
        "    \n",
        "    total = []\n",
        "    for i in s.split(' '):\n",
        "        \n",
        "        box = []\n",
        "        for num, j in enumerate(str(i)):\n",
        "            if num % 2 == 0:\n",
        "                box.append(j.upper())\n",
        "            else:\n",
        "                box.append(j.lower())\n",
        "        plus = ''.join(box)\n",
        "        total.append(plus)\n",
        "    \n",
        "\n",
        "    return ' '.join(total)"
      ],
      "metadata": {
        "id": "gRb1tUcz5Cf2"
      },
      "execution_count": null,
      "outputs": []
    },
    {
      "cell_type": "code",
      "source": [
        "def solution(s):\n",
        "    final = []\n",
        "    for x in s.split(\" \"):\n",
        "        word = ''\n",
        "        for i in range(len(x)):\n",
        "            a = x[i].upper() if i%2 == 0 else x[i].lower()\n",
        "            word = word + a\n",
        "        final.append(word)\n",
        "    return \" \".join(final)"
      ],
      "metadata": {
        "id": "tMsWxXYn4_AD"
      },
      "execution_count": null,
      "outputs": []
    },
    {
      "cell_type": "code",
      "source": [
        "def solution(s):\n",
        "    return \" \".join(map(lambda x: \"\".join([a.lower() if i % 2 else a.upper() for i, a in enumerate(x)]), s.split(\" \")))"
      ],
      "metadata": {
        "id": "thUrSAyO4--B"
      },
      "execution_count": null,
      "outputs": []
    },
    {
      "cell_type": "markdown",
      "source": [
        "## 17.약수의 합\n",
        "\n",
        "- https://programmers.co.kr/learn/courses/30/lessons/12928"
      ],
      "metadata": {
        "id": "158nPuGK9MWk"
      }
    },
    {
      "cell_type": "code",
      "source": [
        "def solution(n):\n",
        "    \n",
        "    box = []\n",
        "    for i in range(n):\n",
        "        print(i)\n",
        "        if n%(i+1)==0:\n",
        "            print('yes')\n",
        "            box.append(i+1)\n",
        "    print(box)\n",
        "    answer = sum(box)\n",
        "    return answer"
      ],
      "metadata": {
        "id": "n5GkXfpa9MPl"
      },
      "execution_count": null,
      "outputs": []
    },
    {
      "cell_type": "code",
      "source": [
        "solution(12)"
      ],
      "metadata": {
        "id": "3x3FMZDH9MM5",
        "outputId": "b8c2e527-c28a-4d26-cca6-3d5340f6d0f8",
        "colab": {
          "base_uri": "https://localhost:8080/"
        }
      },
      "execution_count": null,
      "outputs": [
        {
          "output_type": "stream",
          "name": "stdout",
          "text": [
            "0\n",
            "yes\n",
            "1\n",
            "yes\n",
            "2\n",
            "yes\n",
            "3\n",
            "yes\n",
            "4\n",
            "5\n",
            "yes\n",
            "6\n",
            "7\n",
            "8\n",
            "9\n",
            "10\n",
            "11\n",
            "yes\n",
            "[1, 2, 3, 4, 6, 12]\n"
          ]
        },
        {
          "output_type": "execute_result",
          "data": {
            "text/plain": [
              "28"
            ]
          },
          "metadata": {},
          "execution_count": 49
        }
      ]
    },
    {
      "cell_type": "code",
      "source": [
        "def solution(n):\n",
        "    \n",
        "    box = []\n",
        "    for i in range(n):\n",
        "        if n%(i+1)==0:\n",
        "            box.append(i+1)\n",
        "    \n",
        "    answer = sum(box)\n",
        "    return answer"
      ],
      "metadata": {
        "id": "pWqIr7sn9MKh"
      },
      "execution_count": null,
      "outputs": []
    },
    {
      "cell_type": "code",
      "source": [
        "# range에서 시작과 끝, 간격을 설정할 수 있다!\n",
        "\n",
        "def solution(n):\n",
        "    answer = 0 \n",
        "    for i in range(1, n+1) :\n",
        "        if n % i == 0 :\n",
        "            answer += i\n",
        "    return answer"
      ],
      "metadata": {
        "id": "2Mnq6ExrBqAq"
      },
      "execution_count": null,
      "outputs": []
    },
    {
      "cell_type": "code",
      "source": [
        "for i in range(1,10,2):\n",
        "  print(i)"
      ],
      "metadata": {
        "id": "vpTXXI1xBvSG",
        "outputId": "bac1ef83-926d-4836-824a-022619bc96c1",
        "colab": {
          "base_uri": "https://localhost:8080/"
        }
      },
      "execution_count": null,
      "outputs": [
        {
          "output_type": "stream",
          "name": "stdout",
          "text": [
            "1\n",
            "3\n",
            "5\n",
            "7\n",
            "9\n"
          ]
        }
      ]
    },
    {
      "cell_type": "code",
      "source": [
        "def solution(n):\n",
        "    # num / 2 의 수들만 검사하면 성능 약 2배 향상잼\n",
        "    return n + sum([i for i in range(1, (n // 2) + 1) if n % i == 0])"
      ],
      "metadata": {
        "id": "_EZdet5U9MIA"
      },
      "execution_count": null,
      "outputs": []
    },
    {
      "cell_type": "markdown",
      "source": [
        "## 18.시저 암호\n",
        "\n",
        "- https://programmers.co.kr/learn/courses/30/lessons/12926"
      ],
      "metadata": {
        "id": "GGHQ3R5gB7G7"
      }
    },
    {
      "cell_type": "code",
      "source": [
        "'''\n",
        "ord(), chr() 함수\n",
        "\n",
        "https://wikidocs.net/32\n",
        "'''\n",
        "\n",
        "def solution(s, n):\n",
        "    s = list(s)\n",
        "    for i in range(len(s)):\n",
        "        if s[i].isupper():\n",
        "            s[i] = chr((ord(s[i])-ord('A')+n)%26 + ord('A'))\n",
        "        elif s[i].islower():\n",
        "            s[i] = chr((ord(s[i])-ord('a')+n)%26 + ord('a'))\n",
        "    return ''.join(s)\n",
        "\n",
        "\n",
        "'''\n",
        "1)\n",
        "def solution(s, n):\n",
        "    s = list(s)\n",
        "    for i in range(len(s)):\n",
        "        if s[i].isupper():\n",
        "            s[i]=chr((ord(s[i])-ord('A')+ n)%26+ord('A')) # 알파벳은 26개\n",
        "        elif s[i].islower():\n",
        "            s[i]=chr((ord(s[i])-ord('a')+ n)%26+ord('a'))\n",
        "\n",
        "    return \"\".join(s)\n",
        "\n",
        "\n",
        "2)\n",
        "def solution(s, n):\n",
        "    alpha_upper = \"ABCDEFGHIJKLMNOPQRSTUVWXYZ\"\n",
        "    alpha_lower = \"abcdefghijklmnopqrstuvwxyz\"\n",
        "    s_n = []\n",
        "    \n",
        "    for i in range(len(s)):\n",
        "        if s[i] == ' ': \n",
        "            s_n.append(' ')\n",
        "        if s[i].isupper():\n",
        "            index = alpha_upper.find(s[i])\n",
        "            s_n.append(alpha_upper[(index+n)%26])\n",
        "        elif s[i].islower():\n",
        "            index = alpha_lower.find(s[i])\n",
        "            s_n.append(alpha_lower[(index+n)%26])\n",
        "    return ''.join(s_n)\n",
        "'''\n",
        "\n",
        "\n",
        "'''\n",
        "1)\n",
        "ord(c)는 문자의 유니코드 값을 돌려주는 함수이다.\n",
        "※ ord 함수는 chr 함수와 반대이다.\n",
        "\n",
        ">>> ord('a')\n",
        "97\n",
        ">>> ord('가')\n",
        "44032\n",
        "\n",
        "2)\n",
        "위치 알려주기1(find)\n",
        "문자열 중 문자 b가 처음으로 나온 위치를 반환한다. 만약 찾는 문자나 문자열이 존재하지 않는다면 -1을 반환한다.\n",
        "※ 파이썬은 숫자를 0부터 세기 때문에 b의 위치는 15가 아닌 14가 된다.\n",
        ">>> a = \"Python is the best choice\"\n",
        ">>> a.find('b')\n",
        "14\n",
        ">>> a.find('k')\n",
        "-1\n",
        "\n",
        "'''"
      ],
      "metadata": {
        "id": "7hhV5G6cB69U"
      },
      "execution_count": null,
      "outputs": []
    },
    {
      "cell_type": "markdown",
      "source": [
        "## 19.문자열을 정수로 바꾸기\n",
        "\n",
        "- https://programmers.co.kr/learn/courses/30/lessons/12925"
      ],
      "metadata": {
        "id": "pmyGYjRcEO9D"
      }
    },
    {
      "cell_type": "markdown",
      "source": [
        "### 오답"
      ],
      "metadata": {
        "id": "3sZqIr3wem-5"
      }
    },
    {
      "cell_type": "code",
      "source": [
        "'''\n",
        "리스트 내포 + if, else\n",
        "\n",
        "https://devpouch.tistory.com/76\n",
        "https://www.delftstack.com/ko/howto/python/python-list-comprehension-if-else/\n",
        "'''\n",
        "\n",
        "def solution(s):\n",
        "  i if i == '-' for i in s"
      ],
      "metadata": {
        "id": "9Y_5dWkMB667"
      },
      "execution_count": null,
      "outputs": []
    },
    {
      "cell_type": "code",
      "source": [
        "def solution(s):\n",
        "    \n",
        "    number = 0\n",
        "    [num*(-1) if i == '-' else number = i*(10**num) for num, i in enumerate(s)]\n",
        "    \n",
        "    return number"
      ],
      "metadata": {
        "id": "bUG78eA2B64g"
      },
      "execution_count": null,
      "outputs": []
    },
    {
      "cell_type": "markdown",
      "source": [
        "### 업뎃 되면서 오답됨."
      ],
      "metadata": {
        "id": "HB6cUEgBeoU5"
      }
    },
    {
      "cell_type": "code",
      "source": [
        "def solution(s):\n",
        "    \n",
        "    number = 0\n",
        "    for num, i in enumerate(s[::-1]):\n",
        "        if i != '-':\n",
        "            number += int(i)*(10**num)\n",
        "        else:\n",
        "            number *= -1\n",
        "    return number"
      ],
      "metadata": {
        "id": "hUK7UHyQB61_"
      },
      "execution_count": null,
      "outputs": []
    },
    {
      "cell_type": "code",
      "source": [
        "def solution(str):\n",
        "    answer = 0\n",
        "    for idx, num in enumerate(str[::-1]):\n",
        "        if num == '-':\n",
        "            answer *= -1\n",
        "        else:\n",
        "            answer += int(num)*(10**idx)\n",
        "    return answer"
      ],
      "metadata": {
        "id": "qAqzlfhaB6zx"
      },
      "execution_count": null,
      "outputs": []
    },
    {
      "cell_type": "markdown",
      "source": [
        "### 정답"
      ],
      "metadata": {
        "id": "eNN83YUjfOoO"
      }
    },
    {
      "cell_type": "code",
      "source": [
        "def solution(str):\n",
        "    return int(str)"
      ],
      "metadata": {
        "id": "sQ5pRIa_B6w_"
      },
      "execution_count": null,
      "outputs": []
    },
    {
      "cell_type": "markdown",
      "source": [
        "## 20.수박수박수박수박수박수?\n",
        "\n",
        "- https://programmers.co.kr/learn/courses/30/lessons/12922"
      ],
      "metadata": {
        "id": "f-MAhO8BfjCi"
      }
    },
    {
      "cell_type": "code",
      "source": [
        "def solution(n):\n",
        "    \n",
        "    answer = ''\n",
        "    for i in range(n):\n",
        "        if i%2 != 0:\n",
        "            answer += '박'\n",
        "        else:\n",
        "            answer += '수'\n",
        "    \n",
        "    return answer"
      ],
      "metadata": {
        "id": "YhlFlGgMfj4B"
      },
      "execution_count": null,
      "outputs": []
    },
    {
      "cell_type": "code",
      "source": [
        "def solution(n):\n",
        "    count = '수박'*n\n",
        "    return count[:n]\n",
        "\n",
        "\n",
        "\n",
        "'''\n",
        "1)\n",
        "def solution(n):\n",
        "    return \"수박\"*(n//2) + \"수\"*(n%2)\n",
        "\n",
        "\n",
        "2)\n",
        "def solution(n):\n",
        "    s = \"수박\" * n\n",
        "    return s[:n]\n",
        "'''"
      ],
      "metadata": {
        "id": "PbLRSRG4fj15"
      },
      "execution_count": null,
      "outputs": []
    },
    {
      "cell_type": "markdown",
      "source": [
        "## 21.소수 찾기\n",
        "\n",
        "https://programmers.co.kr/learn/courses/30/lessons/12921"
      ],
      "metadata": {
        "id": "qpEipLRGgjtK"
      }
    },
    {
      "cell_type": "code",
      "source": [
        "'''\n",
        "집합 계산\n",
        "\n",
        "https://wikidocs.net/1015\n",
        "'''\n",
        "\n",
        "\n",
        "def solution(n):\n",
        "    num = set(range(2,n+1))\n",
        "\n",
        "    for i in range(2,n+1):\n",
        "        print(i)\n",
        "        if i in num:\n",
        "            num -= set(range(2*i,n+1,i))\n",
        "            print(num)\n",
        "    return len(num)\n",
        "\n",
        "'''\n",
        "1)[파이썬] 에라토스테네스의 체\n",
        "\n",
        "def solution(n):\n",
        "    num=set(range(2,n+1)) # 2부터 n까지의 집합\n",
        "\n",
        "    for i in range(2,n+1): # 2부터 n까지 반복문\n",
        "        if i in num: # 만약 i가 num 집합에 있다면\n",
        "            num-=set(range(2*i,n+1,i)) # i의 배수는 num 집합에서 제외\n",
        "    return len(num) # num에 남아있는 숫자의 개수가 소수의 개수\n",
        "'''"
      ],
      "metadata": {
        "id": "EfrpRht0gp0w",
        "outputId": "6b516c94-345e-4138-801e-6cbb303a0fc4",
        "colab": {
          "base_uri": "https://localhost:8080/",
          "height": 90
        }
      },
      "execution_count": 75,
      "outputs": [
        {
          "output_type": "execute_result",
          "data": {
            "application/vnd.google.colaboratory.intrinsic+json": {
              "type": "string"
            },
            "text/plain": [
              "'\\n1)[파이썬] 에라토스테네스의 체\\n\\ndef solution(n):\\n    num=set(range(2,n+1)) # 2부터 n까지의 집합\\n\\n    for i in range(2,n+1): # 2부터 n까지 반복문\\n        if i in num: # 만약 i가 num 집합에 있다면\\n            num-=set(range(2*i,n+1,i)) # i의 배수는 num 집합에서 제외\\n    return len(num) # num에 남아있는 숫자의 개수가 소수의 개수\\n'"
            ]
          },
          "metadata": {},
          "execution_count": 75
        }
      ]
    },
    {
      "cell_type": "code",
      "source": [
        "solution(10)"
      ],
      "metadata": {
        "id": "TErfIniBfjzV",
        "outputId": "71d9c20b-34c6-4729-8cb2-2f8112907068",
        "colab": {
          "base_uri": "https://localhost:8080/"
        }
      },
      "execution_count": 76,
      "outputs": [
        {
          "output_type": "stream",
          "name": "stdout",
          "text": [
            "2\n",
            "{2, 3, 5, 7, 9}\n",
            "3\n",
            "{2, 3, 5, 7}\n",
            "4\n",
            "5\n",
            "{2, 3, 5, 7}\n",
            "6\n",
            "7\n",
            "{2, 3, 5, 7}\n",
            "8\n",
            "9\n",
            "10\n"
          ]
        },
        {
          "output_type": "execute_result",
          "data": {
            "text/plain": [
              "4"
            ]
          },
          "metadata": {},
          "execution_count": 76
        }
      ]
    },
    {
      "cell_type": "code",
      "source": [
        "s1 = set([1, 2, 3, 4, 5, 6])\n",
        "s2 = set([4, 5, 6, 7, 8, 9])"
      ],
      "metadata": {
        "id": "1utZEmCXgl5L"
      },
      "execution_count": 60,
      "outputs": []
    },
    {
      "cell_type": "code",
      "source": [
        "# 리스트와는 반대로 +가 안된다.\n",
        "s1 + s2"
      ],
      "metadata": {
        "id": "RdIt7vCgfjxU",
        "outputId": "bfd70565-8b45-4690-9ee2-fbed76fc6fec",
        "colab": {
          "base_uri": "https://localhost:8080/",
          "height": 172
        }
      },
      "execution_count": 63,
      "outputs": [
        {
          "output_type": "error",
          "ename": "TypeError",
          "evalue": "ignored",
          "traceback": [
            "\u001b[0;31m---------------------------------------------------------------------------\u001b[0m",
            "\u001b[0;31mTypeError\u001b[0m                                 Traceback (most recent call last)",
            "\u001b[0;32m<ipython-input-63-07ecabcb1b41>\u001b[0m in \u001b[0;36m<module>\u001b[0;34m()\u001b[0m\n\u001b[0;32m----> 1\u001b[0;31m \u001b[0ms1\u001b[0m \u001b[0;34m+\u001b[0m \u001b[0ms2\u001b[0m\u001b[0;34m\u001b[0m\u001b[0;34m\u001b[0m\u001b[0m\n\u001b[0m",
            "\u001b[0;31mTypeError\u001b[0m: unsupported operand type(s) for +: 'set' and 'set'"
          ]
        }
      ]
    },
    {
      "cell_type": "code",
      "source": [
        "# 리스트와는 반대로 -는 된다.\n",
        "s1 - s2"
      ],
      "metadata": {
        "id": "01KCsCnpfjue",
        "outputId": "72ea4121-5beb-4b6d-e3ff-48abbe7a7edc",
        "colab": {
          "base_uri": "https://localhost:8080/"
        }
      },
      "execution_count": 64,
      "outputs": [
        {
          "output_type": "execute_result",
          "data": {
            "text/plain": [
              "{1, 2, 3}"
            ]
          },
          "metadata": {},
          "execution_count": 64
        }
      ]
    },
    {
      "cell_type": "markdown",
      "source": [
        "## 22.서울에서 김서방 찾기\n",
        "\n",
        "- https://programmers.co.kr/learn/courses/30/lessons/12919"
      ],
      "metadata": {
        "id": "WsDw5YiSkH86"
      }
    },
    {
      "cell_type": "code",
      "source": [
        "'''\n",
        "파이썬 리스트, 문자열 index() 함수\n",
        "\n",
        "https://wikidocs.net/14#index\n",
        "'''\n",
        "\n",
        "def solution(seoul):\n",
        "    return f\"김서방은 {seoul.index('Kim')}에 있다\""
      ],
      "metadata": {
        "id": "DHZT66v7kHwu"
      },
      "execution_count": null,
      "outputs": []
    },
    {
      "cell_type": "code",
      "source": [
        "'''\n",
        "index(x) 함수는 리스트에 x 값이 있으면 x의 위치 값을 돌려준다.\n",
        ">>> a = [1,2,3]\n",
        ">>> a.index(3)\n",
        "2\n",
        ">>> a.index(1)\n",
        "0\n",
        "\n",
        "\n",
        "문자열 함수 index:\n",
        "위치 알려주기2(index)\n",
        "문자열 중 문자 t가 맨 처음으로 나온 위치를 반환한다.\n",
        "만약 찾는 문자나 문자열이 존재하지 않는다면 오류를 발생시킨다.\n",
        "앞의 find 함수와 다른 점은 문자열 안에 존재하지 않는 문자를 찾으면 오류가 발생한다는 점이다.\n",
        ">>> a = \"Life is too short\"\n",
        ">>> a.index('t')\n",
        "8\n",
        ">>> a.index('k')\n",
        "Traceback (most recent call last):\n",
        "File \"<stdin>\", line 1, in <module>\n",
        "ValueError: substring not found\n",
        "'''"
      ],
      "metadata": {
        "id": "ul45-VG0kHuL"
      },
      "execution_count": null,
      "outputs": []
    },
    {
      "cell_type": "markdown",
      "source": [
        "## 23.문자열 다루기 기본\n",
        "\n",
        "- https://programmers.co.kr/learn/courses/30/lessons/12918"
      ],
      "metadata": {
        "id": "TRWrZdo1lmyc"
      }
    },
    {
      "cell_type": "code",
      "source": [
        "'''\n",
        "isdigit()  함수\n",
        "\n",
        "https://blockdmask.tistory.com/556\n",
        "'''\n",
        "\n",
        "def solution(s):\n",
        "    return s.isdigit() and len(s) in (4,6)"
      ],
      "metadata": {
        "id": "xNhXdbdPkHrk"
      },
      "execution_count": null,
      "outputs": []
    },
    {
      "cell_type": "code",
      "source": [
        "'''\n",
        "2)\n",
        "import re\n",
        "def solution(s):\n",
        "    return bool(re.match(\"^(\\d{4}|\\d{6})$\", s))\n",
        "'''"
      ],
      "metadata": {
        "id": "eReISCAykHpK"
      },
      "execution_count": null,
      "outputs": []
    },
    {
      "cell_type": "markdown",
      "source": [
        "## 24.문자열 내림차순으로 배치하기\n",
        "\n",
        "- https://programmers.co.kr/learn/courses/30/lessons/12917"
      ],
      "metadata": {
        "id": "x-fvK54cnoIy"
      }
    },
    {
      "cell_type": "code",
      "source": [
        "'''\n",
        "sorted() 함수\n",
        "\n",
        "sorted() 함수는 문자열과 리스트에서 모두 사용할 수 있다!\n",
        "리스트를 반환하기 때문이다!\n",
        "하지만 sort()는 리스트만의 함수이다!\n",
        "'''\n",
        "\n",
        "def solution(s):\n",
        "    return ''.join(sorted(s, reverse=True))"
      ],
      "metadata": {
        "id": "7DCtSjzWkHmt"
      },
      "execution_count": 77,
      "outputs": []
    },
    {
      "cell_type": "code",
      "source": [
        "'''\n",
        "sorted(iterable) 함수는 입력값을 정렬한 후 그 결과를 리스트로 돌려주는 함수이다.\n",
        ">>> sorted([3, 1, 2])\n",
        "[1, 2, 3]\n",
        ">>> sorted(['a', 'c', 'b'])\n",
        "['a', 'b', 'c']\n",
        ">>> sorted(\"zero\")\n",
        "['e', 'o', 'r', 'z']\n",
        ">>> sorted((3, 2, 1))\n",
        "[1, 2, 3]\n",
        "'''"
      ],
      "metadata": {
        "id": "lA7N4I66fjr_"
      },
      "execution_count": null,
      "outputs": []
    },
    {
      "cell_type": "markdown",
      "source": [
        "## 25.문자열 내 p와 y의 개수\n",
        "\n",
        "- https://programmers.co.kr/learn/courses/30/lessons/12916"
      ],
      "metadata": {
        "id": "lj6sa1xPpGuF"
      }
    },
    {
      "cell_type": "code",
      "source": [
        "'''\n",
        "count() 함수\n",
        "\n",
        "https://blockdmask.tistory.com/410\n",
        "https://redcow77.tistory.com/357\n",
        "'''\n",
        "\n",
        "def solution(s):\n",
        "    return s.lower().count('p') == s.lower().count('y')"
      ],
      "metadata": {
        "id": "Sbgr8oBgB6uQ"
      },
      "execution_count": null,
      "outputs": []
    },
    {
      "cell_type": "markdown",
      "source": [
        "## 26.문자열 내 마음대로 정렬하기\n",
        "\n",
        "- https://programmers.co.kr/learn/courses/30/lessons/12915"
      ],
      "metadata": {
        "id": "sqw344TrrIyT"
      }
    },
    {
      "cell_type": "markdown",
      "source": [
        "### 오답"
      ],
      "metadata": {
        "id": "CvPHoqG1xWk7"
      }
    },
    {
      "cell_type": "code",
      "source": [
        "def solution(strings, n):\n",
        "  \n",
        "    strings.sort()\n",
        "    dic = {string[n]+str(num):string for num, string in enumerate(strings)}\n",
        "    \n",
        "    key = sorted(list(dic.keys()))\n",
        "    \n",
        "    answer = []\n",
        "    for i in key:\n",
        "        answer.append(dic[i])\n",
        "        \n",
        "    return answer"
      ],
      "metadata": {
        "id": "GpuduHoFrFOT"
      },
      "execution_count": null,
      "outputs": []
    },
    {
      "cell_type": "markdown",
      "source": [
        "### 정답"
      ],
      "metadata": {
        "id": "jZiQsPkQ2wNa"
      }
    },
    {
      "cell_type": "code",
      "source": [
        "'''\n",
        "sort() 함수 key인자\n",
        "\n",
        "https://ooyoung.tistory.com/59\n",
        "'''\n",
        "\n",
        "def solution(strings, n):\n",
        "    \n",
        "    return sorted(sorted(strings), key=lambda x: x[n])"
      ],
      "metadata": {
        "id": "ZhfXCDRzrFLm"
      },
      "execution_count": null,
      "outputs": []
    },
    {
      "cell_type": "markdown",
      "source": [
        "## 27.두 정수 사이의 합\n",
        "\n",
        "- https://programmers.co.kr/learn/courses/30/lessons/12912"
      ],
      "metadata": {
        "id": "3OsBmG2r27Te"
      }
    },
    {
      "cell_type": "code",
      "source": [
        "def solution(a, b):\n",
        "    a, b = min(a,b), max(a, b)\n",
        "    answer = 0\n",
        "    for i in range(a,b+1):\n",
        "        answer += i\n",
        "    return answer"
      ],
      "metadata": {
        "id": "Q1DnwA5frFI8"
      },
      "execution_count": null,
      "outputs": []
    },
    {
      "cell_type": "code",
      "source": [
        "def solution(a, b):\n",
        "    a, b = min(a,b), max(a,b)\n",
        "    return sum(range(a, b+1))"
      ],
      "metadata": {
        "id": "Hb6XECEirFGm"
      },
      "execution_count": null,
      "outputs": []
    },
    {
      "cell_type": "code",
      "source": [
        "def solution(a, b):\n",
        "    return (a+b)*(abs(a-b)+1)/2\n",
        "# (첫 항+끝 항) * (원소의 개수 / 2)"
      ],
      "metadata": {
        "id": "DhNXqoGzrFDu"
      },
      "execution_count": null,
      "outputs": []
    },
    {
      "cell_type": "markdown",
      "source": [
        "## 28.나누어 떨어지는 숫자 배열\n",
        "\n",
        "- https://programmers.co.kr/learn/courses/30/lessons/12910"
      ],
      "metadata": {
        "id": "4MLb9dqc5bQS"
      }
    },
    {
      "cell_type": "code",
      "source": [
        ""
      ],
      "metadata": {
        "id": "zO8WBl2vrFBA"
      },
      "execution_count": null,
      "outputs": []
    },
    {
      "cell_type": "code",
      "source": [
        ""
      ],
      "metadata": {
        "id": "4xWK8-4mrE-b"
      },
      "execution_count": null,
      "outputs": []
    },
    {
      "cell_type": "code",
      "source": [
        ""
      ],
      "metadata": {
        "id": "QVnZeO9YrE76"
      },
      "execution_count": null,
      "outputs": []
    },
    {
      "cell_type": "code",
      "source": [
        ""
      ],
      "metadata": {
        "id": "gnTAc8vZrE5S"
      },
      "execution_count": null,
      "outputs": []
    },
    {
      "cell_type": "code",
      "source": [
        ""
      ],
      "metadata": {
        "id": "PsNLCPXNrEyB"
      },
      "execution_count": null,
      "outputs": []
    },
    {
      "cell_type": "code",
      "source": [
        ""
      ],
      "metadata": {
        "id": "hxjgR6jmrEvk"
      },
      "execution_count": null,
      "outputs": []
    },
    {
      "cell_type": "code",
      "source": [
        ""
      ],
      "metadata": {
        "id": "22CJni5BrEs9"
      },
      "execution_count": null,
      "outputs": []
    },
    {
      "cell_type": "code",
      "source": [
        ""
      ],
      "metadata": {
        "id": "AdExhmBTrEqe"
      },
      "execution_count": null,
      "outputs": []
    },
    {
      "cell_type": "code",
      "source": [
        ""
      ],
      "metadata": {
        "id": "dH9ryH87rEn9"
      },
      "execution_count": null,
      "outputs": []
    },
    {
      "cell_type": "code",
      "source": [
        ""
      ],
      "metadata": {
        "id": "xgArGmBErElb"
      },
      "execution_count": null,
      "outputs": []
    },
    {
      "cell_type": "code",
      "source": [
        ""
      ],
      "metadata": {
        "id": "iEN8Xu5ErEjG"
      },
      "execution_count": null,
      "outputs": []
    },
    {
      "cell_type": "code",
      "source": [
        ""
      ],
      "metadata": {
        "id": "RBOe_NkUrEga"
      },
      "execution_count": null,
      "outputs": []
    },
    {
      "cell_type": "code",
      "source": [
        ""
      ],
      "metadata": {
        "id": "5O9gYetjrEd7"
      },
      "execution_count": null,
      "outputs": []
    },
    {
      "cell_type": "code",
      "source": [
        ""
      ],
      "metadata": {
        "id": "D_AKmvrGrEbV"
      },
      "execution_count": null,
      "outputs": []
    },
    {
      "cell_type": "code",
      "source": [
        ""
      ],
      "metadata": {
        "id": "wZMCd6ny4-7Y"
      },
      "execution_count": null,
      "outputs": []
    },
    {
      "cell_type": "code",
      "source": [
        ""
      ],
      "metadata": {
        "id": "AKmfVsRe4-4y"
      },
      "execution_count": null,
      "outputs": []
    },
    {
      "cell_type": "code",
      "source": [
        ""
      ],
      "metadata": {
        "id": "rOBR8mCy5CdK"
      },
      "execution_count": null,
      "outputs": []
    },
    {
      "cell_type": "code",
      "source": [
        ""
      ],
      "metadata": {
        "id": "5SL5Gnol5CXO"
      },
      "execution_count": null,
      "outputs": []
    },
    {
      "cell_type": "markdown",
      "source": [
        "# Level 2"
      ],
      "metadata": {
        "id": "2wErmnmMnv9X"
      }
    },
    {
      "cell_type": "markdown",
      "source": [
        "# Level 3"
      ],
      "metadata": {
        "id": "rWzq31N-n3Di"
      }
    }
  ],
  "metadata": {
    "colab": {
      "collapsed_sections": [],
      "name": "Colaboratory에 오신 것을 환영합니다",
      "toc_visible": true,
      "provenance": [],
      "include_colab_link": true
    },
    "kernelspec": {
      "display_name": "Python 3",
      "name": "python3"
    }
  },
  "nbformat": 4,
  "nbformat_minor": 0
}