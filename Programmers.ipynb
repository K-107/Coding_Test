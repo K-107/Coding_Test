{
  "cells": [
    {
      "cell_type": "markdown",
      "metadata": {
        "id": "view-in-github",
        "colab_type": "text"
      },
      "source": [
        "<a href=\"https://colab.research.google.com/github/K-107/Coding_Test/blob/main/Programmers.ipynb\" target=\"_parent\"><img src=\"https://colab.research.google.com/assets/colab-badge.svg\" alt=\"Open In Colab\"/></a>"
      ]
    },
    {
      "cell_type": "markdown",
      "source": [
        "# Level 1"
      ],
      "metadata": {
        "id": "dILbRLd_h9WS"
      }
    },
    {
      "cell_type": "markdown",
      "source": [
        "## 1.완주하지 못한 선수\n",
        "\n",
        "- https://programmers.co.kr/learn/courses/30/lessons/42576"
      ],
      "metadata": {
        "id": "Efb6vh5qi3tO"
      }
    },
    {
      "cell_type": "markdown",
      "source": [
        "### 1번 풀기 - 시간초과"
      ],
      "metadata": {
        "id": "kut8euwunj3W"
      }
    },
    {
      "cell_type": "code",
      "source": [
        "def solution(participant, completion):\n",
        "    \n",
        "    for i in participant:\n",
        "        if i in completion:\n",
        "            completion.remove(i)\n",
        "        else:\n",
        "            return i"
      ],
      "metadata": {
        "id": "izyVKd0uh9Dv"
      },
      "execution_count": 1,
      "outputs": []
    },
    {
      "cell_type": "code",
      "source": [
        "# sort()는 리스트를 정렬된 상태로 변경한다. 원본이 정렬돼 변경됨.\n",
        "# sorted()는 정렬된 리스트를 생성한다. 변수로 받아줘야한다.\n",
        "# https://cigiko.cafe24.com/python-%EC%A0%95%EB%A0%AC%ED%95%98%EA%B8%B0-sort%EC%99%80-sorted/\n",
        "\n",
        "다 = 'd b e g a g'.split()\n",
        "다"
      ],
      "metadata": {
        "colab": {
          "base_uri": "https://localhost:8080/"
        },
        "id": "8xhYszgYh9A8",
        "outputId": "7e0eaf57-574e-4e47-9012-b51a9b26d938"
      },
      "execution_count": 16,
      "outputs": [
        {
          "output_type": "execute_result",
          "data": {
            "text/plain": [
              "['d', 'b', 'e', 'g', 'a', 'g']"
            ]
          },
          "metadata": {},
          "execution_count": 16
        }
      ]
    },
    {
      "cell_type": "code",
      "source": [
        "다.sort()"
      ],
      "metadata": {
        "id": "fycFrBBzn66g"
      },
      "execution_count": 17,
      "outputs": []
    },
    {
      "cell_type": "code",
      "source": [
        "다"
      ],
      "metadata": {
        "colab": {
          "base_uri": "https://localhost:8080/"
        },
        "id": "jTkGmrmhn9Hx",
        "outputId": "52764650-f826-4617-bb8c-29264308aa77"
      },
      "execution_count": 18,
      "outputs": [
        {
          "output_type": "execute_result",
          "data": {
            "text/plain": [
              "['a', 'b', 'd', 'e', 'g', 'g']"
            ]
          },
          "metadata": {},
          "execution_count": 18
        }
      ]
    },
    {
      "cell_type": "code",
      "source": [
        "라 = 'd b e g a g'.split()\n",
        "sorted(라)"
      ],
      "metadata": {
        "colab": {
          "base_uri": "https://localhost:8080/"
        },
        "id": "6DYp6EA9n-kH",
        "outputId": "c36c62c9-5154-4f00-9a4f-01eef252061a"
      },
      "execution_count": 19,
      "outputs": [
        {
          "output_type": "execute_result",
          "data": {
            "text/plain": [
              "['a', 'b', 'd', 'e', 'g', 'g']"
            ]
          },
          "metadata": {},
          "execution_count": 19
        }
      ]
    },
    {
      "cell_type": "code",
      "source": [
        "라"
      ],
      "metadata": {
        "colab": {
          "base_uri": "https://localhost:8080/"
        },
        "id": "V-OhW6wBn-dH",
        "outputId": "a9396597-3faa-4d84-87f2-e8110d717d6f"
      },
      "execution_count": 20,
      "outputs": [
        {
          "output_type": "execute_result",
          "data": {
            "text/plain": [
              "['d', 'b', 'e', 'g', 'a', 'g']"
            ]
          },
          "metadata": {},
          "execution_count": 20
        }
      ]
    },
    {
      "cell_type": "code",
      "source": [
        "'''\n",
        "split 함수\n",
        "'''\n",
        "# '리스트 + 리스트'는 되지만 '리스트 - 리스트'는 안된다!\n",
        "# https://hjp845.tistory.com/54\n",
        "\n",
        "가 = 'a b c d e'.split( )\n",
        "나 = 'a b c d'.split()\n",
        "가 + 나"
      ],
      "metadata": {
        "colab": {
          "base_uri": "https://localhost:8080/"
        },
        "id": "pQzonpChh8-c",
        "outputId": "be826e9a-01b8-4a56-de07-322ea71754f8"
      },
      "execution_count": 13,
      "outputs": [
        {
          "output_type": "execute_result",
          "data": {
            "text/plain": [
              "['a', 'b', 'c', 'd', 'e', 'a', 'b', 'c', 'd']"
            ]
          },
          "metadata": {},
          "execution_count": 13
        }
      ]
    },
    {
      "cell_type": "code",
      "source": [
        "가 - 나"
      ],
      "metadata": {
        "colab": {
          "base_uri": "https://localhost:8080/",
          "height": 172
        },
        "id": "RFCJKu-Eh85N",
        "outputId": "011b6ceb-c4de-47d7-f62d-f63a2bd9ca42"
      },
      "execution_count": 14,
      "outputs": [
        {
          "output_type": "error",
          "ename": "TypeError",
          "evalue": "ignored",
          "traceback": [
            "\u001b[0;31m---------------------------------------------------------------------------\u001b[0m",
            "\u001b[0;31mTypeError\u001b[0m                                 Traceback (most recent call last)",
            "\u001b[0;32m<ipython-input-14-02b726fb9ad7>\u001b[0m in \u001b[0;36m<module>\u001b[0;34m()\u001b[0m\n\u001b[0;32m----> 1\u001b[0;31m \u001b[0m가\u001b[0m \u001b[0;34m-\u001b[0m \u001b[0m나\u001b[0m\u001b[0;34m\u001b[0m\u001b[0;34m\u001b[0m\u001b[0m\n\u001b[0m",
            "\u001b[0;31mTypeError\u001b[0m: unsupported operand type(s) for -: 'list' and 'list'"
          ]
        }
      ]
    },
    {
      "cell_type": "markdown",
      "source": [
        "### 2번 풀기 - 통과"
      ],
      "metadata": {
        "id": "s-MN7zePnqKF"
      }
    },
    {
      "cell_type": "code",
      "source": [
        "'''\n",
        "zip 함수\n",
        "'''\n",
        "# 서로 길이가 다른 리스트에 zip함수 적용\n",
        "# https://dev-lagom.tistory.com/23\n",
        "\n",
        "def solution(participant, completion):\n",
        "    \n",
        "    sort_par = sorted(participant)\n",
        "    sort_com = sorted(completion)\n",
        "    \n",
        "    for p,c in zip(sort_par, sort_com):\n",
        "        if p != c:\n",
        "            return p\n",
        "    \n",
        "    return sort_par[-1]"
      ],
      "metadata": {
        "id": "cLvMrshmh82a"
      },
      "execution_count": null,
      "outputs": []
    },
    {
      "cell_type": "code",
      "source": [
        "'''\n",
        "pop 함수\n",
        "'''\n",
        "# https://wikidocs.net/14#pop\n",
        "\n",
        "def solution(participant, completion):\n",
        "    \n",
        "    sort_par = sorted(participant)\n",
        "    sort_com = sorted(completion)\n",
        "    \n",
        "    for p,c in zip(sort_par, sort_com):\n",
        "        if p != c:\n",
        "            return p\n",
        "    \n",
        "    return sort_par.pop()"
      ],
      "metadata": {
        "id": "p8XKoV8doUPh"
      },
      "execution_count": null,
      "outputs": []
    },
    {
      "cell_type": "markdown",
      "source": [
        "## 2.직사각형 별찍기\n",
        "\n",
        "- https://programmers.co.kr/learn/courses/30/lessons/12969"
      ],
      "metadata": {
        "id": "2tyylcdwpIeM"
      }
    },
    {
      "cell_type": "markdown",
      "source": [
        "### 1번 풀이 - 틀림"
      ],
      "metadata": {
        "id": "MDmTenSOsEYd"
      }
    },
    {
      "cell_type": "code",
      "source": [
        "# a, b = map(int, input().strip().split(' '))\n",
        "\n",
        "a, b = 5, 3\n",
        "answer = (a*'*', '\\n')*b\n",
        "print(answer)"
      ],
      "metadata": {
        "colab": {
          "base_uri": "https://localhost:8080/"
        },
        "id": "AeXp5-G5oUMt",
        "outputId": "bebf57c1-d2f9-4259-bb41-83fe9d4741a5"
      },
      "execution_count": 23,
      "outputs": [
        {
          "output_type": "stream",
          "name": "stdout",
          "text": [
            "('*****', '\\n', '*****', '\\n', '*****', '\\n')\n"
          ]
        }
      ]
    },
    {
      "cell_type": "markdown",
      "source": [
        "### 2번 풀이 - 정답"
      ],
      "metadata": {
        "id": "mJRq3ssQsHhb"
      }
    },
    {
      "cell_type": "code",
      "source": [
        "# 이걸로 해야한다!\n",
        "# https://dojang.io/mod/page/view.php?id=1224\n",
        "# https://gilu-world.tistory.com/40\n",
        "\n",
        "a, b = 5, 3\n",
        "answer = (a*'*' + '\\n')*b\n",
        "print(answer)"
      ],
      "metadata": {
        "colab": {
          "base_uri": "https://localhost:8080/"
        },
        "id": "UDczc27AoUKL",
        "outputId": "124ebfe5-ffad-470a-e059-16078872b521"
      },
      "execution_count": 25,
      "outputs": [
        {
          "output_type": "stream",
          "name": "stdout",
          "text": [
            "*****\n",
            "*****\n",
            "*****\n",
            "\n"
          ]
        }
      ]
    },
    {
      "cell_type": "markdown",
      "source": [
        "### 추가 문제"
      ],
      "metadata": {
        "id": "ALqid1a2s-rI"
      }
    },
    {
      "cell_type": "code",
      "source": [
        "for i in range(3):\n",
        "  print((i+1)*'*')"
      ],
      "metadata": {
        "colab": {
          "base_uri": "https://localhost:8080/"
        },
        "id": "FXovGMCCoUHW",
        "outputId": "a274646a-0cea-4fd5-daaf-79c266802071"
      },
      "execution_count": 24,
      "outputs": [
        {
          "output_type": "stream",
          "name": "stdout",
          "text": [
            "*\n",
            "**\n",
            "***\n"
          ]
        }
      ]
    },
    {
      "cell_type": "markdown",
      "source": [
        "## 3.x만큼 간격이 있는 n개의 숫자\n",
        "\n",
        "- https://programmers.co.kr/learn/courses/30/lessons/12954"
      ],
      "metadata": {
        "id": "pFBbOWbQt5eg"
      }
    },
    {
      "cell_type": "code",
      "source": [
        "def solution(x, n):\n",
        "    \n",
        "    answer = []\n",
        "    \n",
        "    for i in range(n):\n",
        "        i += 1 # =+는 아니다!\n",
        "        a = x*i\n",
        "        answer.append(a)\n",
        "        \n",
        "    return answer"
      ],
      "metadata": {
        "id": "TExyUaLFoT_l"
      },
      "execution_count": null,
      "outputs": []
    },
    {
      "cell_type": "code",
      "source": [
        "def solution(x, n):\n",
        "    answer = []\n",
        "    for i in range(1,n+1):\n",
        "        answer.append(x*i)\n",
        "    return answer"
      ],
      "metadata": {
        "id": "aT5nazhVvezl"
      },
      "execution_count": null,
      "outputs": []
    },
    {
      "cell_type": "markdown",
      "source": [
        "## 4.행렬의 덧셈\n",
        "\n",
        "- https://programmers.co.kr/learn/courses/30/lessons/12950"
      ],
      "metadata": {
        "id": "Nh7larknwnvY"
      }
    },
    {
      "cell_type": "code",
      "source": [
        "'''\n",
        "zip 함수\n",
        "'''\n",
        "\n",
        "arr1 = [[1,2],[2,3]]\n",
        "arr2 = [[3,4],[5,6]]\n",
        "arr1, arr2"
      ],
      "metadata": {
        "colab": {
          "base_uri": "https://localhost:8080/"
        },
        "id": "6KLH5uO4vexg",
        "outputId": "7b087545-d06a-48af-e96f-ab08d77e808d"
      },
      "execution_count": 27,
      "outputs": [
        {
          "output_type": "execute_result",
          "data": {
            "text/plain": [
              "([[1, 2], [2, 3]], [[3, 4], [5, 6]])"
            ]
          },
          "metadata": {},
          "execution_count": 27
        }
      ]
    },
    {
      "cell_type": "code",
      "source": [
        "list(zip([1, 2, 3], [4, 5, 6]))"
      ],
      "metadata": {
        "id": "AlvFPcCuzbdS",
        "outputId": "70b8b770-77ef-4295-b4b4-2d6a6a284ec6",
        "colab": {
          "base_uri": "https://localhost:8080/"
        }
      },
      "execution_count": 35,
      "outputs": [
        {
          "output_type": "execute_result",
          "data": {
            "text/plain": [
              "[(1, 4), (2, 5), (3, 6)]"
            ]
          },
          "metadata": {},
          "execution_count": 35
        }
      ]
    },
    {
      "cell_type": "code",
      "source": [
        "for a,b in zip(arr1, arr2):\n",
        "  print(a,b)"
      ],
      "metadata": {
        "colab": {
          "base_uri": "https://localhost:8080/"
        },
        "id": "kvQoiKZ3veu0",
        "outputId": "aaddde02-a15a-40ef-f997-cea75c485bc7"
      },
      "execution_count": 30,
      "outputs": [
        {
          "output_type": "stream",
          "name": "stdout",
          "text": [
            "[1, 2] [3, 4]\n",
            "[2, 3] [5, 6]\n"
          ]
        }
      ]
    },
    {
      "cell_type": "code",
      "source": [
        "for a,b in zip(arr1, arr2):\n",
        "  print(a+b) # 이렇게 더할 수는 없다."
      ],
      "metadata": {
        "colab": {
          "base_uri": "https://localhost:8080/"
        },
        "id": "8FRXL2J3vese",
        "outputId": "16763dc1-d886-428e-fe59-fe4c1d98b91e"
      },
      "execution_count": 31,
      "outputs": [
        {
          "output_type": "stream",
          "name": "stdout",
          "text": [
            "[1, 2, 3, 4]\n",
            "[2, 3, 5, 6]\n"
          ]
        }
      ]
    },
    {
      "cell_type": "code",
      "source": [
        "'''\n",
        "리스트 내포\n",
        "'''\n",
        "# https://wikidocs.net/22#_1\n",
        "\n",
        "[[c + d for c,d in zip(a, b)] for a, b in zip(arr1, arr2)]"
      ],
      "metadata": {
        "colab": {
          "base_uri": "https://localhost:8080/"
        },
        "id": "YQkFV0Vzveph",
        "outputId": "9e89b7dc-18fb-4f89-f783-27ab11c67b36"
      },
      "execution_count": 34,
      "outputs": [
        {
          "output_type": "execute_result",
          "data": {
            "text/plain": [
              "[[4, 6], [7, 9]]"
            ]
          },
          "metadata": {},
          "execution_count": 34
        }
      ]
    },
    {
      "cell_type": "code",
      "source": [
        "def solution(arr1, arr2): \n",
        "    answer = [[c + d for c,d in zip(a, b)] for a, b in zip(arr1, arr2)]\n",
        "    return answer"
      ],
      "metadata": {
        "id": "eeszy3J1vece"
      },
      "execution_count": null,
      "outputs": []
    },
    {
      "cell_type": "markdown",
      "source": [
        "## 5.핸드폰 번호 가리기\n",
        "\n",
        "- https://programmers.co.kr/learn/courses/30/lessons/12948"
      ],
      "metadata": {
        "id": "MZL4SUWHzjOx"
      }
    },
    {
      "cell_type": "markdown",
      "source": [
        "### 내 풀이"
      ],
      "metadata": {
        "id": "vaD9YUXE0iZJ"
      }
    },
    {
      "cell_type": "code",
      "source": [
        "def solution(phone_number):\n",
        "    star_len = len(phone_number[:-4])\n",
        "    star = star_len*'*'\n",
        "    real = phone_number[-4:]\n",
        "    answer = star+real\n",
        "    return answer"
      ],
      "metadata": {
        "id": "v8hW-sVCzmfX"
      },
      "execution_count": null,
      "outputs": []
    },
    {
      "cell_type": "markdown",
      "source": [
        "### 정답 풀이"
      ],
      "metadata": {
        "id": "NOK3nfVa0kSB"
      }
    },
    {
      "cell_type": "code",
      "source": [
        "def solution(phone_number):\n",
        "    return '*'*(len(phone_number)-4) + phone_number[-4:]"
      ],
      "metadata": {
        "id": "ESBa5Fp2zjGz"
      },
      "execution_count": null,
      "outputs": []
    },
    {
      "cell_type": "markdown",
      "source": [
        "## 6.하샤드 수\n",
        "\n",
        "- https://programmers.co.kr/learn/courses/30/lessons/12947"
      ],
      "metadata": {
        "id": "CMCJsad71_SM"
      }
    },
    {
      "cell_type": "markdown",
      "source": [
        "### 오답"
      ],
      "metadata": {
        "id": "a4Nh2FVJ3zs3"
      }
    },
    {
      "cell_type": "code",
      "source": [
        "'''\n",
        "split 함수\n",
        "'''\n",
        "def solution(x):\n",
        "    lst = str(x).split() # 안나눠진다!!\n",
        "    print(lst)\n",
        "    num = int(lst[0]) + int(lst[1])\n",
        "    if x%num == 0:\n",
        "        return true"
      ],
      "metadata": {
        "id": "iIB1872g3zQ5"
      },
      "execution_count": 47,
      "outputs": []
    },
    {
      "cell_type": "code",
      "source": [
        "solution(10)"
      ],
      "metadata": {
        "id": "OAH1cLeT38vw",
        "outputId": "41eb3410-1924-4e64-a310-7af113c8de4c",
        "colab": {
          "base_uri": "https://localhost:8080/",
          "height": 318
        }
      },
      "execution_count": 48,
      "outputs": [
        {
          "output_type": "stream",
          "name": "stdout",
          "text": [
            "['10']\n"
          ]
        },
        {
          "output_type": "error",
          "ename": "IndexError",
          "evalue": "ignored",
          "traceback": [
            "\u001b[0;31m---------------------------------------------------------------------------\u001b[0m",
            "\u001b[0;31mIndexError\u001b[0m                                Traceback (most recent call last)",
            "\u001b[0;32m<ipython-input-48-54ab054d5708>\u001b[0m in \u001b[0;36m<module>\u001b[0;34m()\u001b[0m\n\u001b[0;32m----> 1\u001b[0;31m \u001b[0msolution\u001b[0m\u001b[0;34m(\u001b[0m\u001b[0;36m10\u001b[0m\u001b[0;34m)\u001b[0m\u001b[0;34m\u001b[0m\u001b[0;34m\u001b[0m\u001b[0m\n\u001b[0m",
            "\u001b[0;32m<ipython-input-47-231182eb092e>\u001b[0m in \u001b[0;36msolution\u001b[0;34m(x)\u001b[0m\n\u001b[1;32m      2\u001b[0m     \u001b[0mlst\u001b[0m \u001b[0;34m=\u001b[0m \u001b[0mstr\u001b[0m\u001b[0;34m(\u001b[0m\u001b[0mx\u001b[0m\u001b[0;34m)\u001b[0m\u001b[0;34m.\u001b[0m\u001b[0msplit\u001b[0m\u001b[0;34m(\u001b[0m\u001b[0;34m)\u001b[0m\u001b[0;34m\u001b[0m\u001b[0;34m\u001b[0m\u001b[0m\n\u001b[1;32m      3\u001b[0m     \u001b[0mprint\u001b[0m\u001b[0;34m(\u001b[0m\u001b[0mlst\u001b[0m\u001b[0;34m)\u001b[0m\u001b[0;34m\u001b[0m\u001b[0;34m\u001b[0m\u001b[0m\n\u001b[0;32m----> 4\u001b[0;31m     \u001b[0mnum\u001b[0m \u001b[0;34m=\u001b[0m \u001b[0mint\u001b[0m\u001b[0;34m(\u001b[0m\u001b[0mlst\u001b[0m\u001b[0;34m[\u001b[0m\u001b[0;36m0\u001b[0m\u001b[0;34m]\u001b[0m\u001b[0;34m)\u001b[0m \u001b[0;34m+\u001b[0m \u001b[0mint\u001b[0m\u001b[0;34m(\u001b[0m\u001b[0mlst\u001b[0m\u001b[0;34m[\u001b[0m\u001b[0;36m1\u001b[0m\u001b[0;34m]\u001b[0m\u001b[0;34m)\u001b[0m\u001b[0;34m\u001b[0m\u001b[0;34m\u001b[0m\u001b[0m\n\u001b[0m\u001b[1;32m      5\u001b[0m     \u001b[0;32mif\u001b[0m \u001b[0mx\u001b[0m\u001b[0;34m%\u001b[0m\u001b[0mnum\u001b[0m \u001b[0;34m==\u001b[0m \u001b[0;36m0\u001b[0m\u001b[0;34m:\u001b[0m\u001b[0;34m\u001b[0m\u001b[0;34m\u001b[0m\u001b[0m\n\u001b[1;32m      6\u001b[0m         \u001b[0;32mreturn\u001b[0m \u001b[0mtrue\u001b[0m\u001b[0;34m\u001b[0m\u001b[0;34m\u001b[0m\u001b[0m\n",
            "\u001b[0;31mIndexError\u001b[0m: list index out of range"
          ]
        }
      ]
    },
    {
      "cell_type": "code",
      "source": [
        "'''\n",
        "나눗셈\n",
        "'''\n",
        "\n",
        "7/2 # 그냥 나누기!"
      ],
      "metadata": {
        "id": "qdGGOve5zjEV",
        "outputId": "7cd2ce2e-cf73-4133-8806-4222657e53b7",
        "colab": {
          "base_uri": "https://localhost:8080/"
        }
      },
      "execution_count": 39,
      "outputs": [
        {
          "output_type": "execute_result",
          "data": {
            "text/plain": [
              "3.5"
            ]
          },
          "metadata": {},
          "execution_count": 39
        }
      ]
    },
    {
      "cell_type": "code",
      "source": [
        "7//2 # 몫만!"
      ],
      "metadata": {
        "id": "FMMnHKTRzjBw",
        "outputId": "5a3395b6-05c7-4f0f-e7ed-674229d8deca",
        "colab": {
          "base_uri": "https://localhost:8080/"
        }
      },
      "execution_count": 40,
      "outputs": [
        {
          "output_type": "execute_result",
          "data": {
            "text/plain": [
              "3"
            ]
          },
          "metadata": {},
          "execution_count": 40
        }
      ]
    },
    {
      "cell_type": "code",
      "source": [
        "7%2 # 나머지만!"
      ],
      "metadata": {
        "id": "eyMiC4gbzi-9",
        "outputId": "63c9fa7e-042b-4930-98c8-950c9e749c1f",
        "colab": {
          "base_uri": "https://localhost:8080/"
        }
      },
      "execution_count": 41,
      "outputs": [
        {
          "output_type": "execute_result",
          "data": {
            "text/plain": [
              "1"
            ]
          },
          "metadata": {},
          "execution_count": 41
        }
      ]
    },
    {
      "cell_type": "markdown",
      "source": [
        "### 정답"
      ],
      "metadata": {
        "id": "puHAOtAx31lz"
      }
    },
    {
      "cell_type": "markdown",
      "source": [
        "#### 다른 사람"
      ],
      "metadata": {
        "id": "53TEOdVP5kIW"
      }
    },
    {
      "cell_type": "code",
      "source": [
        "def solution(x):\n",
        "    return x % sum([int(n) for n in str(x)]) == 0"
      ],
      "metadata": {
        "id": "INS54fc2y0Ov"
      },
      "execution_count": 53,
      "outputs": []
    },
    {
      "cell_type": "markdown",
      "source": [
        "#### 내 풀이"
      ],
      "metadata": {
        "id": "m6-BlMLU5nhK"
      }
    },
    {
      "cell_type": "code",
      "source": [
        "def solution(x):\n",
        "    for i in str(x):\n",
        "      print(i)"
      ],
      "metadata": {
        "id": "UNoF3XyYy0L7"
      },
      "execution_count": 51,
      "outputs": []
    },
    {
      "cell_type": "code",
      "source": [
        "solution(10)"
      ],
      "metadata": {
        "id": "R5t2gW6xy0JU",
        "outputId": "04d60d39-6c4a-45d2-e063-2a9dc8f94d92",
        "colab": {
          "base_uri": "https://localhost:8080/"
        }
      },
      "execution_count": 52,
      "outputs": [
        {
          "output_type": "stream",
          "name": "stdout",
          "text": [
            "1\n",
            "0\n"
          ]
        }
      ]
    },
    {
      "cell_type": "code",
      "source": [
        "def solution(x):\n",
        "    a = 0\n",
        "    for i in str(x):\n",
        "        a += int(i)\n",
        "    print(a)"
      ],
      "metadata": {
        "id": "5WP3aSK75CnK"
      },
      "execution_count": 58,
      "outputs": []
    },
    {
      "cell_type": "code",
      "source": [
        "solution(12)"
      ],
      "metadata": {
        "id": "DxwRfgHu5Ckt",
        "outputId": "d0e438a9-5cf6-45a2-916e-beba48f1206d",
        "colab": {
          "base_uri": "https://localhost:8080/"
        }
      },
      "execution_count": 60,
      "outputs": [
        {
          "output_type": "stream",
          "name": "stdout",
          "text": [
            "3\n"
          ]
        }
      ]
    },
    {
      "cell_type": "code",
      "source": [
        "def solution(x):\n",
        "    a = 0\n",
        "    for i in str(x):\n",
        "        a += int(i)\n",
        "    return x%a==0"
      ],
      "metadata": {
        "id": "xah03xjF5Cic"
      },
      "execution_count": null,
      "outputs": []
    },
    {
      "cell_type": "code",
      "source": [
        ""
      ],
      "metadata": {
        "id": "OgJT3H2U5pfN"
      },
      "execution_count": null,
      "outputs": []
    },
    {
      "cell_type": "code",
      "source": [
        ""
      ],
      "metadata": {
        "id": "kIg4UP8C5pcp"
      },
      "execution_count": null,
      "outputs": []
    },
    {
      "cell_type": "code",
      "source": [
        ""
      ],
      "metadata": {
        "id": "H9Dlqvhk5pai"
      },
      "execution_count": null,
      "outputs": []
    },
    {
      "cell_type": "code",
      "source": [
        ""
      ],
      "metadata": {
        "id": "RsL73b_f5pXv"
      },
      "execution_count": null,
      "outputs": []
    },
    {
      "cell_type": "code",
      "source": [
        ""
      ],
      "metadata": {
        "id": "h-BFAbT05pVH"
      },
      "execution_count": null,
      "outputs": []
    },
    {
      "cell_type": "code",
      "source": [
        ""
      ],
      "metadata": {
        "id": "gRb1tUcz5Cf2"
      },
      "execution_count": null,
      "outputs": []
    },
    {
      "cell_type": "code",
      "source": [
        ""
      ],
      "metadata": {
        "id": "rOBR8mCy5CdK"
      },
      "execution_count": null,
      "outputs": []
    },
    {
      "cell_type": "code",
      "source": [
        ""
      ],
      "metadata": {
        "id": "5SL5Gnol5CXO"
      },
      "execution_count": null,
      "outputs": []
    }
  ],
  "metadata": {
    "colab": {
      "collapsed_sections": [],
      "name": "Colaboratory에 오신 것을 환영합니다",
      "toc_visible": true,
      "provenance": [],
      "include_colab_link": true
    },
    "kernelspec": {
      "display_name": "Python 3",
      "name": "python3"
    }
  },
  "nbformat": 4,
  "nbformat_minor": 0
}