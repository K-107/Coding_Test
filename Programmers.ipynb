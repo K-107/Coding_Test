{
  "cells": [
    {
      "cell_type": "markdown",
      "metadata": {
        "id": "view-in-github",
        "colab_type": "text"
      },
      "source": [
        "<a href=\"https://colab.research.google.com/github/K-107/Coding_Test/blob/main/Programmers.ipynb\" target=\"_parent\"><img src=\"https://colab.research.google.com/assets/colab-badge.svg\" alt=\"Open In Colab\"/></a>"
      ]
    },
    {
      "cell_type": "markdown",
      "source": [
        "# Level 1"
      ],
      "metadata": {
        "id": "dILbRLd_h9WS"
      }
    },
    {
      "cell_type": "markdown",
      "source": [
        "## 1.완주하지 못한 선수\n",
        "\n",
        "- https://programmers.co.kr/learn/courses/30/lessons/42576"
      ],
      "metadata": {
        "id": "Efb6vh5qi3tO"
      }
    },
    {
      "cell_type": "markdown",
      "source": [
        "### 1번 풀이 - 시간초과"
      ],
      "metadata": {
        "id": "kut8euwunj3W"
      }
    },
    {
      "cell_type": "code",
      "source": [
        "def solution(participant, completion):\n",
        "    \n",
        "    for i in participant:\n",
        "        if i in completion:\n",
        "            completion.remove(i)\n",
        "        else:\n",
        "            return i"
      ],
      "metadata": {
        "id": "izyVKd0uh9Dv"
      },
      "execution_count": null,
      "outputs": []
    },
    {
      "cell_type": "code",
      "source": [
        "'''\n",
        "sort(), sorted() 함수\n",
        "\n",
        "sort()는 리스트를 정렬된 상태로 변경한다. 원본이 정렬돼 변경됨.\n",
        "sorted()는 정렬된 리스트를 생성한다. 변수로 받아줘야한다.\n",
        "https://cigiko.cafe24.com/python-%EC%A0%95%EB%A0%AC%ED%95%98%EA%B8%B0-sort%EC%99%80-sorted/\n",
        "'''\n",
        "\n",
        "다 = 'd b e g a g'.split()\n",
        "다"
      ],
      "metadata": {
        "colab": {
          "base_uri": "https://localhost:8080/"
        },
        "id": "8xhYszgYh9A8",
        "outputId": "7e0eaf57-574e-4e47-9012-b51a9b26d938"
      },
      "execution_count": null,
      "outputs": [
        {
          "output_type": "execute_result",
          "data": {
            "text/plain": [
              "['d', 'b', 'e', 'g', 'a', 'g']"
            ]
          },
          "metadata": {},
          "execution_count": 16
        }
      ]
    },
    {
      "cell_type": "code",
      "source": [
        "다.sort()"
      ],
      "metadata": {
        "id": "fycFrBBzn66g"
      },
      "execution_count": null,
      "outputs": []
    },
    {
      "cell_type": "code",
      "source": [
        "다"
      ],
      "metadata": {
        "colab": {
          "base_uri": "https://localhost:8080/"
        },
        "id": "jTkGmrmhn9Hx",
        "outputId": "52764650-f826-4617-bb8c-29264308aa77"
      },
      "execution_count": null,
      "outputs": [
        {
          "output_type": "execute_result",
          "data": {
            "text/plain": [
              "['a', 'b', 'd', 'e', 'g', 'g']"
            ]
          },
          "metadata": {},
          "execution_count": 18
        }
      ]
    },
    {
      "cell_type": "code",
      "source": [
        "라 = 'd b e g a g'.split()\n",
        "sorted(라)"
      ],
      "metadata": {
        "colab": {
          "base_uri": "https://localhost:8080/"
        },
        "id": "6DYp6EA9n-kH",
        "outputId": "c36c62c9-5154-4f00-9a4f-01eef252061a"
      },
      "execution_count": null,
      "outputs": [
        {
          "output_type": "execute_result",
          "data": {
            "text/plain": [
              "['a', 'b', 'd', 'e', 'g', 'g']"
            ]
          },
          "metadata": {},
          "execution_count": 19
        }
      ]
    },
    {
      "cell_type": "code",
      "source": [
        "라"
      ],
      "metadata": {
        "colab": {
          "base_uri": "https://localhost:8080/"
        },
        "id": "V-OhW6wBn-dH",
        "outputId": "a9396597-3faa-4d84-87f2-e8110d717d6f"
      },
      "execution_count": null,
      "outputs": [
        {
          "output_type": "execute_result",
          "data": {
            "text/plain": [
              "['d', 'b', 'e', 'g', 'a', 'g']"
            ]
          },
          "metadata": {},
          "execution_count": 20
        }
      ]
    },
    {
      "cell_type": "code",
      "source": [
        "'''\n",
        "split 함수\n",
        "\n",
        "'리스트 + 리스트'는 되지만 '리스트 - 리스트'는 안된다!\n",
        "https://hjp845.tistory.com/54\n",
        "'''\n",
        "\n",
        "가 = 'a b c d e'.split( )\n",
        "나 = 'a b c d'.split()\n",
        "가 + 나"
      ],
      "metadata": {
        "colab": {
          "base_uri": "https://localhost:8080/"
        },
        "id": "pQzonpChh8-c",
        "outputId": "be826e9a-01b8-4a56-de07-322ea71754f8"
      },
      "execution_count": null,
      "outputs": [
        {
          "output_type": "execute_result",
          "data": {
            "text/plain": [
              "['a', 'b', 'c', 'd', 'e', 'a', 'b', 'c', 'd']"
            ]
          },
          "metadata": {},
          "execution_count": 13
        }
      ]
    },
    {
      "cell_type": "code",
      "source": [
        "가 - 나"
      ],
      "metadata": {
        "colab": {
          "base_uri": "https://localhost:8080/",
          "height": 172
        },
        "id": "RFCJKu-Eh85N",
        "outputId": "011b6ceb-c4de-47d7-f62d-f63a2bd9ca42"
      },
      "execution_count": null,
      "outputs": [
        {
          "output_type": "error",
          "ename": "TypeError",
          "evalue": "ignored",
          "traceback": [
            "\u001b[0;31m---------------------------------------------------------------------------\u001b[0m",
            "\u001b[0;31mTypeError\u001b[0m                                 Traceback (most recent call last)",
            "\u001b[0;32m<ipython-input-14-02b726fb9ad7>\u001b[0m in \u001b[0;36m<module>\u001b[0;34m()\u001b[0m\n\u001b[0;32m----> 1\u001b[0;31m \u001b[0m가\u001b[0m \u001b[0;34m-\u001b[0m \u001b[0m나\u001b[0m\u001b[0;34m\u001b[0m\u001b[0;34m\u001b[0m\u001b[0m\n\u001b[0m",
            "\u001b[0;31mTypeError\u001b[0m: unsupported operand type(s) for -: 'list' and 'list'"
          ]
        }
      ]
    },
    {
      "cell_type": "markdown",
      "source": [
        "### 2번 풀이 - 통과"
      ],
      "metadata": {
        "id": "s-MN7zePnqKF"
      }
    },
    {
      "cell_type": "code",
      "source": [
        "'''\n",
        "zip 함수\n",
        "\n",
        "서로 길이가 다른 리스트에 zip함수 적용\n",
        "https://dev-lagom.tistory.com/23\n",
        "'''\n",
        "\n",
        "def solution(participant, completion):\n",
        "    \n",
        "    sort_par = sorted(participant)\n",
        "    sort_com = sorted(completion)\n",
        "    \n",
        "    for p,c in zip(sort_par, sort_com):\n",
        "        if p != c:\n",
        "            return p\n",
        "    \n",
        "    return sort_par[-1]"
      ],
      "metadata": {
        "id": "cLvMrshmh82a"
      },
      "execution_count": null,
      "outputs": []
    },
    {
      "cell_type": "code",
      "source": [
        "'''\n",
        "pop 함수\n",
        "\n",
        "https://wikidocs.net/14#pop\n",
        "'''\n",
        "\n",
        "def solution(participant, completion):\n",
        "    \n",
        "    sort_par = sorted(participant)\n",
        "    sort_com = sorted(completion)\n",
        "    \n",
        "    for p,c in zip(sort_par, sort_com):\n",
        "        if p != c:\n",
        "            return p\n",
        "    \n",
        "    return sort_par.pop()"
      ],
      "metadata": {
        "id": "p8XKoV8doUPh"
      },
      "execution_count": null,
      "outputs": []
    },
    {
      "cell_type": "markdown",
      "source": [
        "## 2.직사각형 별찍기\n",
        "\n",
        "- https://programmers.co.kr/learn/courses/30/lessons/12969"
      ],
      "metadata": {
        "id": "2tyylcdwpIeM"
      }
    },
    {
      "cell_type": "markdown",
      "source": [
        "### 1번 풀이 - 틀림"
      ],
      "metadata": {
        "id": "MDmTenSOsEYd"
      }
    },
    {
      "cell_type": "code",
      "source": [
        "# a, b = map(int, input().strip().split(' '))\n",
        "\n",
        "a, b = 5, 3\n",
        "answer = (a*'*', '\\n')*b\n",
        "print(answer)"
      ],
      "metadata": {
        "colab": {
          "base_uri": "https://localhost:8080/"
        },
        "id": "AeXp5-G5oUMt",
        "outputId": "bebf57c1-d2f9-4259-bb41-83fe9d4741a5"
      },
      "execution_count": null,
      "outputs": [
        {
          "output_type": "stream",
          "name": "stdout",
          "text": [
            "('*****', '\\n', '*****', '\\n', '*****', '\\n')\n"
          ]
        }
      ]
    },
    {
      "cell_type": "markdown",
      "source": [
        "### 2번 풀이 - 정답"
      ],
      "metadata": {
        "id": "mJRq3ssQsHhb"
      }
    },
    {
      "cell_type": "code",
      "source": [
        "# 이걸로 해야한다!\n",
        "# https://dojang.io/mod/page/view.php?id=1224\n",
        "# https://gilu-world.tistory.com/40\n",
        "\n",
        "a, b = 5, 3\n",
        "answer = (a*'*' + '\\n')*b\n",
        "print(answer)"
      ],
      "metadata": {
        "colab": {
          "base_uri": "https://localhost:8080/"
        },
        "id": "UDczc27AoUKL",
        "outputId": "124ebfe5-ffad-470a-e059-16078872b521"
      },
      "execution_count": null,
      "outputs": [
        {
          "output_type": "stream",
          "name": "stdout",
          "text": [
            "*****\n",
            "*****\n",
            "*****\n",
            "\n"
          ]
        }
      ]
    },
    {
      "cell_type": "markdown",
      "source": [
        "### 추가 문제"
      ],
      "metadata": {
        "id": "ALqid1a2s-rI"
      }
    },
    {
      "cell_type": "code",
      "source": [
        "for i in range(3):\n",
        "  print((i+1)*'*')"
      ],
      "metadata": {
        "colab": {
          "base_uri": "https://localhost:8080/"
        },
        "id": "FXovGMCCoUHW",
        "outputId": "a274646a-0cea-4fd5-daaf-79c266802071"
      },
      "execution_count": null,
      "outputs": [
        {
          "output_type": "stream",
          "name": "stdout",
          "text": [
            "*\n",
            "**\n",
            "***\n"
          ]
        }
      ]
    },
    {
      "cell_type": "markdown",
      "source": [
        "## 3.x만큼 간격이 있는 n개의 숫자\n",
        "\n",
        "- https://programmers.co.kr/learn/courses/30/lessons/12954"
      ],
      "metadata": {
        "id": "pFBbOWbQt5eg"
      }
    },
    {
      "cell_type": "code",
      "source": [
        "def solution(x, n):\n",
        "    \n",
        "    answer = []\n",
        "    \n",
        "    for i in range(n):\n",
        "        i += 1 # =+는 아니다!\n",
        "        a = x*i\n",
        "        answer.append(a)\n",
        "        \n",
        "    return answer"
      ],
      "metadata": {
        "id": "TExyUaLFoT_l"
      },
      "execution_count": null,
      "outputs": []
    },
    {
      "cell_type": "code",
      "source": [
        "def solution(x, n):\n",
        "    answer = []\n",
        "    for i in range(1,n+1):\n",
        "        answer.append(x*i)\n",
        "    return answer"
      ],
      "metadata": {
        "id": "aT5nazhVvezl"
      },
      "execution_count": null,
      "outputs": []
    },
    {
      "cell_type": "markdown",
      "source": [
        "## 4.행렬의 덧셈\n",
        "\n",
        "- https://programmers.co.kr/learn/courses/30/lessons/12950"
      ],
      "metadata": {
        "id": "Nh7larknwnvY"
      }
    },
    {
      "cell_type": "code",
      "source": [
        "'''\n",
        "zip 함수\n",
        "'''\n",
        "\n",
        "arr1 = [[1,2],[2,3]]\n",
        "arr2 = [[3,4],[5,6]]\n",
        "arr1, arr2"
      ],
      "metadata": {
        "colab": {
          "base_uri": "https://localhost:8080/"
        },
        "id": "6KLH5uO4vexg",
        "outputId": "7b087545-d06a-48af-e96f-ab08d77e808d"
      },
      "execution_count": null,
      "outputs": [
        {
          "output_type": "execute_result",
          "data": {
            "text/plain": [
              "([[1, 2], [2, 3]], [[3, 4], [5, 6]])"
            ]
          },
          "metadata": {},
          "execution_count": 27
        }
      ]
    },
    {
      "cell_type": "code",
      "source": [
        "list(zip([1, 2, 3], [4, 5, 6]))"
      ],
      "metadata": {
        "colab": {
          "base_uri": "https://localhost:8080/"
        },
        "id": "AlvFPcCuzbdS",
        "outputId": "70b8b770-77ef-4295-b4b4-2d6a6a284ec6"
      },
      "execution_count": null,
      "outputs": [
        {
          "output_type": "execute_result",
          "data": {
            "text/plain": [
              "[(1, 4), (2, 5), (3, 6)]"
            ]
          },
          "metadata": {},
          "execution_count": 35
        }
      ]
    },
    {
      "cell_type": "code",
      "source": [
        "for a,b in zip(arr1, arr2):\n",
        "  print(a,b)"
      ],
      "metadata": {
        "colab": {
          "base_uri": "https://localhost:8080/"
        },
        "id": "kvQoiKZ3veu0",
        "outputId": "aaddde02-a15a-40ef-f997-cea75c485bc7"
      },
      "execution_count": null,
      "outputs": [
        {
          "output_type": "stream",
          "name": "stdout",
          "text": [
            "[1, 2] [3, 4]\n",
            "[2, 3] [5, 6]\n"
          ]
        }
      ]
    },
    {
      "cell_type": "code",
      "source": [
        "for a,b in zip(arr1, arr2):\n",
        "  print(a+b) # 이렇게 더할 수는 없다."
      ],
      "metadata": {
        "colab": {
          "base_uri": "https://localhost:8080/"
        },
        "id": "8FRXL2J3vese",
        "outputId": "16763dc1-d886-428e-fe59-fe4c1d98b91e"
      },
      "execution_count": null,
      "outputs": [
        {
          "output_type": "stream",
          "name": "stdout",
          "text": [
            "[1, 2, 3, 4]\n",
            "[2, 3, 5, 6]\n"
          ]
        }
      ]
    },
    {
      "cell_type": "code",
      "source": [
        "'''\n",
        "리스트 내포\n",
        "\n",
        "https://wikidocs.net/22#_1\n",
        "'''\n",
        "\n",
        "[[c + d for c,d in zip(a, b)] for a, b in zip(arr1, arr2)]"
      ],
      "metadata": {
        "colab": {
          "base_uri": "https://localhost:8080/"
        },
        "id": "YQkFV0Vzveph",
        "outputId": "9e89b7dc-18fb-4f89-f783-27ab11c67b36"
      },
      "execution_count": null,
      "outputs": [
        {
          "output_type": "execute_result",
          "data": {
            "text/plain": [
              "[[4, 6], [7, 9]]"
            ]
          },
          "metadata": {},
          "execution_count": 34
        }
      ]
    },
    {
      "cell_type": "code",
      "source": [
        "def solution(arr1, arr2): \n",
        "    answer = [[c + d for c,d in zip(a, b)] for a, b in zip(arr1, arr2)]\n",
        "    return answer"
      ],
      "metadata": {
        "id": "eeszy3J1vece"
      },
      "execution_count": null,
      "outputs": []
    },
    {
      "cell_type": "markdown",
      "source": [
        "## 5.핸드폰 번호 가리기\n",
        "\n",
        "- https://programmers.co.kr/learn/courses/30/lessons/12948"
      ],
      "metadata": {
        "id": "MZL4SUWHzjOx"
      }
    },
    {
      "cell_type": "markdown",
      "source": [
        "### 내 풀이"
      ],
      "metadata": {
        "id": "vaD9YUXE0iZJ"
      }
    },
    {
      "cell_type": "code",
      "source": [
        "def solution(phone_number):\n",
        "    star_len = len(phone_number[:-4])\n",
        "    star = star_len*'*'\n",
        "    real = phone_number[-4:]\n",
        "    answer = star+real\n",
        "    return answer"
      ],
      "metadata": {
        "id": "v8hW-sVCzmfX"
      },
      "execution_count": null,
      "outputs": []
    },
    {
      "cell_type": "markdown",
      "source": [
        "### 정답 풀이"
      ],
      "metadata": {
        "id": "NOK3nfVa0kSB"
      }
    },
    {
      "cell_type": "code",
      "source": [
        "def solution(phone_number):\n",
        "    return '*'*(len(phone_number)-4) + phone_number[-4:]"
      ],
      "metadata": {
        "id": "ESBa5Fp2zjGz"
      },
      "execution_count": null,
      "outputs": []
    },
    {
      "cell_type": "markdown",
      "source": [
        "## 6.하샤드 수\n",
        "\n",
        "- https://programmers.co.kr/learn/courses/30/lessons/12947"
      ],
      "metadata": {
        "id": "CMCJsad71_SM"
      }
    },
    {
      "cell_type": "markdown",
      "source": [
        "### 오답"
      ],
      "metadata": {
        "id": "a4Nh2FVJ3zs3"
      }
    },
    {
      "cell_type": "code",
      "source": [
        "'''\n",
        "split 함수\n",
        "'''\n",
        "def solution(x):\n",
        "    lst = str(x).split() # 안나눠진다!!\n",
        "    print(lst)\n",
        "    num = int(lst[0]) + int(lst[1])\n",
        "    if x%num == 0:\n",
        "        return true"
      ],
      "metadata": {
        "id": "iIB1872g3zQ5"
      },
      "execution_count": null,
      "outputs": []
    },
    {
      "cell_type": "code",
      "source": [
        "solution(10)"
      ],
      "metadata": {
        "colab": {
          "base_uri": "https://localhost:8080/",
          "height": 318
        },
        "id": "OAH1cLeT38vw",
        "outputId": "41eb3410-1924-4e64-a310-7af113c8de4c"
      },
      "execution_count": null,
      "outputs": [
        {
          "output_type": "stream",
          "name": "stdout",
          "text": [
            "['10']\n"
          ]
        },
        {
          "output_type": "error",
          "ename": "IndexError",
          "evalue": "ignored",
          "traceback": [
            "\u001b[0;31m---------------------------------------------------------------------------\u001b[0m",
            "\u001b[0;31mIndexError\u001b[0m                                Traceback (most recent call last)",
            "\u001b[0;32m<ipython-input-48-54ab054d5708>\u001b[0m in \u001b[0;36m<module>\u001b[0;34m()\u001b[0m\n\u001b[0;32m----> 1\u001b[0;31m \u001b[0msolution\u001b[0m\u001b[0;34m(\u001b[0m\u001b[0;36m10\u001b[0m\u001b[0;34m)\u001b[0m\u001b[0;34m\u001b[0m\u001b[0;34m\u001b[0m\u001b[0m\n\u001b[0m",
            "\u001b[0;32m<ipython-input-47-231182eb092e>\u001b[0m in \u001b[0;36msolution\u001b[0;34m(x)\u001b[0m\n\u001b[1;32m      2\u001b[0m     \u001b[0mlst\u001b[0m \u001b[0;34m=\u001b[0m \u001b[0mstr\u001b[0m\u001b[0;34m(\u001b[0m\u001b[0mx\u001b[0m\u001b[0;34m)\u001b[0m\u001b[0;34m.\u001b[0m\u001b[0msplit\u001b[0m\u001b[0;34m(\u001b[0m\u001b[0;34m)\u001b[0m\u001b[0;34m\u001b[0m\u001b[0;34m\u001b[0m\u001b[0m\n\u001b[1;32m      3\u001b[0m     \u001b[0mprint\u001b[0m\u001b[0;34m(\u001b[0m\u001b[0mlst\u001b[0m\u001b[0;34m)\u001b[0m\u001b[0;34m\u001b[0m\u001b[0;34m\u001b[0m\u001b[0m\n\u001b[0;32m----> 4\u001b[0;31m     \u001b[0mnum\u001b[0m \u001b[0;34m=\u001b[0m \u001b[0mint\u001b[0m\u001b[0;34m(\u001b[0m\u001b[0mlst\u001b[0m\u001b[0;34m[\u001b[0m\u001b[0;36m0\u001b[0m\u001b[0;34m]\u001b[0m\u001b[0;34m)\u001b[0m \u001b[0;34m+\u001b[0m \u001b[0mint\u001b[0m\u001b[0;34m(\u001b[0m\u001b[0mlst\u001b[0m\u001b[0;34m[\u001b[0m\u001b[0;36m1\u001b[0m\u001b[0;34m]\u001b[0m\u001b[0;34m)\u001b[0m\u001b[0;34m\u001b[0m\u001b[0;34m\u001b[0m\u001b[0m\n\u001b[0m\u001b[1;32m      5\u001b[0m     \u001b[0;32mif\u001b[0m \u001b[0mx\u001b[0m\u001b[0;34m%\u001b[0m\u001b[0mnum\u001b[0m \u001b[0;34m==\u001b[0m \u001b[0;36m0\u001b[0m\u001b[0;34m:\u001b[0m\u001b[0;34m\u001b[0m\u001b[0;34m\u001b[0m\u001b[0m\n\u001b[1;32m      6\u001b[0m         \u001b[0;32mreturn\u001b[0m \u001b[0mtrue\u001b[0m\u001b[0;34m\u001b[0m\u001b[0;34m\u001b[0m\u001b[0m\n",
            "\u001b[0;31mIndexError\u001b[0m: list index out of range"
          ]
        }
      ]
    },
    {
      "cell_type": "code",
      "source": [
        "'''\n",
        "나눗셈\n",
        "'''\n",
        "\n",
        "7/2 # 그냥 나누기!"
      ],
      "metadata": {
        "colab": {
          "base_uri": "https://localhost:8080/"
        },
        "id": "qdGGOve5zjEV",
        "outputId": "7cd2ce2e-cf73-4133-8806-4222657e53b7"
      },
      "execution_count": null,
      "outputs": [
        {
          "output_type": "execute_result",
          "data": {
            "text/plain": [
              "3.5"
            ]
          },
          "metadata": {},
          "execution_count": 39
        }
      ]
    },
    {
      "cell_type": "code",
      "source": [
        "7//2 # 몫만!"
      ],
      "metadata": {
        "colab": {
          "base_uri": "https://localhost:8080/"
        },
        "id": "FMMnHKTRzjBw",
        "outputId": "5a3395b6-05c7-4f0f-e7ed-674229d8deca"
      },
      "execution_count": null,
      "outputs": [
        {
          "output_type": "execute_result",
          "data": {
            "text/plain": [
              "3"
            ]
          },
          "metadata": {},
          "execution_count": 40
        }
      ]
    },
    {
      "cell_type": "code",
      "source": [
        "7%2 # 나머지만!"
      ],
      "metadata": {
        "colab": {
          "base_uri": "https://localhost:8080/"
        },
        "id": "eyMiC4gbzi-9",
        "outputId": "63c9fa7e-042b-4930-98c8-950c9e749c1f"
      },
      "execution_count": null,
      "outputs": [
        {
          "output_type": "execute_result",
          "data": {
            "text/plain": [
              "1"
            ]
          },
          "metadata": {},
          "execution_count": 41
        }
      ]
    },
    {
      "cell_type": "markdown",
      "source": [
        "### 정답"
      ],
      "metadata": {
        "id": "puHAOtAx31lz"
      }
    },
    {
      "cell_type": "markdown",
      "source": [
        "#### 다른 사람"
      ],
      "metadata": {
        "id": "53TEOdVP5kIW"
      }
    },
    {
      "cell_type": "code",
      "source": [
        "def solution(x):\n",
        "    return x % sum([int(n) for n in str(x)]) == 0"
      ],
      "metadata": {
        "id": "INS54fc2y0Ov"
      },
      "execution_count": null,
      "outputs": []
    },
    {
      "cell_type": "markdown",
      "source": [
        "#### 내 풀이"
      ],
      "metadata": {
        "id": "m6-BlMLU5nhK"
      }
    },
    {
      "cell_type": "code",
      "source": [
        "def solution(x):\n",
        "    for i in str(x):\n",
        "      print(i)"
      ],
      "metadata": {
        "id": "UNoF3XyYy0L7"
      },
      "execution_count": null,
      "outputs": []
    },
    {
      "cell_type": "code",
      "source": [
        "solution(10)"
      ],
      "metadata": {
        "colab": {
          "base_uri": "https://localhost:8080/"
        },
        "id": "R5t2gW6xy0JU",
        "outputId": "04d60d39-6c4a-45d2-e063-2a9dc8f94d92"
      },
      "execution_count": null,
      "outputs": [
        {
          "output_type": "stream",
          "name": "stdout",
          "text": [
            "1\n",
            "0\n"
          ]
        }
      ]
    },
    {
      "cell_type": "code",
      "source": [
        "def solution(x):\n",
        "    a = 0\n",
        "    for i in str(x):\n",
        "        a += int(i)\n",
        "    print(a)"
      ],
      "metadata": {
        "id": "5WP3aSK75CnK"
      },
      "execution_count": null,
      "outputs": []
    },
    {
      "cell_type": "code",
      "source": [
        "solution(12)"
      ],
      "metadata": {
        "colab": {
          "base_uri": "https://localhost:8080/"
        },
        "id": "DxwRfgHu5Ckt",
        "outputId": "d0e438a9-5cf6-45a2-916e-beba48f1206d"
      },
      "execution_count": null,
      "outputs": [
        {
          "output_type": "stream",
          "name": "stdout",
          "text": [
            "3\n"
          ]
        }
      ]
    },
    {
      "cell_type": "code",
      "source": [
        "def solution(x):\n",
        "    a = 0\n",
        "    for i in str(x):\n",
        "        a += int(i)\n",
        "    return x%a==0"
      ],
      "metadata": {
        "id": "xah03xjF5Cic"
      },
      "execution_count": null,
      "outputs": []
    },
    {
      "cell_type": "markdown",
      "source": [
        "## 7.평균 구하기\n",
        "\n",
        "- https://programmers.co.kr/learn/courses/30/lessons/12944"
      ],
      "metadata": {
        "id": "YPKwZ_Dy6tUs"
      }
    },
    {
      "cell_type": "code",
      "source": [
        "def solution(arr):\n",
        "    return sum(arr) / len(arr)\n",
        "\n",
        "#############################################\n",
        "###   1)\n",
        "###   return (sum(arr) / len(arr))\n",
        "###\n",
        "###   2)\n",
        "###   answer = 0\n",
        "###   for i in arr:\n",
        "###       answer += i\n",
        "###   return answer / len(arr)\n",
        "###\n",
        "###   3)\n",
        "###   if len(arr) == 0:\n",
        "###       return 0\n",
        "###\n",
        "###   return sum(list) / len(list)\n",
        "########################################"
      ],
      "metadata": {
        "id": "OgJT3H2U5pfN"
      },
      "execution_count": null,
      "outputs": []
    },
    {
      "cell_type": "markdown",
      "source": [
        "## 8.콜라츠 추측\n",
        "\n",
        "- https://programmers.co.kr/learn/courses/30/lessons/12943"
      ],
      "metadata": {
        "id": "4DI8v1-l7eYR"
      }
    },
    {
      "cell_type": "markdown",
      "source": [
        "### 버전 업뎃 되면서 실패됨"
      ],
      "metadata": {
        "id": "IykUiknzX7XZ"
      }
    },
    {
      "cell_type": "code",
      "source": [
        "'''\n",
        "파이썬의 조건부 표현식(conditional expression)을 사용\n",
        "https://wikidocs.net/20#_3\n",
        "'''\n",
        "\n",
        "def solution(num):\n",
        "    for i in range(500):\n",
        "        num = num/2 if num % 2 ==0 else num*3 +1\n",
        "        if num == 1:\n",
        "            return i+1\n",
        "    return -1"
      ],
      "metadata": {
        "id": "H9Dlqvhk5pai"
      },
      "execution_count": null,
      "outputs": []
    },
    {
      "cell_type": "markdown",
      "source": [
        "### 성공!"
      ],
      "metadata": {
        "id": "JH09Jl6lX9Wq"
      }
    },
    {
      "cell_type": "code",
      "source": [
        "# 중복된 if문을 위에서 제거 가능하다.\n",
        "\n",
        "def solution(num):\n",
        "    \n",
        "    if num == 1:\n",
        "        return 0\n",
        "    \n",
        "    for i in range(500):\n",
        "\n",
        "        if num % 2 == 0:\n",
        "            num = num/2\n",
        "            if num == 1:\n",
        "                return i+1\n",
        "        else:\n",
        "            num = num*3+1\n",
        "            if num == 1:\n",
        "                return i+1\n",
        "        \n",
        "    return -1"
      ],
      "metadata": {
        "id": "kIg4UP8C5pcp"
      },
      "execution_count": null,
      "outputs": []
    },
    {
      "cell_type": "code",
      "source": [
        "##########################################################\n",
        "###\n",
        "###   1)\n",
        "###   for i in range(500):\n",
        "###       num = num / 2 if num % 2 == 0 else num*3 + 1\n",
        "###       if num == 1:\n",
        "###            return i + 1\n",
        "###    return -1\n",
        "###\n",
        "###\n",
        "###   2)\n",
        "###    answer = 0 #작업횟수 초기화\n",
        "###    while True: #수마다 몇회 반복해야 할지 모르므로 무한루프\n",
        "###         if num == 1: #입력받은 수가 1일경우 answer를 리턴\n",
        "###             return answer\n",
        "###\n",
        "###         if answer == 500: #작업 횟수가 500이 되면 -1을 리턴\n",
        "###            return -1\n",
        "###\n",
        "###         if num % 2 == 0: #입력받은 수가 짝수 일경우 2로 나눈값을 변수에 담는다. \n",
        "###             num = num / 2\n",
        "###\n",
        "###        elif num % 2 == 1: #입력받은 수가 홀수 일경우 3을 곱하고 1을 더해준다.\n",
        "###            num = num * 3 + 1\n",
        "###\n",
        "###        answer += 1 #위의 작업을 마치고 작업횟수를 1더해준다\n",
        "##################################################################"
      ],
      "metadata": {
        "id": "RsL73b_f5pXv"
      },
      "execution_count": null,
      "outputs": []
    },
    {
      "cell_type": "markdown",
      "source": [
        "## 9.최대공약수와 최소공배수\n",
        "\n",
        "- https://programmers.co.kr/learn/courses/30/lessons/12940"
      ],
      "metadata": {
        "id": "m0dcKMb5bTKr"
      }
    },
    {
      "cell_type": "code",
      "source": [
        "# 유클리드 호제법으로 푼다!\n",
        "# https://myjamong.tistory.com/138\n",
        "\n",
        "def solution(a, b):\n",
        "    c, d = max(a, b), min(a, b)\n",
        "    t = 1\n",
        "    while t > 0:\n",
        "        t = c % d\n",
        "        c, d = d, t\n",
        "    answer = [c, int(a*b)/c]\n",
        "    return answer"
      ],
      "metadata": {
        "id": "XDUJP-f3bTCG"
      },
      "execution_count": null,
      "outputs": []
    },
    {
      "cell_type": "code",
      "source": [
        "def gcd(a, b):\n",
        "    if a < b:\n",
        "        (a, b) = (b, a)\n",
        "    while b != 0:\n",
        "        (a, b) = (b, a % b)\n",
        "    return a\n",
        " \n",
        "def solution(n, m):\n",
        "    return [gcd(n,m), n*m/gcd(n,m)]"
      ],
      "metadata": {
        "id": "aJiRmDXLbS_8"
      },
      "execution_count": null,
      "outputs": []
    },
    {
      "cell_type": "markdown",
      "source": [
        "## 10.짝수와 홀수\n",
        "\n",
        "- https://programmers.co.kr/learn/courses/30/lessons/12937"
      ],
      "metadata": {
        "id": "Z8_L4CGljP5N"
      }
    },
    {
      "cell_type": "code",
      "source": [
        "def solution(num):\n",
        "    answer = 'Even' if num%2==0 else 'Odd'\n",
        "    return answer"
      ],
      "metadata": {
        "id": "phhaQb4JbS9q"
      },
      "execution_count": null,
      "outputs": []
    },
    {
      "cell_type": "markdown",
      "source": [
        "## 11.제일 작은 수 제거하기\n",
        "\n",
        "- https://programmers.co.kr/learn/courses/30/lessons/12935"
      ],
      "metadata": {
        "id": "A-Etq1LojiMR"
      }
    },
    {
      "cell_type": "code",
      "source": [
        "'''\n",
        "remove, pop 함수!\n",
        "\n",
        "https://redcow77.tistory.com/359\n",
        "'''\n",
        "\n",
        "def solution(arr):\n",
        "    arr.remove(min(arr))\n",
        "    if arr != True:\n",
        "        return [-1]\n",
        "    return arr"
      ],
      "metadata": {
        "id": "UlB94gwejiDl"
      },
      "execution_count": null,
      "outputs": []
    },
    {
      "cell_type": "code",
      "source": [
        "def solution(arr):\n",
        "    i = arr.index(min(arr))\n",
        "    arr.pop(i)\n",
        "    return arr or [-1] # 이게 개쩌는구나!! False면 or 뒤가 나오는 것이다!!"
      ],
      "metadata": {
        "id": "NEMqq-0bjiAq"
      },
      "execution_count": null,
      "outputs": []
    },
    {
      "cell_type": "code",
      "source": [
        "def solution(arr):\n",
        "    arr.remove(min(arr))\n",
        "    return arr or [-1]"
      ],
      "metadata": {
        "id": "In5f1gQCjh-L",
        "outputId": "cd550669-2275-4bb1-eeb4-08489a4b6981",
        "colab": {
          "base_uri": "https://localhost:8080/"
        }
      },
      "execution_count": null,
      "outputs": [
        {
          "output_type": "stream",
          "name": "stdout",
          "text": [
            "4\n"
          ]
        }
      ]
    },
    {
      "cell_type": "code",
      "source": [
        "'''\n",
        "1)\n",
        "index(x) 함수는 리스트에 x 값이 있으면 x의 위치 값을 돌려준다\n",
        ">>> a.index(3)\n",
        "2\n",
        ">>> a = [1,2,3]\n",
        ">>> a.index(1)\n",
        "0\n",
        "\n",
        "\n",
        "2)\n",
        "pop()은 리스트의 맨 마지막 요소를 돌려주고 그 요소는 삭제한다.\n",
        ">>> a = [1,2,3]\n",
        ">>> a.pop()\n",
        "3\n",
        ">>> a\n",
        "[1, 2]\n",
        "\n",
        "\n",
        "3)\n",
        "return A or B\n",
        "파이썬에서 0, [], \" \", False 등등은 거짓 그 외에 나머지 값은 참\n",
        "리스트가 빈 리스트라면(거짓) or에 의해서 참인 값 [-1]을 return 한다\n",
        "'''"
      ],
      "metadata": {
        "id": "0KFruXrZjh7P"
      },
      "execution_count": null,
      "outputs": []
    },
    {
      "cell_type": "markdown",
      "source": [
        "## 12.정수 제곱근 판별\n",
        "\n",
        "- https://programmers.co.kr/learn/courses/30/lessons/12934"
      ],
      "metadata": {
        "id": "MXJhbS7Foon4"
      }
    },
    {
      "cell_type": "code",
      "source": [
        "def solution(n):\n",
        "    num = n**(1/2)\n",
        "    if num == int(num):\n",
        "        return (num+1)**2    \n",
        "    return -1"
      ],
      "metadata": {
        "id": "prwcTy00jh4q"
      },
      "execution_count": null,
      "outputs": []
    },
    {
      "cell_type": "code",
      "source": [
        "'''\n",
        "def solution(n):\n",
        "    num = pow(n, 0.5)\n",
        "    # num = n ** (1/2)\n",
        "\n",
        "    if num == int(num) :\n",
        "        return (num+1)**2\n",
        "\n",
        "    return -1\n",
        "'''"
      ],
      "metadata": {
        "id": "eZeTY_-qbS7N"
      },
      "execution_count": null,
      "outputs": []
    },
    {
      "cell_type": "markdown",
      "source": [
        "## 13.정수 내림차순으로 배치하기\n",
        "\n",
        "- https://programmers.co.kr/learn/courses/30/lessons/12933"
      ],
      "metadata": {
        "id": "oXLzxtftseby"
      }
    },
    {
      "cell_type": "code",
      "source": [
        "'''\n",
        "리스트 내포, join 함수\n",
        "\n",
        "https://wikidocs.net/22#_1\n",
        "https://devpouch.tistory.com/77\n",
        "'''\n",
        "\n",
        "def solution(n):\n",
        "    box = [i for i in str(n)]\n",
        "    box.sort(reverse=True)\n",
        "    answer = ''.join(box)\n",
        "    return int(answer)"
      ],
      "metadata": {
        "id": "yyWqDKjYsh8s"
      },
      "execution_count": null,
      "outputs": []
    },
    {
      "cell_type": "code",
      "source": [
        "def solution(n):\n",
        "    ls = list(str(n))\n",
        "    ls.sort(reverse = True)\n",
        "    return int(''.join(ls))"
      ],
      "metadata": {
        "id": "IT117pfPsh6S"
      },
      "execution_count": null,
      "outputs": []
    },
    {
      "cell_type": "code",
      "source": [
        "'''\n",
        "sort()는 오름차순 정렬\n",
        "sort(reverse = True)는 내림차순 정렬\n",
        "reverse( )는 단순히 리스트의 순서를 뒤집는 것\n",
        "sorted()는 새로운 리스트를 반환, 오름차순\n",
        "sorted(reverse=True)는 내림차순\n",
        "\n",
        "split(구분자)는 문자열을 쪼개 리스트로 반환\n",
        ">>> a = \"Life is too short\"\n",
        ">>> a.split()\n",
        "['Life', 'is', 'too', 'short']\n",
        ">>> b = \"a:b:c:d\"\n",
        ">>> b.split(':')\n",
        "['a', 'b', 'c', 'd']\n",
        "\n",
        "\"\".join(리스트)는 리스트의 문자열들을 합치는 역할\n",
        "'''"
      ],
      "metadata": {
        "id": "vgBcb3sFsh3l"
      },
      "execution_count": null,
      "outputs": []
    },
    {
      "cell_type": "markdown",
      "source": [
        "## 14.자연수 뒤집어 배열로 만들기\n",
        "\n",
        "- https://programmers.co.kr/learn/courses/30/lessons/12932"
      ],
      "metadata": {
        "id": "aPfAsCrm1sv0"
      }
    },
    {
      "cell_type": "code",
      "source": [
        "'''\n",
        "[::-1]\n",
        "\n",
        "순서 뒤집기!!\n",
        "'''\n",
        "\n",
        "def solution(n):\n",
        "    return [int(i) for i in str(n)][::-1]"
      ],
      "metadata": {
        "id": "pKbooCQksh1I"
      },
      "execution_count": null,
      "outputs": []
    },
    {
      "cell_type": "markdown",
      "source": [
        "## 15.자릿수 더하기\n",
        "\n",
        "- https://programmers.co.kr/learn/courses/30/lessons/12931"
      ],
      "metadata": {
        "id": "m-N-ulD138eB"
      }
    },
    {
      "cell_type": "code",
      "source": [
        "def solution(n):\n",
        "\n",
        "    return sum([int(i) for i in str(n)])"
      ],
      "metadata": {
        "id": "InhvfhONbS47"
      },
      "execution_count": null,
      "outputs": []
    },
    {
      "cell_type": "code",
      "source": [
        "'''\n",
        "sum()은 Iterable인 list, tuple, dictionary의 합을 리턴하는 함수입니다. \n",
        "숫자만 가능하며, 숫자가 아닌 객체가 있을 때 TypeError가 발생합니다.\n",
        "\n",
        "sum(iterable) : iterable의 합\n",
        "sum(iterable, num) : start + num의 합\n",
        "\n",
        "\n",
        "list = [10, 22, 19, 2, 9, 3]\n",
        "sum_list = sum(list)\n",
        "print(sum_list)\n",
        ">>>65\n",
        "'''"
      ],
      "metadata": {
        "id": "4p3P2w8UbS2Q"
      },
      "execution_count": null,
      "outputs": []
    },
    {
      "cell_type": "markdown",
      "source": [
        "## 16.이상한 문자 만들기\n",
        "\n",
        "- https://programmers.co.kr/learn/courses/30/lessons/12930"
      ],
      "metadata": {
        "id": "QQfvUZBA5F-o"
      }
    },
    {
      "cell_type": "code",
      "source": [
        "'''\n",
        "split 함수\n",
        "\n",
        "split()과 split(' ')이 똑같지만 그래도 확실하게 후자를 사용하자!\n",
        "'''\n",
        "\n",
        "def solution(s):\n",
        "    \n",
        "    total = []\n",
        "    for i in s.split(' '):\n",
        "        \n",
        "        box = []\n",
        "        for num, j in enumerate(str(i)):\n",
        "            if num % 2 == 0:\n",
        "                box.append(j.upper())\n",
        "            else:\n",
        "                box.append(j.lower())\n",
        "        plus = ''.join(box)\n",
        "        total.append(plus)\n",
        "    \n",
        "\n",
        "    return ' '.join(total)"
      ],
      "metadata": {
        "id": "gRb1tUcz5Cf2"
      },
      "execution_count": null,
      "outputs": []
    },
    {
      "cell_type": "code",
      "source": [
        "def solution(s):\n",
        "    final = []\n",
        "    for x in s.split(\" \"):\n",
        "        word = ''\n",
        "        for i in range(len(x)):\n",
        "            a = x[i].upper() if i%2 == 0 else x[i].lower()\n",
        "            word = word + a\n",
        "        final.append(word)\n",
        "    return \" \".join(final)"
      ],
      "metadata": {
        "id": "tMsWxXYn4_AD"
      },
      "execution_count": null,
      "outputs": []
    },
    {
      "cell_type": "code",
      "source": [
        "def solution(s):\n",
        "    return \" \".join(map(lambda x: \"\".join([a.lower() if i % 2 else a.upper() for i, a in enumerate(x)]), s.split(\" \")))"
      ],
      "metadata": {
        "id": "thUrSAyO4--B"
      },
      "execution_count": null,
      "outputs": []
    },
    {
      "cell_type": "markdown",
      "source": [
        "## 17.약수의 합\n",
        "\n",
        "- https://programmers.co.kr/learn/courses/30/lessons/12928"
      ],
      "metadata": {
        "id": "158nPuGK9MWk"
      }
    },
    {
      "cell_type": "code",
      "source": [
        "def solution(n):\n",
        "    \n",
        "    box = []\n",
        "    for i in range(n):\n",
        "        print(i)\n",
        "        if n%(i+1)==0:\n",
        "            print('yes')\n",
        "            box.append(i+1)\n",
        "    print(box)\n",
        "    answer = sum(box)\n",
        "    return answer"
      ],
      "metadata": {
        "id": "n5GkXfpa9MPl"
      },
      "execution_count": null,
      "outputs": []
    },
    {
      "cell_type": "code",
      "source": [
        "solution(12)"
      ],
      "metadata": {
        "id": "3x3FMZDH9MM5",
        "outputId": "b8c2e527-c28a-4d26-cca6-3d5340f6d0f8",
        "colab": {
          "base_uri": "https://localhost:8080/"
        }
      },
      "execution_count": null,
      "outputs": [
        {
          "output_type": "stream",
          "name": "stdout",
          "text": [
            "0\n",
            "yes\n",
            "1\n",
            "yes\n",
            "2\n",
            "yes\n",
            "3\n",
            "yes\n",
            "4\n",
            "5\n",
            "yes\n",
            "6\n",
            "7\n",
            "8\n",
            "9\n",
            "10\n",
            "11\n",
            "yes\n",
            "[1, 2, 3, 4, 6, 12]\n"
          ]
        },
        {
          "output_type": "execute_result",
          "data": {
            "text/plain": [
              "28"
            ]
          },
          "metadata": {},
          "execution_count": 49
        }
      ]
    },
    {
      "cell_type": "code",
      "source": [
        "def solution(n):\n",
        "    \n",
        "    box = []\n",
        "    for i in range(n):\n",
        "        if n%(i+1)==0:\n",
        "            box.append(i+1)\n",
        "    \n",
        "    answer = sum(box)\n",
        "    return answer"
      ],
      "metadata": {
        "id": "pWqIr7sn9MKh"
      },
      "execution_count": null,
      "outputs": []
    },
    {
      "cell_type": "code",
      "source": [
        "# range에서 시작과 끝, 간격을 설정할 수 있다!\n",
        "\n",
        "def solution(n):\n",
        "    answer = 0 \n",
        "    for i in range(1, n+1) :\n",
        "        if n % i == 0 :\n",
        "            answer += i\n",
        "    return answer"
      ],
      "metadata": {
        "id": "2Mnq6ExrBqAq"
      },
      "execution_count": null,
      "outputs": []
    },
    {
      "cell_type": "code",
      "source": [
        "for i in range(1,10,2):\n",
        "  print(i)"
      ],
      "metadata": {
        "id": "vpTXXI1xBvSG",
        "outputId": "bac1ef83-926d-4836-824a-022619bc96c1",
        "colab": {
          "base_uri": "https://localhost:8080/"
        }
      },
      "execution_count": null,
      "outputs": [
        {
          "output_type": "stream",
          "name": "stdout",
          "text": [
            "1\n",
            "3\n",
            "5\n",
            "7\n",
            "9\n"
          ]
        }
      ]
    },
    {
      "cell_type": "code",
      "source": [
        "def solution(n):\n",
        "    # num / 2 의 수들만 검사하면 성능 약 2배 향상잼\n",
        "    return n + sum([i for i in range(1, (n // 2) + 1) if n % i == 0])"
      ],
      "metadata": {
        "id": "_EZdet5U9MIA"
      },
      "execution_count": null,
      "outputs": []
    },
    {
      "cell_type": "markdown",
      "source": [
        "## 18.시저 암호\n",
        "\n",
        "- https://programmers.co.kr/learn/courses/30/lessons/12926"
      ],
      "metadata": {
        "id": "GGHQ3R5gB7G7"
      }
    },
    {
      "cell_type": "code",
      "source": [
        "'''\n",
        "ord(), chr() 함수\n",
        "\n",
        "https://wikidocs.net/32\n",
        "'''\n",
        "\n",
        "def solution(s, n):\n",
        "    s = list(s)\n",
        "    for i in range(len(s)):\n",
        "        if s[i].isupper():\n",
        "            s[i] = chr((ord(s[i])-ord('A')+n)%26 + ord('A'))\n",
        "        elif s[i].islower():\n",
        "            s[i] = chr((ord(s[i])-ord('a')+n)%26 + ord('a'))\n",
        "    return ''.join(s)\n",
        "\n",
        "\n",
        "'''\n",
        "1)\n",
        "def solution(s, n):\n",
        "    s = list(s)\n",
        "    for i in range(len(s)):\n",
        "        if s[i].isupper():\n",
        "            s[i]=chr((ord(s[i])-ord('A')+ n)%26+ord('A')) # 알파벳은 26개\n",
        "        elif s[i].islower():\n",
        "            s[i]=chr((ord(s[i])-ord('a')+ n)%26+ord('a'))\n",
        "\n",
        "    return \"\".join(s)\n",
        "\n",
        "\n",
        "2)\n",
        "def solution(s, n):\n",
        "    alpha_upper = \"ABCDEFGHIJKLMNOPQRSTUVWXYZ\"\n",
        "    alpha_lower = \"abcdefghijklmnopqrstuvwxyz\"\n",
        "    s_n = []\n",
        "    \n",
        "    for i in range(len(s)):\n",
        "        if s[i] == ' ': \n",
        "            s_n.append(' ')\n",
        "        if s[i].isupper():\n",
        "            index = alpha_upper.find(s[i])\n",
        "            s_n.append(alpha_upper[(index+n)%26])\n",
        "        elif s[i].islower():\n",
        "            index = alpha_lower.find(s[i])\n",
        "            s_n.append(alpha_lower[(index+n)%26])\n",
        "    return ''.join(s_n)\n",
        "'''\n",
        "\n",
        "\n",
        "'''\n",
        "1)\n",
        "ord(c)는 문자의 유니코드 값을 돌려주는 함수이다.\n",
        "※ ord 함수는 chr 함수와 반대이다.\n",
        "\n",
        ">>> ord('a')\n",
        "97\n",
        ">>> ord('가')\n",
        "44032\n",
        "\n",
        "2)\n",
        "위치 알려주기1(find)\n",
        "문자열 중 문자 b가 처음으로 나온 위치를 반환한다. 만약 찾는 문자나 문자열이 존재하지 않는다면 -1을 반환한다.\n",
        "※ 파이썬은 숫자를 0부터 세기 때문에 b의 위치는 15가 아닌 14가 된다.\n",
        ">>> a = \"Python is the best choice\"\n",
        ">>> a.find('b')\n",
        "14\n",
        ">>> a.find('k')\n",
        "-1\n",
        "\n",
        "'''"
      ],
      "metadata": {
        "id": "7hhV5G6cB69U"
      },
      "execution_count": null,
      "outputs": []
    },
    {
      "cell_type": "markdown",
      "source": [
        "## 19.문자열을 정수로 바꾸기\n",
        "\n",
        "- https://programmers.co.kr/learn/courses/30/lessons/12925"
      ],
      "metadata": {
        "id": "pmyGYjRcEO9D"
      }
    },
    {
      "cell_type": "markdown",
      "source": [
        "### 오답"
      ],
      "metadata": {
        "id": "3sZqIr3wem-5"
      }
    },
    {
      "cell_type": "code",
      "source": [
        "'''\n",
        "리스트 내포 + if, else\n",
        "\n",
        "https://devpouch.tistory.com/76\n",
        "https://www.delftstack.com/ko/howto/python/python-list-comprehension-if-else/\n",
        "'''\n",
        "\n",
        "def solution(s):\n",
        "  i if i == '-' for i in s"
      ],
      "metadata": {
        "id": "9Y_5dWkMB667"
      },
      "execution_count": null,
      "outputs": []
    },
    {
      "cell_type": "code",
      "source": [
        "def solution(s):\n",
        "    \n",
        "    number = 0\n",
        "    [num*(-1) if i == '-' else number = i*(10**num) for num, i in enumerate(s)]\n",
        "    \n",
        "    return number"
      ],
      "metadata": {
        "id": "bUG78eA2B64g"
      },
      "execution_count": null,
      "outputs": []
    },
    {
      "cell_type": "markdown",
      "source": [
        "### 업뎃 되면서 오답됨."
      ],
      "metadata": {
        "id": "HB6cUEgBeoU5"
      }
    },
    {
      "cell_type": "code",
      "source": [
        "def solution(s):\n",
        "    \n",
        "    number = 0\n",
        "    for num, i in enumerate(s[::-1]):\n",
        "        if i != '-':\n",
        "            number += int(i)*(10**num)\n",
        "        else:\n",
        "            number *= -1\n",
        "    return number"
      ],
      "metadata": {
        "id": "hUK7UHyQB61_"
      },
      "execution_count": null,
      "outputs": []
    },
    {
      "cell_type": "code",
      "source": [
        "def solution(str):\n",
        "    answer = 0\n",
        "    for idx, num in enumerate(str[::-1]):\n",
        "        if num == '-':\n",
        "            answer *= -1\n",
        "        else:\n",
        "            answer += int(num)*(10**idx)\n",
        "    return answer"
      ],
      "metadata": {
        "id": "qAqzlfhaB6zx"
      },
      "execution_count": null,
      "outputs": []
    },
    {
      "cell_type": "markdown",
      "source": [
        "### 정답"
      ],
      "metadata": {
        "id": "eNN83YUjfOoO"
      }
    },
    {
      "cell_type": "code",
      "source": [
        "def solution(str):\n",
        "    return int(str)"
      ],
      "metadata": {
        "id": "sQ5pRIa_B6w_"
      },
      "execution_count": null,
      "outputs": []
    },
    {
      "cell_type": "markdown",
      "source": [
        "## 20.수박수박수박수박수박수?\n",
        "\n",
        "- https://programmers.co.kr/learn/courses/30/lessons/12922"
      ],
      "metadata": {
        "id": "f-MAhO8BfjCi"
      }
    },
    {
      "cell_type": "code",
      "source": [
        "def solution(n):\n",
        "    \n",
        "    answer = ''\n",
        "    for i in range(n):\n",
        "        if i%2 != 0:\n",
        "            answer += '박'\n",
        "        else:\n",
        "            answer += '수'\n",
        "    \n",
        "    return answer"
      ],
      "metadata": {
        "id": "YhlFlGgMfj4B"
      },
      "execution_count": null,
      "outputs": []
    },
    {
      "cell_type": "code",
      "source": [
        "def solution(n):\n",
        "    count = '수박'*n\n",
        "    return count[:n]\n",
        "\n",
        "\n",
        "\n",
        "'''\n",
        "1)\n",
        "def solution(n):\n",
        "    return \"수박\"*(n//2) + \"수\"*(n%2)\n",
        "\n",
        "\n",
        "2)\n",
        "def solution(n):\n",
        "    s = \"수박\" * n\n",
        "    return s[:n]\n",
        "'''"
      ],
      "metadata": {
        "id": "PbLRSRG4fj15"
      },
      "execution_count": null,
      "outputs": []
    },
    {
      "cell_type": "markdown",
      "source": [
        "## 21.소수 찾기\n",
        "\n",
        "https://programmers.co.kr/learn/courses/30/lessons/12921"
      ],
      "metadata": {
        "id": "qpEipLRGgjtK"
      }
    },
    {
      "cell_type": "code",
      "source": [
        "'''\n",
        "집합 계산\n",
        "\n",
        "https://wikidocs.net/1015\n",
        "'''\n",
        "\n",
        "\n",
        "def solution(n):\n",
        "    num = set(range(2,n+1))\n",
        "\n",
        "    for i in range(2,n+1):\n",
        "        print(i)\n",
        "        if i in num:\n",
        "            num -= set(range(2*i,n+1,i))\n",
        "            print(num)\n",
        "    return len(num)\n",
        "\n",
        "'''\n",
        "1)[파이썬] 에라토스테네스의 체\n",
        "\n",
        "def solution(n):\n",
        "    num=set(range(2,n+1)) # 2부터 n까지의 집합\n",
        "\n",
        "    for i in range(2,n+1): # 2부터 n까지 반복문\n",
        "        if i in num: # 만약 i가 num 집합에 있다면\n",
        "            num-=set(range(2*i,n+1,i)) # i의 배수는 num 집합에서 제외\n",
        "    return len(num) # num에 남아있는 숫자의 개수가 소수의 개수\n",
        "'''"
      ],
      "metadata": {
        "id": "EfrpRht0gp0w",
        "outputId": "6b516c94-345e-4138-801e-6cbb303a0fc4",
        "colab": {
          "base_uri": "https://localhost:8080/",
          "height": 90
        }
      },
      "execution_count": null,
      "outputs": [
        {
          "output_type": "execute_result",
          "data": {
            "application/vnd.google.colaboratory.intrinsic+json": {
              "type": "string"
            },
            "text/plain": [
              "'\\n1)[파이썬] 에라토스테네스의 체\\n\\ndef solution(n):\\n    num=set(range(2,n+1)) # 2부터 n까지의 집합\\n\\n    for i in range(2,n+1): # 2부터 n까지 반복문\\n        if i in num: # 만약 i가 num 집합에 있다면\\n            num-=set(range(2*i,n+1,i)) # i의 배수는 num 집합에서 제외\\n    return len(num) # num에 남아있는 숫자의 개수가 소수의 개수\\n'"
            ]
          },
          "metadata": {},
          "execution_count": 75
        }
      ]
    },
    {
      "cell_type": "code",
      "source": [
        "set(range(2,10+1))"
      ],
      "metadata": {
        "id": "BE_Lv2q6ULxR",
        "outputId": "27708fda-509b-4da1-dd30-a75ab4065f63",
        "colab": {
          "base_uri": "https://localhost:8080/"
        }
      },
      "execution_count": null,
      "outputs": [
        {
          "output_type": "execute_result",
          "data": {
            "text/plain": [
              "{2, 3, 4, 5, 6, 7, 8, 9, 10}"
            ]
          },
          "metadata": {},
          "execution_count": 1
        }
      ]
    },
    {
      "cell_type": "code",
      "source": [
        "solution(10)"
      ],
      "metadata": {
        "id": "TErfIniBfjzV",
        "outputId": "71d9c20b-34c6-4729-8cb2-2f8112907068",
        "colab": {
          "base_uri": "https://localhost:8080/"
        }
      },
      "execution_count": null,
      "outputs": [
        {
          "output_type": "stream",
          "name": "stdout",
          "text": [
            "2\n",
            "{2, 3, 5, 7, 9}\n",
            "3\n",
            "{2, 3, 5, 7}\n",
            "4\n",
            "5\n",
            "{2, 3, 5, 7}\n",
            "6\n",
            "7\n",
            "{2, 3, 5, 7}\n",
            "8\n",
            "9\n",
            "10\n"
          ]
        },
        {
          "output_type": "execute_result",
          "data": {
            "text/plain": [
              "4"
            ]
          },
          "metadata": {},
          "execution_count": 76
        }
      ]
    },
    {
      "cell_type": "code",
      "source": [
        "s1 = set([1, 2, 3, 4, 5, 6])\n",
        "s2 = set([4, 5, 6, 7, 8, 9])"
      ],
      "metadata": {
        "id": "1utZEmCXgl5L"
      },
      "execution_count": null,
      "outputs": []
    },
    {
      "cell_type": "code",
      "source": [
        "# 리스트와는 반대로 +가 안된다.\n",
        "s1 + s2"
      ],
      "metadata": {
        "id": "RdIt7vCgfjxU",
        "outputId": "bfd70565-8b45-4690-9ee2-fbed76fc6fec",
        "colab": {
          "base_uri": "https://localhost:8080/",
          "height": 172
        }
      },
      "execution_count": null,
      "outputs": [
        {
          "output_type": "error",
          "ename": "TypeError",
          "evalue": "ignored",
          "traceback": [
            "\u001b[0;31m---------------------------------------------------------------------------\u001b[0m",
            "\u001b[0;31mTypeError\u001b[0m                                 Traceback (most recent call last)",
            "\u001b[0;32m<ipython-input-63-07ecabcb1b41>\u001b[0m in \u001b[0;36m<module>\u001b[0;34m()\u001b[0m\n\u001b[0;32m----> 1\u001b[0;31m \u001b[0ms1\u001b[0m \u001b[0;34m+\u001b[0m \u001b[0ms2\u001b[0m\u001b[0;34m\u001b[0m\u001b[0;34m\u001b[0m\u001b[0m\n\u001b[0m",
            "\u001b[0;31mTypeError\u001b[0m: unsupported operand type(s) for +: 'set' and 'set'"
          ]
        }
      ]
    },
    {
      "cell_type": "code",
      "source": [
        "# 리스트와는 반대로 -는 된다.\n",
        "s1 - s2"
      ],
      "metadata": {
        "id": "01KCsCnpfjue",
        "outputId": "72ea4121-5beb-4b6d-e3ff-48abbe7a7edc",
        "colab": {
          "base_uri": "https://localhost:8080/"
        }
      },
      "execution_count": null,
      "outputs": [
        {
          "output_type": "execute_result",
          "data": {
            "text/plain": [
              "{1, 2, 3}"
            ]
          },
          "metadata": {},
          "execution_count": 64
        }
      ]
    },
    {
      "cell_type": "markdown",
      "source": [
        "## 22.서울에서 김서방 찾기\n",
        "\n",
        "- https://programmers.co.kr/learn/courses/30/lessons/12919"
      ],
      "metadata": {
        "id": "WsDw5YiSkH86"
      }
    },
    {
      "cell_type": "code",
      "source": [
        "'''\n",
        "파이썬 리스트, 문자열 index() 함수\n",
        "\n",
        "https://wikidocs.net/14#index\n",
        "'''\n",
        "\n",
        "def solution(seoul):\n",
        "    return f\"김서방은 {seoul.index('Kim')}에 있다\""
      ],
      "metadata": {
        "id": "DHZT66v7kHwu"
      },
      "execution_count": null,
      "outputs": []
    },
    {
      "cell_type": "code",
      "source": [
        "'''\n",
        "index(x) 함수는 리스트에 x 값이 있으면 x의 위치 값을 돌려준다.\n",
        ">>> a = [1,2,3]\n",
        ">>> a.index(3)\n",
        "2\n",
        ">>> a.index(1)\n",
        "0\n",
        "\n",
        "\n",
        "문자열 함수 index:\n",
        "위치 알려주기2(index)\n",
        "문자열 중 문자 t가 맨 처음으로 나온 위치를 반환한다.\n",
        "만약 찾는 문자나 문자열이 존재하지 않는다면 오류를 발생시킨다.\n",
        "앞의 find 함수와 다른 점은 문자열 안에 존재하지 않는 문자를 찾으면 오류가 발생한다는 점이다.\n",
        ">>> a = \"Life is too short\"\n",
        ">>> a.index('t')\n",
        "8\n",
        ">>> a.index('k')\n",
        "Traceback (most recent call last):\n",
        "File \"<stdin>\", line 1, in <module>\n",
        "ValueError: substring not found\n",
        "'''"
      ],
      "metadata": {
        "id": "ul45-VG0kHuL"
      },
      "execution_count": null,
      "outputs": []
    },
    {
      "cell_type": "markdown",
      "source": [
        "## 23.문자열 다루기 기본\n",
        "\n",
        "- https://programmers.co.kr/learn/courses/30/lessons/12918"
      ],
      "metadata": {
        "id": "TRWrZdo1lmyc"
      }
    },
    {
      "cell_type": "code",
      "source": [
        "'''\n",
        "isdigit()  함수\n",
        "\n",
        "https://blockdmask.tistory.com/556\n",
        "'''\n",
        "\n",
        "def solution(s):\n",
        "    return s.isdigit() and len(s) in (4,6)"
      ],
      "metadata": {
        "id": "xNhXdbdPkHrk"
      },
      "execution_count": null,
      "outputs": []
    },
    {
      "cell_type": "code",
      "source": [
        "'''\n",
        "2)\n",
        "import re\n",
        "def solution(s):\n",
        "    return bool(re.match(\"^(\\d{4}|\\d{6})$\", s))\n",
        "'''"
      ],
      "metadata": {
        "id": "eReISCAykHpK"
      },
      "execution_count": null,
      "outputs": []
    },
    {
      "cell_type": "markdown",
      "source": [
        "## 24.문자열 내림차순으로 배치하기\n",
        "\n",
        "- https://programmers.co.kr/learn/courses/30/lessons/12917"
      ],
      "metadata": {
        "id": "x-fvK54cnoIy"
      }
    },
    {
      "cell_type": "code",
      "source": [
        "'''\n",
        "sorted() 함수\n",
        "\n",
        "sorted() 함수는 문자열과 리스트에서 모두 사용할 수 있다!\n",
        "리스트를 반환하기 때문이다!\n",
        "하지만 sort()는 리스트만의 함수이다!\n",
        "'''\n",
        "\n",
        "def solution(s):\n",
        "    return ''.join(sorted(s, reverse=True))"
      ],
      "metadata": {
        "id": "7DCtSjzWkHmt"
      },
      "execution_count": null,
      "outputs": []
    },
    {
      "cell_type": "code",
      "source": [
        "'''\n",
        "sorted(iterable) 함수는 입력값을 정렬한 후 그 결과를 리스트로 돌려주는 함수이다.\n",
        ">>> sorted([3, 1, 2])\n",
        "[1, 2, 3]\n",
        ">>> sorted(['a', 'c', 'b'])\n",
        "['a', 'b', 'c']\n",
        ">>> sorted(\"zero\")\n",
        "['e', 'o', 'r', 'z']\n",
        ">>> sorted((3, 2, 1))\n",
        "[1, 2, 3]\n",
        "'''"
      ],
      "metadata": {
        "id": "lA7N4I66fjr_"
      },
      "execution_count": null,
      "outputs": []
    },
    {
      "cell_type": "markdown",
      "source": [
        "## 25.문자열 내 p와 y의 개수\n",
        "\n",
        "- https://programmers.co.kr/learn/courses/30/lessons/12916"
      ],
      "metadata": {
        "id": "lj6sa1xPpGuF"
      }
    },
    {
      "cell_type": "code",
      "source": [
        "'''\n",
        "count() 함수\n",
        "\n",
        "https://blockdmask.tistory.com/410\n",
        "https://redcow77.tistory.com/357\n",
        "'''\n",
        "\n",
        "def solution(s):\n",
        "    return s.lower().count('p') == s.lower().count('y')"
      ],
      "metadata": {
        "id": "Sbgr8oBgB6uQ"
      },
      "execution_count": null,
      "outputs": []
    },
    {
      "cell_type": "markdown",
      "source": [
        "## 26.문자열 내 마음대로 정렬하기\n",
        "\n",
        "- https://programmers.co.kr/learn/courses/30/lessons/12915"
      ],
      "metadata": {
        "id": "sqw344TrrIyT"
      }
    },
    {
      "cell_type": "markdown",
      "source": [
        "### 오답"
      ],
      "metadata": {
        "id": "CvPHoqG1xWk7"
      }
    },
    {
      "cell_type": "code",
      "source": [
        "def solution(strings, n):\n",
        "  \n",
        "    strings.sort()\n",
        "    dic = {string[n]+str(num):string for num, string in enumerate(strings)}\n",
        "    \n",
        "    key = sorted(list(dic.keys()))\n",
        "    \n",
        "    answer = []\n",
        "    for i in key:\n",
        "        answer.append(dic[i])\n",
        "        \n",
        "    return answer"
      ],
      "metadata": {
        "id": "GpuduHoFrFOT"
      },
      "execution_count": null,
      "outputs": []
    },
    {
      "cell_type": "markdown",
      "source": [
        "### 정답"
      ],
      "metadata": {
        "id": "jZiQsPkQ2wNa"
      }
    },
    {
      "cell_type": "code",
      "source": [
        "'''\n",
        "sort() 함수 key인자\n",
        "\n",
        "https://ooyoung.tistory.com/59\n",
        "'''\n",
        "\n",
        "def solution(strings, n):\n",
        "    \n",
        "    return sorted(sorted(strings), key=lambda x: x[n])"
      ],
      "metadata": {
        "id": "ZhfXCDRzrFLm"
      },
      "execution_count": null,
      "outputs": []
    },
    {
      "cell_type": "markdown",
      "source": [
        "## 27.두 정수 사이의 합\n",
        "\n",
        "- https://programmers.co.kr/learn/courses/30/lessons/12912"
      ],
      "metadata": {
        "id": "3OsBmG2r27Te"
      }
    },
    {
      "cell_type": "code",
      "source": [
        "def solution(a, b):\n",
        "    a, b = min(a,b), max(a, b)\n",
        "    answer = 0\n",
        "    for i in range(a,b+1):\n",
        "        answer += i\n",
        "    return answer"
      ],
      "metadata": {
        "id": "Q1DnwA5frFI8"
      },
      "execution_count": null,
      "outputs": []
    },
    {
      "cell_type": "code",
      "source": [
        "def solution(a, b):\n",
        "    a, b = min(a,b), max(a,b)\n",
        "    return sum(range(a, b+1))"
      ],
      "metadata": {
        "id": "Hb6XECEirFGm"
      },
      "execution_count": null,
      "outputs": []
    },
    {
      "cell_type": "code",
      "source": [
        "def solution(a, b):\n",
        "    return (a+b)*(abs(a-b)+1)/2\n",
        "# (첫 항+끝 항) * (원소의 개수 / 2)"
      ],
      "metadata": {
        "id": "DhNXqoGzrFDu"
      },
      "execution_count": null,
      "outputs": []
    },
    {
      "cell_type": "markdown",
      "source": [
        "## 28.나누어 떨어지는 숫자 배열\n",
        "\n",
        "- https://programmers.co.kr/learn/courses/30/lessons/12910"
      ],
      "metadata": {
        "id": "4MLb9dqc5bQS"
      }
    },
    {
      "cell_type": "code",
      "source": [
        "'''\n",
        "[조건에 맞음 실행 if 원소 조건 else 안맞음 실행 for 원소 in 묶음]\n",
        "\n",
        "[원소(함수 사용 가능) for 원소 in 묶음 if 원소 조건]\n",
        "'''\n",
        "\n",
        "def solution(arr, divisor):\n",
        "    \n",
        "    return sorted([i for i in arr if i%divisor==0]) or [-1] "
      ],
      "metadata": {
        "id": "zO8WBl2vrFBA"
      },
      "execution_count": null,
      "outputs": []
    },
    {
      "cell_type": "markdown",
      "source": [
        "## 29.같은 숫자는 싫어\n",
        "\n",
        "- https://programmers.co.kr/learn/courses/30/lessons/12906"
      ],
      "metadata": {
        "id": "yrqHBaim7oJe"
      }
    },
    {
      "cell_type": "code",
      "source": [
        "def solution(arr):\n",
        "    \n",
        "    answer = []\n",
        "    num = -1\n",
        "    \n",
        "    for i in arr:\n",
        "        if i != num:\n",
        "            answer.append(i)\n",
        "        num = i\n",
        "    return answer"
      ],
      "metadata": {
        "id": "4xWK8-4mrE-b"
      },
      "execution_count": null,
      "outputs": []
    },
    {
      "cell_type": "code",
      "source": [
        "def solution(arr):\n",
        "    a = []\n",
        "    for i in arr:\n",
        "        if a[-1:] == [i]:\n",
        "            continue\n",
        "        a.append(i)\n",
        "    return a\n",
        "\n",
        "\n",
        "'''\n",
        "1)\n",
        "def solution(arr):\n",
        "    a = []\n",
        "    for i in arr:\n",
        "        if a[-1:] == [i]:\n",
        "          continue\n",
        "        a.append(i)\n",
        "    return a\n",
        "    \n",
        "2)  \n",
        "def solution(arr):\n",
        "    result = []\n",
        "    for c in arr:\n",
        "        if (len(result) == 0) or (result[-1] != c):\n",
        "            result.append(c)\n",
        "    return result\n",
        "'''\n",
        "\n",
        "\n",
        "\n",
        "\n",
        "'''\n",
        "1)\n",
        "a[-1:]은 a값의 가장 뒤의 값을 list로 만든다.\n",
        "심지어 차원이 유지되어 벡터로 나온다.\n",
        "\n",
        "2)\n",
        "continue는 while, for문 같은 조건문 맨 처음으로 간다!\n",
        "while/for ~:\n",
        "    if ~: continue\n",
        "에서도 while/for으로 간다.\n",
        "'''"
      ],
      "metadata": {
        "id": "QVnZeO9YrE76"
      },
      "execution_count": null,
      "outputs": []
    },
    {
      "cell_type": "code",
      "source": [
        "[1,2,3,4,5,6][-1:]"
      ],
      "metadata": {
        "id": "gnTAc8vZrE5S",
        "colab": {
          "base_uri": "https://localhost:8080/"
        },
        "outputId": "ee427a44-fdc8-4005-90de-0cd0a17f040a"
      },
      "execution_count": null,
      "outputs": [
        {
          "output_type": "execute_result",
          "data": {
            "text/plain": [
              "[6]"
            ]
          },
          "metadata": {},
          "execution_count": 78
        }
      ]
    },
    {
      "cell_type": "markdown",
      "source": [
        "## 30.가운데 글자 가져오기\n",
        "\n",
        "- https://programmers.co.kr/learn/courses/30/lessons/12903"
      ],
      "metadata": {
        "id": "243hZLul-BUt"
      }
    },
    {
      "cell_type": "code",
      "source": [
        "'''\n",
        "슬라이싱!!\n",
        "\n",
        "숫자는 0부터 시작한다!!\n",
        "마지막 숫자는 불포함이다!\n",
        "https://wikidocs.net/2838\n",
        "'''\n",
        "\n",
        "def solution(s):\n",
        "    return s[(len(s)-1)//2:(len(s)//2)+1]"
      ],
      "metadata": {
        "id": "PsNLCPXNrEyB"
      },
      "execution_count": null,
      "outputs": []
    },
    {
      "cell_type": "code",
      "source": [
        "def solution(s):\n",
        "    if len(s)%2==0:\n",
        "        return s[int(len(s)/2-1):int(len(s)/2+1)] # ex) 3~5이면 3,4이다.\n",
        "    else:\n",
        "        return s[int(len(s)/2)]"
      ],
      "metadata": {
        "id": "xTK-jMz6CMef"
      },
      "execution_count": null,
      "outputs": []
    },
    {
      "cell_type": "code",
      "source": [
        "'''\n",
        "1)\n",
        "def solution(s):\n",
        "    center = int(len(s)/2)\n",
        "    if len(s) % 2 != 0:\n",
        "        return s[center]\n",
        "    else:\n",
        "        return s[center-1:center+1]\n",
        "\n",
        "\n",
        "2)\n",
        "def solution(s):\n",
        "    a = len(s)\n",
        "    if a % 2 == 0 :\n",
        "        a = (a-2) / 2\n",
        "    else :\n",
        "        a = (a-1) / 2\n",
        "    return str[int(a) : -int(a)]\n",
        "'''"
      ],
      "metadata": {
        "id": "D_AKmvrGrEbV"
      },
      "execution_count": null,
      "outputs": []
    },
    {
      "cell_type": "markdown",
      "source": [
        "## 31.2016년\n",
        "\n",
        "- https://programmers.co.kr/learn/courses/30/lessons/12901"
      ],
      "metadata": {
        "id": "C4XkgPugDRg1"
      }
    },
    {
      "cell_type": "code",
      "source": [
        "def solution(a, b):\n",
        "    months = [31, 29, 31, 30, 31, 30, 31, 31, 30, 31, 30, 31]\n",
        "    days = ['FRI', 'SAT', 'SUN', 'MON', 'TUE', 'WED', 'THU']\n",
        "    return days[(sum(months[:a-1])+b-1)%7]\n",
        "\n",
        "\n",
        "'''\n",
        "1)\n",
        "def solution(a, b):\n",
        "    months = [31, 29, 31, 30, 31, 30, 31, 31, 30, 31, 30, 31]\n",
        "    days = ['FRI', 'SAT', 'SUN', 'MON', 'TUE', 'WED', 'THU']\n",
        "    return days[(sum(months[:a-1])+b-1)%7]\n",
        "\n",
        "2)\n",
        "import datetime\n",
        "\n",
        "def getDayName(a,b):\n",
        "    t = 'MON TUE WED THU FRI SAT SUN'.split()\n",
        "    return t[datetime.datetime(2016, a, b).weekday()]\n",
        "'''\n",
        "\n",
        "\n",
        "\n",
        "'''\n",
        "1)\n",
        "def solution(a, b):\n",
        "    months = [31, 29, 31, 30, 31, 30, 31, 31, 30, 31, 30, 31]\n",
        "    days = ['FRI', 'SAT', 'SUN', 'MON', 'TUE', 'WED', 'THU']\n",
        "    print(months[:a-1])\n",
        "    return days[(sum(months[:a-1])+b-1)%7]\n",
        "    \n",
        "solution(5,24)\n",
        "[31, 29, 31, 30]\n",
        "'TUE'\n",
        "1) 해설\n",
        "[:b]에서 b-1까지만 슬라이싱하지만 파이썬은 0부터 시작하니\n",
        "한달 전까지만이다!\n",
        "\n",
        "2) 해설\n",
        "t = 'MON TUE WED THU FRI SAT SUN'.split()\n",
        "t\n",
        ">>>['MON', 'TUE', 'WED', 'THU', 'FRI', 'SAT', 'SUN']\n",
        "'''"
      ],
      "metadata": {
        "id": "wZMCd6ny4-7Y"
      },
      "execution_count": null,
      "outputs": []
    },
    {
      "cell_type": "markdown",
      "source": [
        "## 32.[1차] 다트 게임\n",
        "\n",
        "- https://programmers.co.kr/learn/courses/30/lessons/17682"
      ],
      "metadata": {
        "id": "ny6M1evUEuy6"
      }
    },
    {
      "cell_type": "code",
      "source": [
        "import re\n",
        "def solution(dartResult):\n",
        "    bonus = {'S' : 1, 'D' : 2, 'T' : 3}\n",
        "    option = {'' : 1, '*' : 2, '#' : -1}\n",
        "    p = re.compile('(\\d+)([SDT])([*#]?)')\n",
        "    dart = p.findall(dartResult)\n",
        "    for i in range(len(dart)):\n",
        "        if dart[i][2] == '*' and i > 0:\n",
        "            dart[i-1] *= 2\n",
        "        dart[i] = int(dart[i][0]) ** bonus[dart[i][1]] * option[dart[i][2]]\n",
        "\n",
        "    answer = sum(dart)\n",
        "    return answer\n",
        "\n",
        "\n",
        "\n",
        "'''\n",
        "1)\n",
        "import re\n",
        "\n",
        "\n",
        "def solution(dartResult):\n",
        "    bonus = {'S' : 1, 'D' : 2, 'T' : 3}\n",
        "    option = {'' : 1, '*' : 2, '#' : -1}\n",
        "    p = re.compile('(\\d+)([SDT])([*#]?)')\n",
        "    dart = p.findall(dartResult)\n",
        "    for i in range(len(dart)):\n",
        "        if dart[i][2] == '*' and i > 0:\n",
        "            dart[i-1] *= 2\n",
        "        dart[i] = int(dart[i][0]) ** bonus[dart[i][1]] * option[dart[i][2]]\n",
        "\n",
        "    answer = sum(dart)\n",
        "    return answer\n",
        "\n",
        "\n",
        "\n",
        "2)\n",
        "def solution(dartResult):\n",
        "\n",
        "    answer = []\n",
        "    # 10이 1,0으로 나뉘니까 그걸 방지하려고 k로 잠깐 바꿨다가\n",
        "    dartResult = dartResult.replace('10','k')\n",
        "    point = ['10' if i == 'k' else i for i in dartResult]\n",
        "    # 다시 10으로 복구한다!\n",
        "    print(point)\n",
        "\n",
        "    i = -1\n",
        "    sdt = ['S', 'D', 'T']\n",
        "    for j in point:\n",
        "        if j in sdt :\n",
        "            answer[i] = answer[i] ** (sdt.index(j)+1)\n",
        "        elif j == '*':\n",
        "            answer[i] = answer[i] * 2\n",
        "            if i != 0 :\n",
        "                answer[i - 1] = answer[i - 1] * 2\n",
        "        elif j == '#':\n",
        "            answer[i] = answer[i] * (-1)\n",
        "        else:\n",
        "            answer.append(int(j))\n",
        "            i += 1\n",
        "    return sum(answer)\n",
        "'''\n",
        "\n",
        "\n",
        "\n",
        "'''\n",
        "1) 해설\n",
        "def solution(dartResult): # dartResult: '1S2D*3T'\n",
        "    bonus = {'S' : 1, 'D' : 2, 'T' : 3}\n",
        "    option = {'' : 1, '*' : 2, '#' : -1}\n",
        "    p = re.compile('(\\d+)([SDT])([*#]?)')\n",
        "    dart = p.findall(dartResult)\n",
        "    print(dart)\n",
        "    print(len(dart))\n",
        "    for i in range(len(dart)):\n",
        "        print(i)\n",
        "        if dart[i][2] == '*' and i > 0:\n",
        "            print(dart)\n",
        "            dart[i-1] *= 2\n",
        "            print(dart)\n",
        "        dart[i] = int(dart[i][0]) ** bonus[dart[i][1]] * option[dart[i][2]]\n",
        "        print(dart)\n",
        "    print(dart)    \n",
        "    answer = sum(dart)\n",
        "    return answer\n",
        "# 실행\n",
        "a = '1S2D*3T'\n",
        "solution(a)\n",
        "# 결과\n",
        "[('1', 'S', ''), ('2', 'D', '*'), ('3', 'T', '')]\n",
        "3\n",
        "0\n",
        "[1, ('2', 'D', '*'), ('3', 'T', '')]\n",
        "1\n",
        "[1, ('2', 'D', '*'), ('3', 'T', '')]\n",
        "[2, ('2', 'D', '*'), ('3', 'T', '')]\n",
        "[2, 8, ('3', 'T', '')]\n",
        "2\n",
        "[2, 8, 27]\n",
        "[2, 8, 27]\n",
        "37\n",
        "#실행\n",
        "b = '1D#2S*3S'\n",
        "solution(b)\n",
        "[('1', 'D', '#'), ('2', 'S', '*'), ('3', 'S', '')]\n",
        "3\n",
        "0\n",
        "[-1, ('2', 'S', '*'), ('3', 'S', '')]\n",
        "1\n",
        "[-1, ('2', 'S', '*'), ('3', 'S', '')]\n",
        "[-2, ('2', 'S', '*'), ('3', 'S', '')]\n",
        "[-2, 4, ('3', 'S', '')]\n",
        "2\n",
        "[-2, 4, 3]\n",
        "[-2, 4, 3]\n",
        "5\n",
        "'''\n",
        "\n",
        "#  숫자로 변환할 수 있는 문자열인지 아닌지 판단\n"
      ],
      "metadata": {
        "id": "AKmfVsRe4-4y"
      },
      "execution_count": null,
      "outputs": []
    },
    {
      "cell_type": "markdown",
      "source": [
        "## 33.[1차] 비밀지도\n",
        "\n",
        "- https://programmers.co.kr/learn/courses/30/lessons/17681"
      ],
      "metadata": {
        "id": "Es2RC3BgNsAQ"
      }
    },
    {
      "cell_type": "code",
      "source": [
        "arr1\t[46, 33, 33 ,22, 31, 50]\n",
        "arr2\t[27 ,56, 19, 14, 14, 10] 에서"
      ],
      "metadata": {
        "id": "vlPxY9GQ1PmN"
      },
      "execution_count": null,
      "outputs": []
    },
    {
      "cell_type": "code",
      "source": [
        "bin(46|27)[2:]"
      ],
      "metadata": {
        "id": "cXNvdAJT1cPg",
        "outputId": "b6757e38-60eb-433d-e7ed-8af945923227",
        "colab": {
          "base_uri": "https://localhost:8080/",
          "height": 35
        }
      },
      "execution_count": null,
      "outputs": [
        {
          "output_type": "execute_result",
          "data": {
            "application/vnd.google.colaboratory.intrinsic+json": {
              "type": "string"
            },
            "text/plain": [
              "'111111'"
            ]
          },
          "metadata": {},
          "execution_count": 3
        }
      ]
    },
    {
      "cell_type": "code",
      "source": [
        "bin(22|14)[2:]"
      ],
      "metadata": {
        "id": "tqP_sBcN1Q2q",
        "outputId": "79506511-ae91-4251-df1b-973172b50616",
        "colab": {
          "base_uri": "https://localhost:8080/",
          "height": 35
        }
      },
      "execution_count": null,
      "outputs": [
        {
          "output_type": "execute_result",
          "data": {
            "application/vnd.google.colaboratory.intrinsic+json": {
              "type": "string"
            },
            "text/plain": [
              "'11110'"
            ]
          },
          "metadata": {},
          "execution_count": 2
        }
      ]
    },
    {
      "cell_type": "code",
      "source": [
        "'''\n",
        "bin() 함수\n",
        "| 연산자\n",
        "rjust() 함수\n",
        "\n",
        "| 연산자의 양쪽에 숫자나 집합이 올 수 있으며\n",
        "숫자가 올 때는 a binary operation의 OR 연산이 된다!\n",
        "# https://stackoverflow.com/questions/417396/what-does-the-sign-mean-in-python\n",
        "# https://en.wikipedia.org/wiki/Bitwise_operation#OR\n",
        "'''\n",
        "\n",
        "def solution(n, arr1, arr2):\n",
        "    answer = []\n",
        "    for i,j in zip(arr1,arr2):\n",
        "        a12 = str(bin(i|j)[2:])\n",
        "        a12=a12.rjust(n,'0')\n",
        "        a12=a12.replace('1','#')\n",
        "        a12=a12.replace('0',' ')\n",
        "        answer.append(a12)\n",
        "    return answer\n",
        "\n",
        "'''\n",
        "1)\n",
        "def solution(n, arr1, arr2):\n",
        "    answer = []\n",
        "    for i,j in zip(arr1,arr2):\n",
        "        a12 = str(bin(i|j)[2:])\n",
        "        a12=a12.rjust(n,'0')\n",
        "        a12=a12.replace('1','#')\n",
        "        a12=a12.replace('0',' ')\n",
        "        answer.append(a12)\n",
        "    return answer\n",
        "\n",
        "\n",
        "2)\n",
        "import re\n",
        "\n",
        "def solution(n, arr1, arr2):\n",
        "    answer = [\"#\"]*n\n",
        "    for i in range(0, n):\n",
        "        answer[i] = str(bin(arr1[i]|arr2[i]))[2:]\n",
        "        answer[i] = re.sub('1', '#', '0'*(n-len(answer[i]))+answer[i])\n",
        "        answer[i] = re.sub('0', ' ', answer[i])\n",
        "    return answer\n",
        "'''\n",
        "\n",
        "'''\n",
        "bin(number):\n",
        "전달받은 integer 혹은 long integer 자료형의 값을 이진수(binary) 문자열로 돌려준다.\n",
        "\n",
        "\n",
        "rjust():\n",
        "오른쪽으로 정렬하도록 도와준다.\n",
        "rjust를 통해 공백의 수, 공백을 메워줄 문자를 넣어준다.\n",
        "val = \"77\".rjust(5, \"0\")\n",
        "print(val) \n",
        ">>>00077\n",
        "\n",
        "val = \"77777\".rjust(5, \"0\")\n",
        "print(val) \n",
        ">>>77777\n",
        "\n",
        "val = \"123\".rjust(5, \"a\")\n",
        "print(val) \n",
        ">>>aa1234\n",
        "\n",
        "val = \"123\".rjust(3, \"a\")\n",
        "print(val)\n",
        ">>>123\n",
        "\n",
        "######### rjust가 없다면 ################\n",
        "\n",
        "n\t6\n",
        "arr1\t[46, 33, 33 ,22, 31, 50]\n",
        "arr2\t[27 ,56, 19, 14, 14, 10] 에서\n",
        "\n",
        "bin(46|27)[2:] => 111111으로 rjust가 없어도 되지만,\n",
        "bin(22|14)[2:] => 11110이므로 앞에 0을 더 만들어줘야한다!\n",
        "그래서 rjust로 0을 앞에 끼워넣는 것이다!\n",
        "\n",
        "[\"######\",\"###  #\",\"##  ##\",\"#### \",\"#####\",\"### # \"]\n",
        "[\"######\",\"###  #\",\"##  ##\",\" #### \",\" #####\",\"### # \"]\n",
        "'''\n",
        "\n",
        "'''\n",
        "해설 1\n",
        "def solution(n, arr1, arr2):\n",
        "    answer = []\n",
        "    for i,j in zip(arr1,arr2):\n",
        "        print(i,j)\n",
        "        a12 = str(bin(i|j)[2:])\n",
        "        print(str(bin(i|j)))\n",
        "        print(a12)\n",
        "        a12=a12.rjust(n,'0')\n",
        "        print('rjust', a12)\n",
        "        a12=a12.replace('1','#')\n",
        "        a12=a12.replace('0',' ')\n",
        "        answer.append(a12)\n",
        "    return answer\n",
        "\n",
        "예제1\n",
        "n = 5\n",
        "arr1 = [9, 20, 28, 18, 11]\n",
        "arr2 = [30, 1, 21, 17, 28]\n",
        "\n",
        "solution(n, arr1, arr2)\n",
        "\n",
        "풀이1\n",
        "9 30\n",
        "0b11111\n",
        "11111\n",
        "rjust 11111\n",
        "20 1\n",
        "0b10101\n",
        "10101\n",
        "rjust 10101\n",
        "28 21\n",
        "0b11101\n",
        "11101\n",
        "rjust 11101\n",
        "18 17\n",
        "0b10011\n",
        "10011\n",
        "rjust 10011\n",
        "11 28\n",
        "0b11111\n",
        "11111\n",
        "rjust 11111\n",
        "['#####', '# # #', '### #', '#  ##', '#####']\n",
        "\n",
        "\n",
        "예제2\n",
        "n = 6\n",
        "arr1 = [46, 33, 33 ,22, 31, 50]\n",
        "arr2 = [27 ,56, 19, 14, 14, 10]\n",
        "\n",
        "solution(n, arr1, arr2)\n",
        "\n",
        "풀이2\n",
        "46 27\n",
        "0b111111\n",
        "111111\n",
        "rjust 111111\n",
        "33 56\n",
        "0b111001\n",
        "111001\n",
        "rjust 111001\n",
        "33 19\n",
        "0b110011\n",
        "110011\n",
        "rjust 110011\n",
        "22 14\n",
        "0b11110\n",
        "11110\n",
        "rjust 011110\n",
        "31 14\n",
        "0b11111\n",
        "11111\n",
        "rjust 011111\n",
        "50 10\n",
        "0b111010\n",
        "111010\n",
        "rjust 111010\n",
        "['######', '###  #', '##  ##', ' #### ', ' #####', '### # ']\n",
        "'''"
      ],
      "metadata": {
        "colab": {
          "base_uri": "https://localhost:8080/",
          "height": 236
        },
        "id": "tKlanoVvE1pR",
        "outputId": "bfd4dfb1-7144-4f14-b282-7956cd615f43"
      },
      "execution_count": null,
      "outputs": [
        {
          "output_type": "execute_result",
          "data": {
            "application/vnd.google.colaboratory.intrinsic+json": {
              "type": "string"
            },
            "text/plain": [
              "\"\\n해설 1\\ndef solution(n, arr1, arr2):\\n    answer = []\\n    for i,j in zip(arr1,arr2):\\n        print(i,j)\\n        a12 = str(bin(i|j)[2:])\\n        print(str(bin(i|j)))\\n        print(a12)\\n        a12=a12.rjust(n,'0')\\n        print('rjust', a12)\\n        a12=a12.replace('1','#')\\n        a12=a12.replace('0',' ')\\n        answer.append(a12)\\n    return answer\\n\\n예제1\\nn = 5\\narr1 = [9, 20, 28, 18, 11]\\narr2 = [30, 1, 21, 17, 28]\\n\\nsolution(n, arr1, arr2)\\n\\n풀이1\\n9 30\\n0b11111\\n11111\\nrjust 11111\\n20 1\\n0b10101\\n10101\\nrjust 10101\\n28 21\\n0b11101\\n11101\\nrjust 11101\\n18 17\\n0b10011\\n10011\\nrjust 10011\\n11 28\\n0b11111\\n11111\\nrjust 11111\\n['#####', '# # #', '### #', '#  ##', '#####']\\n\\n\\n예제2\\nn = 6\\narr1 = [46, 33, 33 ,22, 31, 50]\\narr2 = [27 ,56, 19, 14, 14, 10]\\n\\nsolution(n, arr1, arr2)\\n\\n풀이2\\n46 27\\n0b111111\\n111111\\nrjust 111111\\n33 56\\n0b111001\\n111001\\nrjust 111001\\n33 19\\n0b110011\\n110011\\nrjust 110011\\n22 14\\n0b11110\\n11110\\nrjust 011110\\n31 14\\n0b11111\\n11111\\nrjust 011111\\n50 10\\n0b111010\\n111010\\nrjust 111010\\n['######', '###  #', '##  ##', ' #### ', ' #####', '### # ']\\n\""
            ]
          },
          "metadata": {},
          "execution_count": 1
        }
      ]
    },
    {
      "cell_type": "code",
      "source": [
        "9|30"
      ],
      "metadata": {
        "colab": {
          "base_uri": "https://localhost:8080/"
        },
        "id": "J9fBwqRAE1kc",
        "outputId": "4f130ded-5aea-460f-e662-400568e35efb"
      },
      "execution_count": null,
      "outputs": [
        {
          "output_type": "execute_result",
          "data": {
            "text/plain": [
              "31"
            ]
          },
          "metadata": {},
          "execution_count": 1
        }
      ]
    },
    {
      "cell_type": "code",
      "source": [
        "65|15"
      ],
      "metadata": {
        "id": "W5IryQunzZq9",
        "outputId": "25d6139a-e934-426d-b5fc-0d442096fbd3",
        "colab": {
          "base_uri": "https://localhost:8080/"
        }
      },
      "execution_count": null,
      "outputs": [
        {
          "output_type": "execute_result",
          "data": {
            "text/plain": [
              "79"
            ]
          },
          "metadata": {},
          "execution_count": 11
        }
      ]
    },
    {
      "cell_type": "code",
      "source": [
        "bin(9|30)"
      ],
      "metadata": {
        "colab": {
          "base_uri": "https://localhost:8080/",
          "height": 35
        },
        "id": "azPkWIuJE1m8",
        "outputId": "ec17217e-c29c-4238-ac73-c5a60dcc57dc"
      },
      "execution_count": null,
      "outputs": [
        {
          "output_type": "execute_result",
          "data": {
            "application/vnd.google.colaboratory.intrinsic+json": {
              "type": "string"
            },
            "text/plain": [
              "'0b11111'"
            ]
          },
          "metadata": {},
          "execution_count": 2
        }
      ]
    },
    {
      "cell_type": "code",
      "source": [
        "bin(31)"
      ],
      "metadata": {
        "id": "c_f-DOtmx2Rj",
        "outputId": "735c8bc3-b49c-4a31-b9e8-cba681b106f1",
        "colab": {
          "base_uri": "https://localhost:8080/",
          "height": 35
        }
      },
      "execution_count": null,
      "outputs": [
        {
          "output_type": "execute_result",
          "data": {
            "application/vnd.google.colaboratory.intrinsic+json": {
              "type": "string"
            },
            "text/plain": [
              "'0b11111'"
            ]
          },
          "metadata": {},
          "execution_count": 3
        }
      ]
    },
    {
      "cell_type": "markdown",
      "source": [
        "## 34.부족한 금액 계산하기\n",
        "\n",
        "- https://programmers.co.kr/learn/courses/30/lessons/82612"
      ],
      "metadata": {
        "id": "11MyUwINO_dv"
      }
    },
    {
      "cell_type": "markdown",
      "source": [
        "### 내 풀이"
      ],
      "metadata": {
        "id": "WSNE_d9IQxhS"
      }
    },
    {
      "cell_type": "code",
      "source": [
        "def solution(price, money, count):\n",
        "    \n",
        "    total = 0\n",
        "    for i in range(1,count+1):\n",
        "        total += price*i\n",
        "        \n",
        "    answer = total-money\n",
        "    if answer < 0:\n",
        "        return 0\n",
        "    return answer"
      ],
      "metadata": {
        "id": "tH9CxOcRO-3c"
      },
      "execution_count": null,
      "outputs": []
    },
    {
      "cell_type": "markdown",
      "source": [
        "### 다른 풀이"
      ],
      "metadata": {
        "id": "vN2sIRtNQy1M"
      }
    },
    {
      "cell_type": "code",
      "source": [
        "def solution(price, money, count):\n",
        "    return max(0,price*(count+1)*count//2-money)\n",
        "\n",
        "# 3,6,9,...에서 등차수열의 합 공식\n",
        "# (count+1)*count//2이다!!"
      ],
      "metadata": {
        "id": "X4d-ryloE1fy"
      },
      "execution_count": null,
      "outputs": []
    },
    {
      "cell_type": "markdown",
      "source": [
        "## 35.나머지가 1이 되는 수 찾기\n",
        "\n",
        "- https://programmers.co.kr/learn/courses/30/lessons/87389"
      ],
      "metadata": {
        "id": "FPTY7albRz3w"
      }
    },
    {
      "cell_type": "code",
      "source": [
        "def solution(n):\n",
        "    for x in range(1,n+1):\n",
        "        if n%x==1:\n",
        "            return x"
      ],
      "metadata": {
        "id": "zh112A7rRzvJ"
      },
      "execution_count": null,
      "outputs": []
    },
    {
      "cell_type": "markdown",
      "source": [
        "## 36.최소직사각형\n",
        "\n",
        "- https://programmers.co.kr/learn/courses/30/lessons/86491"
      ],
      "metadata": {
        "id": "4yPgBURbTbQO"
      }
    },
    {
      "cell_type": "markdown",
      "source": [
        "### 내 풀이"
      ],
      "metadata": {
        "id": "bKkbfrd2HZq4"
      }
    },
    {
      "cell_type": "code",
      "source": [
        "def solution(sizes):\n",
        "    \n",
        "    box = [0,0]\n",
        "    for num, i in enumerate(sizes):\n",
        "        # print(i)\n",
        "        \n",
        "        if num==0:\n",
        "            box = i\n",
        "            # print('1')            \n",
        "        \n",
        "        elif (box[0] - i[0] >= 0) and (box[1] - i[1] >= 0):\n",
        "            box = box\n",
        "            # print('2')\n",
        "            \n",
        "        elif (box[0] - i[1] >= 0) and (box[1] - i[0] >= 0):\n",
        "            box = box\n",
        "            # print('3')\n",
        "            \n",
        "        elif (box[0] - i[0] <= 0) and (box[1] - i[1] <= 0):\n",
        "            box = i\n",
        "            # print('4')\n",
        "        \n",
        "        elif (box[0] - i[1] <= 0) and (box[1] - i[0] <= 0):\n",
        "            box = i\n",
        "            # print('5')\n",
        "        \n",
        "        else:\n",
        "            sort = sorted(box+i, reverse=True)\n",
        "            box = [sort[0], sort[2]]\n",
        "            # print('6')\n",
        "\n",
        "        # print('box:', box)\n",
        "        \n",
        "    return box[0]*box[1]"
      ],
      "metadata": {
        "id": "LMCJ28THRzs5"
      },
      "execution_count": null,
      "outputs": []
    },
    {
      "cell_type": "code",
      "source": [
        "a = [1,2,3,4,5,6]\n",
        "b = [0,1,2]"
      ],
      "metadata": {
        "id": "PlW7BgB6RzqO"
      },
      "execution_count": null,
      "outputs": []
    },
    {
      "cell_type": "code",
      "source": [
        "sorted(a+b, reverse=True)"
      ],
      "metadata": {
        "id": "dYIf3Ho7E1de",
        "outputId": "c40acf30-1491-493f-a3a0-2e7179483d1c",
        "colab": {
          "base_uri": "https://localhost:8080/"
        }
      },
      "execution_count": null,
      "outputs": [
        {
          "output_type": "execute_result",
          "data": {
            "text/plain": [
              "[6, 5, 4, 3, 2, 2, 1, 1, 0]"
            ]
          },
          "metadata": {},
          "execution_count": 9
        }
      ]
    },
    {
      "cell_type": "markdown",
      "source": [
        "### 다른 풀이"
      ],
      "metadata": {
        "id": "xBat9jCAHbG_"
      }
    },
    {
      "cell_type": "code",
      "source": [
        "def solution(sizes):\n",
        "    return max(max(x) for x in sizes) * max(min(x) for x in sizes)"
      ],
      "metadata": {
        "id": "TYLUGWmzE1a7"
      },
      "execution_count": null,
      "outputs": []
    },
    {
      "cell_type": "markdown",
      "source": [
        "## 37.두 개 뽑아서 더하기\n",
        "\n",
        "- https://programmers.co.kr/learn/courses/30/lessons/68644"
      ],
      "metadata": {
        "id": "7GgTA_d6IO7i"
      }
    },
    {
      "cell_type": "code",
      "source": [
        "'''\n",
        "파이썬 순열, 조합 사용!\n",
        "from itertools import combinations, permutations\n",
        "\n",
        "# https://velog.io/@sloools/Python-%EC%88%9C%EC%97%B4Permutation-%EC%A1%B0%ED%95%A9Combination\n",
        "'''\n",
        "\n",
        "\n",
        "from itertools import combinations\n",
        "\n",
        "def solution(numbers):\n",
        "    \n",
        "    box = []\n",
        "    for i in combinations(numbers, 2):\n",
        "        print(i)\n",
        "        box.append(sum(i))\n",
        "    box = sorted(list(set(box)))\n",
        "    \n",
        "    return box"
      ],
      "metadata": {
        "id": "17gvY0clHeEG"
      },
      "execution_count": null,
      "outputs": []
    },
    {
      "cell_type": "code",
      "source": [
        "'''\n",
        "1)\n",
        "def solution(numbers):\n",
        "    answer = []\n",
        "    for i in range(len(numbers)):\n",
        "        for j in range(i+1, len(numbers)):\n",
        "            answer.append(numbers[i] + numbers[j])\n",
        "    return sorted(list(set(answer)))\n",
        "\n",
        "2)\n",
        "def solution(numbers):\n",
        "    sum_set = set([])\n",
        "\n",
        "    for i in range(len(numbers)):\n",
        "        for j in range(i+1, len(numbers)):\n",
        "            sum_set.add(numbers[i]+numbers[j])\n",
        "    return sorted(list(sum_set))\n",
        "'''"
      ],
      "metadata": {
        "id": "R7f0KlqTHeBX"
      },
      "execution_count": null,
      "outputs": []
    },
    {
      "cell_type": "markdown",
      "source": [
        "## 38.예산\n",
        "\n",
        "- https://programmers.co.kr/learn/courses/30/lessons/12982"
      ],
      "metadata": {
        "id": "6rOhy9afL0fe"
      }
    },
    {
      "cell_type": "markdown",
      "source": [
        "### 틀림 - 문제 이해를 잘못함"
      ],
      "metadata": {
        "id": "VHgrfJJnOYpL"
      }
    },
    {
      "cell_type": "code",
      "source": [
        "from itertools import combinations\n",
        "\n",
        "def solution(d, budget):\n",
        "    \n",
        "    for i in range(1, len(d)+1)[::-1]:\n",
        "        # print(i)\n",
        "        for j in combinations(d, i):\n",
        "            if budget - sum(j) == 0:\n",
        "                return i"
      ],
      "metadata": {
        "id": "7THb8CEbHd_C"
      },
      "execution_count": null,
      "outputs": []
    },
    {
      "cell_type": "markdown",
      "source": [
        "### 정답"
      ],
      "metadata": {
        "id": "erxiHkp1Oann"
      }
    },
    {
      "cell_type": "code",
      "source": [
        "def solution(d, budget):\n",
        "    d.sort()\n",
        "    while budget < sum(d):\n",
        "        d.pop()\n",
        "    return len(d)"
      ],
      "metadata": {
        "id": "G59V_BbIHd8h"
      },
      "execution_count": null,
      "outputs": []
    },
    {
      "cell_type": "markdown",
      "source": [
        "## 39.3진법 뒤집기\n",
        "\n",
        "- https://programmers.co.kr/learn/courses/30/lessons/68935"
      ],
      "metadata": {
        "id": "kB_8_1FLQUGD"
      }
    },
    {
      "cell_type": "code",
      "source": [
        "'''\n",
        "진법 변환, int() 함수\n",
        "\n",
        "# https://thrillfighter.tistory.com/173\n",
        "# https://velog.io/@code_angler/%ED%8C%8C%EC%9D%B4%EC%8D%AC-%EC%A7%84%EC%88%98%EB%B3%80%ED%99%982%EC%A7%84%EB%B2%95-3%EC%A7%84%EB%B2%95-5%EC%A7%84%EB%B2%95-10%EC%A7%84%EB%B2%95n%EC%A7%84%EB%B2%95\n",
        "# https://security-nanglam.tistory.com/508\n",
        "'''\n",
        "\n",
        "\n",
        "def solution(n):\n",
        "    tmp = ''\n",
        "    while n:\n",
        "        tmp += str(n % 3)\n",
        "        n = n // 3\n",
        "    print(tmp)\n",
        "    answer = int(tmp, 3)\n",
        "    return answer"
      ],
      "metadata": {
        "id": "fXr1WQsjHd6M"
      },
      "execution_count": null,
      "outputs": []
    },
    {
      "cell_type": "markdown",
      "source": [
        "## 40.약수의 개수와 덧셈\n",
        "\n",
        "- https://programmers.co.kr/learn/courses/30/lessons/77884"
      ],
      "metadata": {
        "id": "cwwnJt9bTyGo"
      }
    },
    {
      "cell_type": "code",
      "source": [
        "def solution(left, right):\n",
        "    \n",
        "    lst = list(range(left, right+1))\n",
        "    \n",
        "    answer = 0\n",
        "    for i in lst:\n",
        "        box = [1]\n",
        "        for j in range(2,i+1):\n",
        "            if i % j == 0:\n",
        "                box.append(i)\n",
        "        if len(box)%2==0:\n",
        "            answer += i\n",
        "        else:\n",
        "            answer -= i\n",
        "\n",
        "    return answer"
      ],
      "metadata": {
        "id": "-PzXHxlSVj-h"
      },
      "execution_count": null,
      "outputs": []
    },
    {
      "cell_type": "code",
      "source": [
        "list(range(13,17+1))"
      ],
      "metadata": {
        "id": "M0XAyo8xQXmZ",
        "outputId": "150ba5a4-7707-488b-aa38-c240ac9cbfd0",
        "colab": {
          "base_uri": "https://localhost:8080/"
        }
      },
      "execution_count": null,
      "outputs": [
        {
          "output_type": "execute_result",
          "data": {
            "text/plain": [
              "[13, 14, 15, 16, 17]"
            ]
          },
          "metadata": {},
          "execution_count": 15
        }
      ]
    },
    {
      "cell_type": "markdown",
      "source": [
        "## 41.실패율"
      ],
      "metadata": {
        "id": "Ftz-vg4VWSQV"
      }
    },
    {
      "cell_type": "markdown",
      "source": [
        "### 정답"
      ],
      "metadata": {
        "id": "pnxegJeegVbS"
      }
    },
    {
      "cell_type": "code",
      "source": [
        "def solution(N, stages):\n",
        "    result = {}\n",
        "    denominator = len(stages)\n",
        "    for stage in range(1, N+1):\n",
        "        if denominator != 0:\n",
        "            count = stages.count(stage)\n",
        "            result[stage] = count / denominator\n",
        "            denominator -= count\n",
        "        else:\n",
        "            result[stage] = 0\n",
        "    return sorted(result, key=lambda x : result[x], reverse=True)\n",
        "\n",
        "\n",
        "\n",
        "'''\n",
        "1)\n",
        "def solution(N, stages):\n",
        "    result = {}\n",
        "    denominator = len(stages)\n",
        "    for stage in range(1, N+1):\n",
        "        if denominator != 0:\n",
        "            count = stages.count(stage)\n",
        "            result[stage] = count / denominator\n",
        "            denominator -= count\n",
        "        else:\n",
        "            result[stage] = 0\n",
        "    return sorted(result, key=lambda x : result[x], reverse=True)\n",
        "\n",
        "\n",
        "2)\n",
        "def solution(N, stages):\n",
        "    fail = {}\n",
        "    for i in range(1,N+1):\n",
        "        try:\n",
        "            fail_ = len([a for a in stages if a==i])/len([a for a in stages if a>=i])\n",
        "        except:\n",
        "            fail_ = 0\n",
        "        fail[i]=fail_\n",
        "    answer = sorted(fail, key=fail.get, reverse=True)\n",
        "    return answer\n",
        "'''\n",
        "\n",
        "\n",
        "\n",
        "'''\n",
        "리스트에 포함된 요소 x의 개수 세기(count)\n",
        "count(x)는 리스트 안에 x가 몇 개 있는지 조사하여 그 개수를 돌려주는 함수이다.\n",
        ">>> a = [1,2,3,1]\n",
        ">>> a.count(1)\n",
        "2\n",
        "'''\n",
        "\n",
        "\n",
        "'''\n",
        "1) 풀이\n",
        "def solution(N, stages):\n",
        "    result = {}\n",
        "    denominator = len(stages)\n",
        "    print('denominator :', denominator)\n",
        "    for stage in range(1, N+1):\n",
        "        if denominator != 0:\n",
        "            count = stages.count(stage)\n",
        "            print(f'{count} count')\n",
        "            result[stage] = count / denominator\n",
        "            print(result)\n",
        "            denominator -= count\n",
        "            print(denominator)\n",
        "        else:\n",
        "            result[stage] = 0\n",
        "    return sorted(result, key=lambda x : result[x], reverse=True)\n",
        "1)입력\n",
        "N = 5\n",
        "stages = [2, 1, 2, 6, 2, 4, 3, 3]\n",
        "1)출력\n",
        "solution(N, stages)\n",
        "denominator : 8\n",
        "1 count\n",
        "{1: 0.125}\n",
        "7\n",
        "3 count\n",
        "{1: 0.125, 2: 0.42857142857142855}\n",
        "4\n",
        "2 count\n",
        "{1: 0.125, 2: 0.42857142857142855, 3: 0.5}\n",
        "2\n",
        "1 count\n",
        "{1: 0.125, 2: 0.42857142857142855, 3: 0.5, 4: 0.5}\n",
        "1\n",
        "0 count\n",
        "{1: 0.125, 2: 0.42857142857142855, 3: 0.5, 4: 0.5, 5: 0.0}\n",
        "1\n",
        "[3, 4, 2, 1, 5]\n",
        "'''"
      ],
      "metadata": {
        "id": "u16vsmEiQXkJ"
      },
      "execution_count": null,
      "outputs": []
    },
    {
      "cell_type": "markdown",
      "source": [
        "### 실패!"
      ],
      "metadata": {
        "id": "BXSdanVJgXwX"
      }
    },
    {
      "cell_type": "code",
      "source": [
        "'''\n",
        "sorted() 함수 key!!!!\n",
        "count() 함수!!!!\n",
        "\n",
        "\n",
        "'''\n",
        "\n",
        "def solution(N, stages):\n",
        "    \n",
        "    dic = {}\n",
        "    for i in range(1, N+1):\n",
        "        # print(stages.count(i))\n",
        "        # print(len([j for j in stages if j >= i]))\n",
        "        dic[i] = stages.count(i)/len([j for j in stages if j >= i])\n",
        "           \n",
        "    # print(dic)\n",
        "    # print(dic.items())\n",
        "\n",
        "    return sorted(dic, key=lambda x : dic[x], reverse=True)"
      ],
      "metadata": {
        "id": "6MfKNLYFQXeU"
      },
      "execution_count": null,
      "outputs": []
    },
    {
      "cell_type": "code",
      "source": [
        ""
      ],
      "metadata": {
        "id": "YKIbl0YNg51d"
      },
      "execution_count": null,
      "outputs": []
    },
    {
      "cell_type": "code",
      "source": [
        "solution(5, [2, 1, 2, 6, 2, 4, 3, 3])"
      ],
      "metadata": {
        "id": "xOaqK9YrHd34",
        "outputId": "49677127-bd3e-4f7e-b240-db17f23e20d9",
        "colab": {
          "base_uri": "https://localhost:8080/"
        }
      },
      "execution_count": null,
      "outputs": [
        {
          "output_type": "stream",
          "name": "stdout",
          "text": [
            "1\n",
            "8\n",
            "3\n",
            "7\n",
            "2\n",
            "4\n",
            "1\n",
            "2\n",
            "0\n",
            "1\n",
            "{1: 0.125, 2: 0.42857142857142855, 3: 0.5, 4: 0.5, 5: 0.0}\n",
            "dict_items([(1, 0.125), (2, 0.42857142857142855), (3, 0.5), (4, 0.5), (5, 0.0)])\n"
          ]
        }
      ]
    },
    {
      "cell_type": "code",
      "source": [
        "solution(4, [4,4,4,4,4])"
      ],
      "metadata": {
        "id": "pBtOY98tczmu",
        "outputId": "f92a1b4b-a858-412e-ab3b-9e07e6525aa3",
        "colab": {
          "base_uri": "https://localhost:8080/"
        }
      },
      "execution_count": null,
      "outputs": [
        {
          "output_type": "stream",
          "name": "stdout",
          "text": [
            "0\n",
            "5\n",
            "0\n",
            "5\n",
            "0\n",
            "5\n",
            "5\n",
            "5\n",
            "{1: 0.0, 2: 0.0, 3: 0.0, 4: 1.0}\n",
            "dict_items([(1, 0.0), (2, 0.0), (3, 0.0), (4, 1.0)])\n"
          ]
        }
      ]
    },
    {
      "cell_type": "code",
      "source": [
        "a = {1: 0.125, 2: 0.42857142857142855, 3: 0.5, 4: 0.5, 5: 0.0}"
      ],
      "metadata": {
        "id": "hchNeAr7czkC"
      },
      "execution_count": null,
      "outputs": []
    },
    {
      "cell_type": "code",
      "source": [
        "b = sorted(a.values(), reverse=True)\n",
        "\n",
        "for i in range(len(b)):\n",
        "  b[i]"
      ],
      "metadata": {
        "id": "_tx3s3GjczhA",
        "outputId": "0c95c5a0-3a31-48bd-ee5c-e5349fdbd18a",
        "colab": {
          "base_uri": "https://localhost:8080/"
        }
      },
      "execution_count": null,
      "outputs": [
        {
          "output_type": "execute_result",
          "data": {
            "text/plain": [
              "[0.5, 0.5, 0.42857142857142855, 0.125, 0.0]"
            ]
          },
          "metadata": {},
          "execution_count": 51
        }
      ]
    },
    {
      "cell_type": "markdown",
      "source": [
        "## 42.폰켓몬\n",
        "\n",
        "- https://programmers.co.kr/learn/courses/30/lessons/1845"
      ],
      "metadata": {
        "id": "PhXNTe5Acyni"
      }
    },
    {
      "cell_type": "code",
      "source": [
        "def solution(nums):\n",
        "    return min(len(nums)/2, len(set(nums)))\n",
        "\n",
        "\n",
        "'''\n",
        "def solution(nums):\n",
        "    return min(len(nums)/2, len(set(nums)))\n",
        "'''"
      ],
      "metadata": {
        "id": "cLbPBDqiE1Yg"
      },
      "execution_count": null,
      "outputs": []
    },
    {
      "cell_type": "markdown",
      "source": [
        "## 43.체육복\n",
        "\n",
        "- https://programmers.co.kr/learn/courses/30/lessons/42862"
      ],
      "metadata": {
        "id": "Pno0MZpIcjS6"
      }
    },
    {
      "cell_type": "code",
      "source": [
        "def solution(n, lost, reserve):\n",
        "    _reserve = sorted([r for r in reserve if r not in lost])\n",
        "    _lost = sorted([l for l in lost if l not in reserve])\n",
        "    for r in _reserve:\n",
        "        f = r - 1\n",
        "        b = r + 1\n",
        "        if f in _lost:\n",
        "            _lost.remove(f)\n",
        "        elif b in _lost:\n",
        "            _lost.remove(b)\n",
        "    return n - len(_lost)"
      ],
      "metadata": {
        "id": "c2mlCt-kci91"
      },
      "execution_count": null,
      "outputs": []
    },
    {
      "cell_type": "markdown",
      "source": [
        "## 44.모의고사\n",
        "\n",
        "- https://programmers.co.kr/learn/courses/30/lessons/42840"
      ],
      "metadata": {
        "id": "JfvXlIH7dm6w"
      }
    },
    {
      "cell_type": "code",
      "source": [
        "first = [1, 2, 3, 4, 5]\n",
        "first*3"
      ],
      "metadata": {
        "colab": {
          "base_uri": "https://localhost:8080/"
        },
        "id": "Cc3Hnw_Oci7r",
        "outputId": "6e673f2c-2136-4228-d87d-e0fd8a4c7d03"
      },
      "execution_count": null,
      "outputs": [
        {
          "output_type": "execute_result",
          "data": {
            "text/plain": [
              "[1, 2, 3, 4, 5, 1, 2, 3, 4, 5, 1, 2, 3, 4, 5]"
            ]
          },
          "metadata": {},
          "execution_count": 3
        }
      ]
    },
    {
      "cell_type": "code",
      "source": [
        "second = [2, 1, 2, 3, 2, 4, 2, 5]\n",
        "first+second"
      ],
      "metadata": {
        "colab": {
          "base_uri": "https://localhost:8080/"
        },
        "id": "XQAFAiMrci5M",
        "outputId": "4b7bb755-1673-451b-bce5-aac8875cbbe5"
      },
      "execution_count": null,
      "outputs": [
        {
          "output_type": "execute_result",
          "data": {
            "text/plain": [
              "[1, 2, 3, 4, 5, 2, 1, 2, 3, 2, 4, 2, 5]"
            ]
          },
          "metadata": {},
          "execution_count": 4
        }
      ]
    },
    {
      "cell_type": "markdown",
      "source": [
        "### 내 풀이"
      ],
      "metadata": {
        "id": "1JTYViFN1vum"
      }
    },
    {
      "cell_type": "code",
      "source": [
        "'''\n",
        "zip() 함수!\n",
        "최대 최소 인덱스값\n",
        "중복 인덱스값들\n",
        "\n",
        "https://www.delftstack.com/ko/howto/python/get-index-of-min-and-max-value-from-list-in-python/\n",
        "https://ai-hyu.com/python-%ED%8C%8C%EC%9D%B4%EC%8D%AC-%EB%A6%AC%EC%8A%A4%ED%8A%B8-%EC%9D%B8%EB%8D%B1%EC%8A%A4-%EC%97%AC%EB%9F%AC%EA%B0%9C-%EC%B0%BE%EA%B8%B0/\n",
        "https://weejw.tistory.com/374\n",
        "'''\n",
        "\n",
        "def solution(answers):\n",
        "    \n",
        "    first = [1, 2, 3, 4, 5]\n",
        "    second = [2, 1, 2, 3, 2, 4, 2, 5]\n",
        "    third = [3, 3, 1, 1, 2, 2, 4, 4, 5, 5]\n",
        "    \n",
        "    box = []\n",
        "    for i in [first,second,third]:\n",
        "        \n",
        "        i = (len(answers)//len(i))*i+i[:(len(answers)%len(i))]\n",
        "        num = len([j for j,z in zip(answers, i) if j==z])\n",
        "        box.append(num)\n",
        "    \n",
        "    answer = [num+1 for num, i in enumerate(box) if i == max(box)]\n",
        "\n",
        "    \n",
        "    return answer"
      ],
      "metadata": {
        "id": "mheeonEGci2k"
      },
      "execution_count": null,
      "outputs": []
    },
    {
      "cell_type": "markdown",
      "source": [
        "### 다른 풀이"
      ],
      "metadata": {
        "id": "gVi6M4uC1x5M"
      }
    },
    {
      "cell_type": "code",
      "source": [
        "def solution(answers):\n",
        "    pattern1 = [1,2,3,4,5]\n",
        "    pattern2 = [2,1,2,3,2,4,2,5]\n",
        "    pattern3 = [3,3,1,1,2,2,4,4,5,5]\n",
        "    score = [0, 0, 0]\n",
        "    result = []\n",
        "\n",
        "    for idx, answer in enumerate(answers):\n",
        "        if answer == pattern1[idx%len(pattern1)]:\n",
        "            score[0] += 1\n",
        "        if answer == pattern2[idx%len(pattern2)]:\n",
        "            score[1] += 1\n",
        "        if answer == pattern3[idx%len(pattern3)]:\n",
        "            score[2] += 1\n",
        "\n",
        "    for idx, s in enumerate(score):\n",
        "        if s == max(score):\n",
        "            result.append(idx+1)\n",
        "\n",
        "    return result"
      ],
      "metadata": {
        "id": "WKRAmnrT1u6S"
      },
      "execution_count": null,
      "outputs": []
    },
    {
      "cell_type": "markdown",
      "source": [
        "## 45.K번째수\n",
        "\n",
        "- https://programmers.co.kr/learn/courses/30/lessons/42748"
      ],
      "metadata": {
        "id": "7B0OES1L0fk1"
      }
    },
    {
      "cell_type": "markdown",
      "source": [
        "### 내 풀이"
      ],
      "metadata": {
        "id": "51_i6OwD4AQf"
      }
    },
    {
      "cell_type": "code",
      "source": [
        "def solution(array, commands):\n",
        "    \n",
        "    box = []\n",
        "    for i in commands:\n",
        "        sliced = sorted(array[i[0]-1:i[1]])[i[2]-1]\n",
        "        box.append(sliced)\n",
        "    \n",
        "    return box"
      ],
      "metadata": {
        "id": "ZsmJ7-lMzuJs"
      },
      "execution_count": null,
      "outputs": []
    },
    {
      "cell_type": "markdown",
      "source": [
        "### 다른 풀이"
      ],
      "metadata": {
        "id": "jfwIpHjf4Bc4"
      }
    },
    {
      "cell_type": "code",
      "source": [
        "def solution(array, commands):\n",
        "    answer = []\n",
        "    for command in commands:\n",
        "        new_array = array[command[0]-1:command[1]]\n",
        "        new_array.sort()\n",
        "        answer.append(new_array[command[2]-1])\n",
        "    return answer"
      ],
      "metadata": {
        "id": "X4vMAjRAzuHH"
      },
      "execution_count": null,
      "outputs": []
    },
    {
      "cell_type": "markdown",
      "source": [
        "## 46.소수 만들기\n",
        "\n",
        "- https://programmers.co.kr/learn/courses/30/lessons/12977"
      ],
      "metadata": {
        "id": "KEAQUa6M4WHG"
      }
    },
    {
      "cell_type": "code",
      "source": [
        "'''\n",
        "from itertools import combinations as cb\n",
        "break 범위!!! => 반복문 하나만 빠져나온다! 조건문은 건너뛴다!\n",
        "소수 찾기!!\n",
        "\n",
        "https://redmuffler.tistory.com/446\n",
        "https://www.delftstack.com/ko/howto/python/python-isprime/\n",
        "'''\n",
        "\n",
        "from itertools import combinations as cb\n",
        "\n",
        "def solution(nums):\n",
        "    \n",
        "    answer = 0\n",
        "    \n",
        "    for i in cb(nums, 3):\n",
        "        num = sum(i)\n",
        "        for j in range(2, int(num/2)+1): # 반만 하면 된다! 다 할 필요없어!\n",
        "            if num%j == 0:\n",
        "                break\n",
        "        else:\n",
        "            answer += 1\n",
        "\n",
        "    return answer"
      ],
      "metadata": {
        "id": "AB64MoHR4zZT"
      },
      "execution_count": null,
      "outputs": []
    },
    {
      "cell_type": "code",
      "source": [
        "\n",
        "'''\n",
        "순열\n",
        "from itertools import permutations\n",
        "a = [1,2,3]\n",
        "permute = permutations(a,2)\n",
        "print(list(permute))\n",
        "결과\n",
        "[(1,2),(1,3),(2,1),(2,3),(3,1),(3,2)]\n",
        "\n",
        "\n",
        "조합\n",
        "from itertools import combinations\n",
        "a = [1,2,3]\n",
        "combi = combinations(a,2)\n",
        "print(list(combi))\n",
        "[(1,2),(1,3),(2,3)]\n",
        "'''"
      ],
      "metadata": {
        "id": "evxlcbzX4zWr"
      },
      "execution_count": null,
      "outputs": []
    },
    {
      "cell_type": "markdown",
      "source": [
        "## 47.내적\n",
        "\n",
        "- https://programmers.co.kr/learn/courses/30/lessons/70128"
      ],
      "metadata": {
        "id": "ljVDEy5v772s"
      }
    },
    {
      "cell_type": "markdown",
      "source": [
        "### 내 풀이"
      ],
      "metadata": {
        "id": "Kt0cwVHW8naY"
      }
    },
    {
      "cell_type": "code",
      "source": [
        "def solution(a, b):\n",
        "    \n",
        "    answer = 0\n",
        "    for i in range(len(a)):\n",
        "        answer += a[i]*b[i]\n",
        "    \n",
        "    return answer"
      ],
      "metadata": {
        "id": "BJjL6RGv4zUH"
      },
      "execution_count": null,
      "outputs": []
    },
    {
      "cell_type": "markdown",
      "source": [
        "### 다른 풀이"
      ],
      "metadata": {
        "id": "T_v8n5_O8o6G"
      }
    },
    {
      "cell_type": "code",
      "source": [
        "def solution(a, b):\n",
        "    return sum([x*y for x, y in zip(a,b)])\n",
        "\n",
        "'''\n",
        "def solution(a, b):\n",
        "    return sum([x*y for x, y in zip(a,b)])\n",
        "\n",
        "def solution(a, b):\n",
        "    c = []\n",
        "    for i in range(len(a)):\n",
        "        c.append(a[i]*b[i])\n",
        "    return sum(c)\n",
        "'''"
      ],
      "metadata": {
        "id": "FuL7zLYk4zRV"
      },
      "execution_count": null,
      "outputs": []
    },
    {
      "cell_type": "markdown",
      "source": [
        "## 48.음양 더하기\n",
        "\n",
        "- https://programmers.co.kr/learn/courses/30/lessons/76501"
      ],
      "metadata": {
        "id": "as3ACGMg8vg0"
      }
    },
    {
      "cell_type": "code",
      "source": [
        "def solution(absolutes, signs):\n",
        "    \n",
        "    answer = sum([i if j else i*(-1) for i,j in zip(absolutes, signs)])\n",
        "\n",
        "    return answer"
      ],
      "metadata": {
        "id": "jYObAUtc8vzV"
      },
      "execution_count": null,
      "outputs": []
    },
    {
      "cell_type": "code",
      "source": [
        "def solution(absolutes, signs):\n",
        "    answer = 0\n",
        "    for a, s in zip(absolutes, signs):\n",
        "        if s:\n",
        "            answer += a\n",
        "        else:\n",
        "            answer -= a\n",
        "    return answer\n",
        "\n",
        "'''\n",
        "1)\n",
        "def solution(absolutes, signs):\n",
        "    answer = 0\n",
        "    for a, s in zip(absolutes, signs):\n",
        "        if s:\n",
        "            answer += a\n",
        "        else:\n",
        "            answer -= a\n",
        "    return answer\n",
        "\n",
        "\n",
        "2)\n",
        "def solution(absolutes, signs):\n",
        "    res = []\n",
        "    for idx in range(len(signs)):\n",
        "        if signs[idx] == True:\n",
        "            res.append(absolutes[idx])\n",
        "        else:\n",
        "            res.append(-absolutes[idx])\n",
        "    return sum(res)\n",
        "\n",
        "print(solution([4,7,12], [True,False,True]))\n",
        "'''"
      ],
      "metadata": {
        "id": "gn0TM7QbzuEw"
      },
      "execution_count": null,
      "outputs": []
    },
    {
      "cell_type": "markdown",
      "source": [
        "## 49.없는 숫자 더하기\n",
        "\n",
        "- https://programmers.co.kr/learn/courses/30/lessons/86051"
      ],
      "metadata": {
        "id": "mo8BqBn3dSb_"
      }
    },
    {
      "cell_type": "markdown",
      "source": [
        "### 내 풀이"
      ],
      "metadata": {
        "id": "KnjBygU3gtMN"
      }
    },
    {
      "cell_type": "code",
      "source": [
        "list(range(0,10))"
      ],
      "metadata": {
        "colab": {
          "base_uri": "https://localhost:8080/"
        },
        "id": "aU1n3iFMdTgT",
        "outputId": "c551d3d8-d7ac-4c11-fb9c-c50eb3c64907"
      },
      "execution_count": null,
      "outputs": [
        {
          "output_type": "execute_result",
          "data": {
            "text/plain": [
              "[0, 1, 2, 3, 4, 5, 6, 7, 8, 9]"
            ]
          },
          "metadata": {},
          "execution_count": 14
        }
      ]
    },
    {
      "cell_type": "code",
      "source": [
        "def solution(numbers):\n",
        "    \n",
        "    answer = 0\n",
        "    for i in numbers:\n",
        "        print(f'{i not in list(range(0,10))}')\n",
        "\n",
        "        if i not in list(range(0,10)):\n",
        "            answer += i\n",
        "        else:\n",
        "            print('yes!')\n",
        "            \n",
        "    return answer"
      ],
      "metadata": {
        "id": "n1g5JBKtdTeM"
      },
      "execution_count": null,
      "outputs": []
    },
    {
      "cell_type": "code",
      "source": [
        "solution([1,2,3,4,6,7,8,0])\n",
        "# 멍충아 반대로 해야지!!! numbers와 list(range(0,10))가 바꼇어!!"
      ],
      "metadata": {
        "colab": {
          "base_uri": "https://localhost:8080/"
        },
        "id": "zhrr0CAidTbY",
        "outputId": "35ae5774-6fd1-4992-e976-1fbe31c1418f"
      },
      "execution_count": null,
      "outputs": [
        {
          "output_type": "stream",
          "name": "stdout",
          "text": [
            "False\n",
            "yes!\n",
            "False\n",
            "yes!\n",
            "False\n",
            "yes!\n",
            "False\n",
            "yes!\n",
            "False\n",
            "yes!\n",
            "False\n",
            "yes!\n",
            "False\n",
            "yes!\n",
            "False\n",
            "yes!\n"
          ]
        },
        {
          "output_type": "execute_result",
          "data": {
            "text/plain": [
              "0"
            ]
          },
          "metadata": {},
          "execution_count": 13
        }
      ]
    },
    {
      "cell_type": "code",
      "source": [
        "def solution(numbers):\n",
        "    \n",
        "    answer = 0\n",
        "    for i in list(range(0,10)):\n",
        "        if i not in numbers:\n",
        "            answer += i\n",
        "            \n",
        "    return answer"
      ],
      "metadata": {
        "id": "fK8C0zXHdTY6"
      },
      "execution_count": null,
      "outputs": []
    },
    {
      "cell_type": "markdown",
      "source": [
        "### 다른 풀이"
      ],
      "metadata": {
        "id": "RUnxBQE6gkIy"
      }
    },
    {
      "cell_type": "code",
      "source": [
        "def solution(numbers):\n",
        "    return 45 - sum(numbers)"
      ],
      "metadata": {
        "id": "CkbwuY7HdSsZ"
      },
      "execution_count": null,
      "outputs": []
    },
    {
      "cell_type": "markdown",
      "source": [
        "## 50.크레인 인형뽑기 게임\n",
        "\n",
        "- https://programmers.co.kr/learn/courses/30/lessons/64061"
      ],
      "metadata": {
        "id": "5RrSeBRagwQI"
      }
    },
    {
      "cell_type": "code",
      "source": [
        "box = []\n",
        "if box:\n",
        "  print('yes')\n",
        "else:\n",
        "  print('false')"
      ],
      "metadata": {
        "colab": {
          "base_uri": "https://localhost:8080/"
        },
        "id": "RLMvCDt6heHG",
        "outputId": "2593bb4b-c28c-42bd-efa2-aac9cb6650b9"
      },
      "execution_count": null,
      "outputs": [
        {
          "output_type": "stream",
          "name": "stdout",
          "text": [
            "false\n"
          ]
        }
      ]
    },
    {
      "cell_type": "code",
      "source": [
        "def solution(board, moves):\n",
        "    \n",
        "    box = []\n",
        "    \n",
        "    for i in moves:\n",
        "        for j in board:\n",
        "            if j[i-1] != 0:\n",
        "                box.append(j[i-1])\n",
        "                j[i-1] = 0\n",
        "                # print(board)\n",
        "                # print()\n",
        "                break\n",
        "                \n",
        "    print(box)\n",
        "    \n",
        "    answer = 0\n",
        "    return answer"
      ],
      "metadata": {
        "id": "d-F6P0yqqVQe"
      },
      "execution_count": null,
      "outputs": []
    },
    {
      "cell_type": "code",
      "source": [
        "\t[4, 3, 1, 1, 3, 2, 4]"
      ],
      "metadata": {
        "id": "QqoL9y5hqWdj"
      },
      "execution_count": null,
      "outputs": []
    },
    {
      "cell_type": "code",
      "source": [
        "def solution(board, moves):\n",
        "    \n",
        "    box = []\n",
        "    answer = 0\n",
        "    for i in moves:\n",
        "        for j in board:\n",
        "            if (j[i-1] != 0) and (not box): # 첫번째는 걍 넣는다.\n",
        "                box.append(j[i-1])\n",
        "                j[i-1] = 0\n",
        "                \n",
        "            elif j[i-1] != 0:\n",
        "                \n",
        "                if box[-1] == j[i-1]:\n",
        "                    box.remove(j[i-1])\n",
        "                    answer += 2\n",
        "                    \n",
        "                box.append(j[i-1])\n",
        "                j[i-1] = 0\n",
        "                break\n",
        "                \n",
        "    print(box)\n",
        "        \n",
        "    return answer"
      ],
      "metadata": {
        "id": "pTpmYScqheEb"
      },
      "execution_count": null,
      "outputs": []
    },
    {
      "cell_type": "code",
      "source": [
        "[4, 3, 1, 2, 4]"
      ],
      "metadata": {
        "id": "pLmr_IzeheCQ"
      },
      "execution_count": null,
      "outputs": []
    },
    {
      "cell_type": "markdown",
      "source": [
        "### 성공"
      ],
      "metadata": {
        "id": "NeOS7VXwcjUB"
      }
    },
    {
      "cell_type": "code",
      "source": [
        "'''\n",
        "pop(), remove() 함수\n",
        "\n",
        "https://wikidocs.net/14#pop\n",
        "'''\n",
        "\n",
        "def solution(board, moves):\n",
        "    \n",
        "    box = []\n",
        "    answer = 0\n",
        "    for i in moves:\n",
        "        for j in board:\n",
        "            if (j[i-1] != 0) and (not box): # 첫번째는 걍 넣는다.\n",
        "                box.append(j[i-1])\n",
        "                j[i-1] = 0\n",
        "                # print('시작:',box)\n",
        "                # print()\n",
        "                break\n",
        "\n",
        "            elif j[i-1] != 0:\n",
        "                # print('box:', box)\n",
        "                # print('box[-1]:', box[-1])\n",
        "                # print('j[i-1]:', j[i-1])\n",
        "                if box[-1] != j[i-1]:\n",
        "                    \n",
        "                    box.append(j[i-1])\n",
        "                    j[i-1] = 0\n",
        "                    # print(box)\n",
        "                    # print()\n",
        "                    \n",
        "                    \n",
        "                else:\n",
        "                    # print(box[-1])\n",
        "                    # print()\n",
        "                    box.pop()\n",
        "                    j[i-1] = 0\n",
        "                    answer += 2\n",
        "                break\n",
        "            \n",
        "    # print(box)\n",
        "        \n",
        "    return answer"
      ],
      "metadata": {
        "id": "hRTqZdtLgwD4"
      },
      "execution_count": null,
      "outputs": []
    },
    {
      "cell_type": "markdown",
      "source": [
        "### 다른 풀이"
      ],
      "metadata": {
        "id": "vZRDcYSid12h"
      }
    },
    {
      "cell_type": "code",
      "source": [
        "def solution(board, moves):\n",
        "    stacklist = []\n",
        "    answer = 0\n",
        "\n",
        "    for i in moves:\n",
        "        for j in range(len(board)):\n",
        "            if board[j][i-1] != 0:\n",
        "                stacklist.append(board[j][i-1])\n",
        "                board[j][i-1] = 0\n",
        "\n",
        "                if len(stacklist) > 1:\n",
        "                    if stacklist[-1] == stacklist[-2]:\n",
        "                        stacklist.pop(-1)\n",
        "                        stacklist.pop(-1)\n",
        "                        answer += 2     \n",
        "                break\n",
        "\n",
        "    return answer"
      ],
      "metadata": {
        "id": "oNx3wUzmgwBI"
      },
      "execution_count": null,
      "outputs": []
    },
    {
      "cell_type": "markdown",
      "source": [
        "## 51.로또의 최고 순위와 최저 순위\n",
        "\n",
        "- https://programmers.co.kr/learn/courses/30/lessons/77484"
      ],
      "metadata": {
        "id": "8y7OpcpgeB2Q"
      }
    },
    {
      "cell_type": "markdown",
      "source": [
        "### 내 풀이"
      ],
      "metadata": {
        "id": "67CBPAgslSJm"
      }
    },
    {
      "cell_type": "code",
      "source": [
        "def solution(lottos, win_nums):\n",
        "    \n",
        "    low_score = 7\n",
        "    high_score = 7\n",
        "    \n",
        "    for lotto in lottos:\n",
        "        if lotto in win_nums:\n",
        "            low_score -= 1\n",
        "            high_score -= 1\n",
        "        elif lotto == 0:\n",
        "            high_score -= 1\n",
        "            \n",
        "    if low_score > 6:\n",
        "        low_score = 6\n",
        "    if high_score > 6:\n",
        "        high_score = 6\n",
        "    \n",
        "    # print(low_score)\n",
        "    # print(high_score)            \n",
        "            \n",
        "    return high_score, low_score"
      ],
      "metadata": {
        "id": "v_bbymL4eBug"
      },
      "execution_count": null,
      "outputs": []
    },
    {
      "cell_type": "markdown",
      "source": [
        "### 다른 풀이"
      ],
      "metadata": {
        "id": "9DnEUrsWlTgM"
      }
    },
    {
      "cell_type": "code",
      "source": [
        "'''\n",
        "count() 함수\n",
        "\n",
        " '변수. count(찾는 요소)' \n",
        " >>> 'ooyyy'.count('y')\n",
        "3\n",
        "\n",
        ">>> a = [1, 1, 1, 2, 3]\n",
        ">>> a.count(1)\n",
        "3\n",
        "\n",
        ">>> bool = True, False, True\n",
        ">>> bool.count(True)\n",
        "2\n",
        "\n",
        "https://ooyoung.tistory.com/76\n",
        "'''\n",
        "\n",
        "def solution(lottos, win_nums):\n",
        "\n",
        "    rank=[6,6,5,4,3,2,1]\n",
        "\n",
        "    cnt_0 = lottos.count(0)\n",
        "    ans = 0\n",
        "    for x in win_nums:\n",
        "        if x in lottos:\n",
        "            ans += 1\n",
        "    return rank[cnt_0 + ans],rank[ans]"
      ],
      "metadata": {
        "id": "QlVO3f1aeBr_"
      },
      "execution_count": null,
      "outputs": []
    },
    {
      "cell_type": "markdown",
      "source": [
        "## 52.키패드 누르기\n",
        "\n",
        "- https://programmers.co.kr/learn/courses/30/lessons/67256"
      ],
      "metadata": {
        "id": "wvFMZSctqQYU"
      }
    },
    {
      "cell_type": "markdown",
      "source": [
        "### 오답"
      ],
      "metadata": {
        "id": "anwKMxQl13VZ"
      }
    },
    {
      "cell_type": "code",
      "source": [
        "'''\n",
        "upper() 함수\n",
        "\n",
        "https://blockdmask.tistory.com/416\n",
        "'''\n",
        "\n",
        "def solution(numbers, hand):\n",
        "    \n",
        "    answer = ''\n",
        "    now_right = 7\n",
        "    now_left = 9\n",
        "    \n",
        "    for number in numbers:\n",
        "        \n",
        "        \n",
        "        \n",
        "        if number in [1,4,7]:\n",
        "            answer = answer + 'L'\n",
        "            now_left = number\n",
        "        elif number in [3,6,9]:\n",
        "            answer = answer + 'R'\n",
        "            now_right = number\n",
        "        else:\n",
        "            if now_left+2 == now_right:\n",
        "                answer = answer + hand[0].upper()\n",
        "                print(1)\n",
        "            elif number - now_left == number - now_right:\n",
        "                answer = answer + hand[0].upper()\n",
        "                print(2)\n",
        "            else:\n",
        "                if number-now_right > number-now_left+2:\n",
        "                    answer = answer + 'L'\n",
        "                    print('here:',now_left,now_right)\n",
        "                    print(3)\n",
        "                else:\n",
        "                    answer = answer + 'R'\n",
        "                    print('here:',now_left,now_right)\n",
        "                    print(4)\n",
        "                    \n",
        "    return answer"
      ],
      "metadata": {
        "id": "9_OrtahqlYok"
      },
      "execution_count": null,
      "outputs": []
    },
    {
      "cell_type": "code",
      "source": [
        "list(range(10))"
      ],
      "metadata": {
        "colab": {
          "base_uri": "https://localhost:8080/"
        },
        "id": "eRDAYlpdlYgp",
        "outputId": "338bd898-126b-44d6-fdb8-2ed844d6acb7"
      },
      "execution_count": null,
      "outputs": [
        {
          "output_type": "execute_result",
          "data": {
            "text/plain": [
              "[0, 1, 2, 3, 4, 5, 6, 7, 8, 9]"
            ]
          },
          "metadata": {},
          "execution_count": 7
        }
      ]
    },
    {
      "cell_type": "markdown",
      "source": [
        "### 정답"
      ],
      "metadata": {
        "id": "rVK84P0C_jN6"
      }
    },
    {
      "cell_type": "code",
      "source": [
        "def solution(numbers, hand):\n",
        "    answer = ''\n",
        "    key_dict = {1:(0,0),2:(0,1),3:(0,2),\n",
        "                4:(1,0),5:(1,1),6:(1,2),\n",
        "                7:(2,0),8:(2,1),9:(2,2),\n",
        "                '*':(3,0),0:(3,1),'#':(3,2)}\n",
        "\n",
        "    left = [1,4,7]\n",
        "    right = [3,6,9]\n",
        "    lhand = '*'\n",
        "    rhand = '#'\n",
        "    for i in numbers:\n",
        "        if i in left:\n",
        "            answer += 'L'\n",
        "            lhand = i\n",
        "        elif i in right:\n",
        "            answer += 'R'\n",
        "            rhand = i\n",
        "        else:\n",
        "            curPos = key_dict[i]\n",
        "            lPos = key_dict[lhand]\n",
        "            rPos = key_dict[rhand]\n",
        "            ldist = abs(curPos[0]-lPos[0]) + abs(curPos[1]-lPos[1])\n",
        "            rdist = abs(curPos[0]-rPos[0]) + abs(curPos[1]-rPos[1])\n",
        "\n",
        "            if ldist < rdist:\n",
        "                answer += 'L'\n",
        "                lhand = i\n",
        "            elif ldist > rdist:\n",
        "                answer += 'R'\n",
        "                rhand = i\n",
        "            else:\n",
        "                if hand == 'left':\n",
        "                    answer += 'L'\n",
        "                    lhand = i\n",
        "                else:\n",
        "                    answer += 'R'\n",
        "                    rhand = i\n",
        "\n",
        "    return answer"
      ],
      "metadata": {
        "id": "VsAqtm-rA4ZP"
      },
      "execution_count": null,
      "outputs": []
    },
    {
      "cell_type": "markdown",
      "source": [
        "## 53.신규 아이디 추천\n",
        "\n",
        "- https://programmers.co.kr/learn/courses/30/lessons/72410"
      ],
      "metadata": {
        "id": "kmjFyor7CxkC"
      }
    },
    {
      "cell_type": "code",
      "source": [
        "import re\n",
        "\n",
        "def solution(new_id):\n",
        "    \n",
        "    answer = ''\n",
        "    # 1단계\n",
        "    answer = new_id.lower()\n",
        "    # 2단계\n",
        "    p = re.compile('[^a-z0-9-_.]')\n",
        "    answer = p.sub('', answer)\n",
        "    # 3단계\n",
        "    p = re.compile('\\.{2,}')\n",
        "    answer = p.sub('.', answer)\n",
        "    # 4단계\n",
        "    p = re.compile('^\\.|$\\.')\n",
        "    answer = p.sub('', answer)\n",
        "    # 5단계\n",
        "    if answer == '':\n",
        "        answer = 'a'\n",
        "    # 6단계\n",
        "    p = re.compile('\\.$')\n",
        "    answer = p.sub('', answer[0:15])\n",
        "    # 7단계\n",
        "    while len(answer) < 3:\n",
        "        answer += answer[-1]\n",
        "        \n",
        "    return answer\n",
        "\n",
        "'''\n",
        "1)\n",
        "import re\n",
        "\n",
        "def solution(new_id):\n",
        "    answer = ''\n",
        "    # 1단계 & 2단계 : 소문자 치환\n",
        "    answer = re.sub('[^a-z\\d-_.]', '', new_id.lower())\n",
        "    # 3단계 : 마침표 2번 이상 > 하나로\n",
        "    answer = re.sub('\\.\\.+', '.', answer)\n",
        "    # 4단계 : 양 끝 마침표 제거\n",
        "    answer = re.sub('^\\.|\\.$', '', answer)\n",
        "    # 5단계 : 빈 문자열이면 a 대입\n",
        "    if answer == '':\n",
        "        answer = 'a'\n",
        "    # 6단계 : 길이가 16자 이상이면 1~15자만 남기기 & 맨 끝 마침표 제거\n",
        "    answer = re.sub('\\.$', '', answer[0:15])\n",
        "    # 7단계 : 길이가 3이 될 때까지 반복해서 끝에 붙이기\n",
        "    while len(answer) < 3:\n",
        "        answer += answer[-1:]\n",
        "    return answer\n",
        "\n",
        "\n",
        "2)\n",
        "import re\n",
        "\n",
        "def solution(new_id):\n",
        "    st = new_id\n",
        "    st = st.lower()\n",
        "    st = re.sub('[^a-z0-9\\-_.]', '', st)\n",
        "    st = re.sub('\\.+', '.', st)\n",
        "    st = re.sub('^[.]|[.]$', '', st)\n",
        "    st = 'a' if len(st) == 0 else st[:15]\n",
        "    st = re.sub('^[.]|[.]$', '', st)\n",
        "    st = st if len(st) > 2 else st + \"\".join([st[-1] for i in range(3-len(st))])\n",
        "    return st\n",
        "'''\n",
        "\n",
        "\n",
        "'''\n",
        "리스트[-1:]는 차원이 유지되어 리스트가 나오지만\n",
        "리스트[-1]은 한 차원이 줄어들어 스칼라값이 된다.\n",
        "'''"
      ],
      "metadata": {
        "id": "HSZrlPkcA4W5"
      },
      "execution_count": null,
      "outputs": []
    },
    {
      "cell_type": "markdown",
      "source": [
        "## 54.숫자 문자열과 영단어\n",
        "\n",
        "- https://programmers.co.kr/learn/courses/30/lessons/81301"
      ],
      "metadata": {
        "id": "F4bT05GkIE5l"
      }
    },
    {
      "cell_type": "markdown",
      "source": [
        "### 내 코드"
      ],
      "metadata": {
        "id": "cFlpYq6NbXj6"
      }
    },
    {
      "cell_type": "code",
      "source": [
        "answer = ''\n",
        "for i in \"one4seveneight\":\n",
        "  print(i)\n",
        "  if i.isdigit():\n",
        "    answer += i\n",
        "\n",
        "answer"
      ],
      "metadata": {
        "colab": {
          "base_uri": "https://localhost:8080/",
          "height": 291
        },
        "id": "Sy5FRj_QA4Uo",
        "outputId": "76484d11-4fc0-4e7c-cc90-e06b596ff1d3"
      },
      "execution_count": null,
      "outputs": [
        {
          "output_type": "stream",
          "name": "stdout",
          "text": [
            "o\n",
            "n\n",
            "e\n",
            "4\n",
            "s\n",
            "e\n",
            "v\n",
            "e\n",
            "n\n",
            "e\n",
            "i\n",
            "g\n",
            "h\n",
            "t\n"
          ]
        },
        {
          "output_type": "execute_result",
          "data": {
            "application/vnd.google.colaboratory.intrinsic+json": {
              "type": "string"
            },
            "text/plain": [
              "'4'"
            ]
          },
          "metadata": {},
          "execution_count": 10
        }
      ]
    },
    {
      "cell_type": "code",
      "source": [
        "'''\n",
        "isdigit() 함수\n",
        "\n",
        "https://wikidocs.net/16#key-keys\n",
        "https://blockdmask.tistory.com/556\n",
        "'''\n",
        "\n",
        "\n",
        "def solution(s):\n",
        "    \n",
        "    dict = {'zero':0,\n",
        "            'one':1,\n",
        "            'two':2,\n",
        "            'three':3,\n",
        "            'four':4,\n",
        "            'five':5,\n",
        "            'six':6,\n",
        "            'seven':7,\n",
        "            'eight':8,\n",
        "            'nine':9}\n",
        "    \n",
        "    answer = ''\n",
        "    word = ''\n",
        "    \n",
        "    for i in s:\n",
        "        if i.isdigit() :\n",
        "            answer += i\n",
        "        else:\n",
        "            word += i\n",
        "            if word in dict.keys():\n",
        "                answer += str(dict[word])\n",
        "                word = ''\n",
        "    \n",
        "    answer = int(answer)\n",
        "    return answer"
      ],
      "metadata": {
        "id": "XRuc2KMnA4SA"
      },
      "execution_count": null,
      "outputs": []
    },
    {
      "cell_type": "code",
      "source": [
        "solution(\"one4seveneight\")"
      ],
      "metadata": {
        "colab": {
          "base_uri": "https://localhost:8080/"
        },
        "id": "l4xYbr5OA4Pr",
        "outputId": "2bcae8f6-2ee9-4bd9-cad1-21ff6db444c4"
      },
      "execution_count": null,
      "outputs": [
        {
          "output_type": "execute_result",
          "data": {
            "text/plain": [
              "1478"
            ]
          },
          "metadata": {},
          "execution_count": 16
        }
      ]
    },
    {
      "cell_type": "markdown",
      "source": [
        "### 딴 코드"
      ],
      "metadata": {
        "id": "9PSjYSQ3bZCX"
      }
    },
    {
      "cell_type": "code",
      "source": [
        "num_dic = {\"zero\":\"0\", \"one\":\"1\", \"two\":\"2\", \"three\":\"3\", \"four\":\"4\", \"five\":\"5\", \"six\":\"6\", \"seven\":\"7\", \"eight\":\"8\", \"nine\":\"9\"}\n",
        "\n",
        "def solution(s):\n",
        "    answer = s\n",
        "    for key, value in num_dic.items():\n",
        "        answer = answer.replace(key, value)\n",
        "    return int(answer)"
      ],
      "metadata": {
        "id": "BmAdhzQobW4L"
      },
      "execution_count": null,
      "outputs": []
    },
    {
      "cell_type": "code",
      "source": [
        "def solution(s):\n",
        "    words = ['zero', 'one', 'two', 'three', 'four', 'five', 'six', 'seven', 'eight', 'nine']\n",
        "\n",
        "    for i in range(len(words)):\n",
        "        s = s.replace(words[i], str(i))\n",
        "\n",
        "    return int(s)"
      ],
      "metadata": {
        "id": "ihBo3aYXbvr-"
      },
      "execution_count": null,
      "outputs": []
    },
    {
      "cell_type": "markdown",
      "source": [
        "## 55.신고 결과 받기\n",
        "\n",
        "- https://programmers.co.kr/learn/courses/30/lessons/92334"
      ],
      "metadata": {
        "id": "-HZanXMoWjaC"
      }
    },
    {
      "cell_type": "code",
      "source": [
        "def solution(id_list, report, k):\n",
        "    \n",
        "    box = []\n",
        "    for i in report:\n",
        "        for j in i.split():\n",
        "            box.append(j)\n",
        "            \n",
        "    for j in list(set(box)):\n",
        "        if box.count(j) >= k:\n",
        "            \n",
        "            \n",
        "    return print(box)"
      ],
      "metadata": {
        "id": "gXA5SV26A4NK"
      },
      "execution_count": null,
      "outputs": []
    },
    {
      "cell_type": "code",
      "source": [
        "def solution(id_list, report, k):\n",
        "    \n",
        "    box = []\n",
        "    for i in report:\n",
        "        for j in i.split():\n",
        "            box.append(j)\n",
        "    \n",
        "    dic = {}\n",
        "    for i in box:\n",
        "        if i in dic:\n",
        "            dic[i] += 1\n",
        "        else:\n",
        "            dic[i] =1\n",
        "    \n",
        "    \n",
        "    \n",
        "    return print('')"
      ],
      "metadata": {
        "id": "tWvJ6CVmA4K1"
      },
      "execution_count": null,
      "outputs": []
    },
    {
      "cell_type": "markdown",
      "source": [
        "### 내 코드 짱"
      ],
      "metadata": {
        "id": "mvzVMc4ziNUG"
      }
    },
    {
      "cell_type": "code",
      "source": [
        "def solution(id_list, report, k):\n",
        "    \n",
        "    # 중복 제거\n",
        "    report = list(set(report))\n",
        "    \n",
        "    temp = [] # 신고 당한 유저들\n",
        "    for i in report:\n",
        "        temp.append(i.split()[1])\n",
        "    # print(temp)\n",
        "    \n",
        "    box = [] # k 번 이상 신고 당한 유저들\n",
        "    for i in id_list:\n",
        "        if temp.count(i) >= k:\n",
        "            box.append(i)\n",
        "    # print(box)\n",
        "    \n",
        "    # 신고자들의 메일 수신 건수 0으로 세팅\n",
        "    dic = {id_ : 0 for id_ in id_list}\n",
        "    # print(dic)\n",
        "    \n",
        "    # 신고자들의 메일 수신 건수 올림\n",
        "    for i in report:\n",
        "        if i.split()[1] in box:\n",
        "            dic[i.split()[0]] += 1\n",
        "                \n",
        "    # print(dic)\n",
        "    \n",
        "    return list(dic.values())"
      ],
      "metadata": {
        "id": "iH7-dZysZxGB"
      },
      "execution_count": null,
      "outputs": []
    },
    {
      "cell_type": "code",
      "source": [
        "solution([\"muzi\", \"frodo\", \"apeach\", \"neo\"], [\"muzi frodo\",\"apeach frodo\",\"frodo neo\",\"muzi neo\",\"apeach muzi\"], 2)"
      ],
      "metadata": {
        "colab": {
          "base_uri": "https://localhost:8080/"
        },
        "id": "1Tr3AZUWA4IU",
        "outputId": "d8e47fad-f4f9-4e9e-f663-e2c365af82b8"
      },
      "execution_count": null,
      "outputs": [
        {
          "output_type": "execute_result",
          "data": {
            "text/plain": [
              "[2, 1, 1, 0]"
            ]
          },
          "metadata": {},
          "execution_count": 51
        }
      ]
    },
    {
      "cell_type": "markdown",
      "source": [
        "# Level 2"
      ],
      "metadata": {
        "id": "2wErmnmMnv9X"
      }
    },
    {
      "cell_type": "markdown",
      "source": [
        "## 1.문자열 압축\n",
        "\n",
        "- https://programmers.co.kr/learn/courses/30/lessons/60057"
      ],
      "metadata": {
        "id": "7qUEFz81rDfV"
      }
    },
    {
      "cell_type": "markdown",
      "source": [
        "### 내 정답"
      ],
      "metadata": {
        "id": "l61rWYJUitdw"
      }
    },
    {
      "cell_type": "code",
      "source": [
        "def solution(s):\n",
        "    \n",
        "    print('len(s):', len(s))\n",
        "    if len(s)==1:\n",
        "        return 1\n",
        "\n",
        "    answer = []\n",
        "    # 전체 길이의 반까지만 쪼개라!\n",
        "    for i in range(1, len(s)//2+1):\n",
        "        print(f'{i}씩 쪼갤 때')\n",
        "        # print(len(s)//i)\n",
        "        \n",
        "        box = []\n",
        "        score = 0\n",
        "        compare = ''\n",
        "        num = 0\n",
        "        for _ in range(len(s)//i):\n",
        "            # print(s[num:i+num])\n",
        "            box.append(s[num:i+num])\n",
        "            num += i\n",
        "        print('쪼개진 결과 리스트: ', box)\n",
        "\n",
        "        rest_char = s[len(box)*len(box[0]):]\n",
        "        print('쪼개고 나머지 문자: ', rest_char)\n",
        "        box += '*' # 오류 해결을 위해 마지막에 의미없이 넣음\n",
        "        num = 1\n",
        "        string = ''\n",
        "        # 박스의 내용물을 차례대로 끄집어 냄\n",
        "        for j in range(len(box)):\n",
        "            # 앞뒤가 같으면,\n",
        "            if j < len(box)-1 and box[j] == box[j+1]:\n",
        "                num += 1\n",
        "            # 앞뒤가 다른데 시작이 아니면,\n",
        "            elif j < len(box)-1 and num != 1:\n",
        "                string += str(num)\n",
        "                string += box[j]\n",
        "                num = 1\n",
        "            # 앞뒤가 다른데 시작이면,\n",
        "            elif j < len(box)-1 and num == 1:\n",
        "                string += box[j]\n",
        "        string += rest_char\n",
        "        print('압축된 문자열: ', string, ', 길이: ', len(string))\n",
        "        answer.append(len(string))\n",
        "        print()\n",
        "\n",
        "    return min(answer)"
      ],
      "metadata": {
        "id": "cPeveWPIDOtL"
      },
      "execution_count": null,
      "outputs": []
    },
    {
      "cell_type": "code",
      "source": [
        "solution(\"aabbaccc\")"
      ],
      "metadata": {
        "colab": {
          "base_uri": "https://localhost:8080/"
        },
        "id": "uASXP6_NKj52",
        "outputId": "c9f6a9d6-56a3-472f-c472-41f38da0cc6e"
      },
      "execution_count": null,
      "outputs": [
        {
          "output_type": "stream",
          "name": "stdout",
          "text": [
            "len(s): 8\n",
            "1씩 쪼갤 때\n",
            "쪼개진 결과 리스트:  ['a', 'a', 'b', 'b', 'a', 'c', 'c', 'c']\n",
            "쪼개고 나머지 문자:  \n",
            "압축된 문자열:  2a2ba3c , 길이:  7\n",
            "\n",
            "2씩 쪼갤 때\n",
            "쪼개진 결과 리스트:  ['aa', 'bb', 'ac', 'cc']\n",
            "쪼개고 나머지 문자:  \n",
            "압축된 문자열:  aabbaccc , 길이:  8\n",
            "\n",
            "3씩 쪼갤 때\n",
            "쪼개진 결과 리스트:  ['aab', 'bac']\n",
            "쪼개고 나머지 문자:  cc\n",
            "압축된 문자열:  aabbaccc , 길이:  8\n",
            "\n",
            "4씩 쪼갤 때\n",
            "쪼개진 결과 리스트:  ['aabb', 'accc']\n",
            "쪼개고 나머지 문자:  \n",
            "압축된 문자열:  aabbaccc , 길이:  8\n",
            "\n"
          ]
        },
        {
          "output_type": "execute_result",
          "data": {
            "text/plain": [
              "7"
            ]
          },
          "metadata": {},
          "execution_count": 136
        }
      ]
    },
    {
      "cell_type": "markdown",
      "source": [
        "### 내 오답"
      ],
      "metadata": {
        "id": "VzM4YQ9NQS66"
      }
    },
    {
      "cell_type": "code",
      "source": [
        "def solution(s):\n",
        "    \n",
        "    # print('len(s):', len(s))\n",
        "    \n",
        "    compare = ''\n",
        "    for i in range(1, len(s)//2+1):\n",
        "        print(i)\n",
        "        # print(s[:i])\n",
        "        print(len(s)//i)\n",
        "        num = 0\n",
        "        for _ in range(len(s)//i):\n",
        "            print(s[num:i+num])\n",
        "            num += i\n",
        "        \n",
        "    answer = 0\n",
        "    return answer"
      ],
      "metadata": {
        "id": "tApICMKBq91A"
      },
      "execution_count": null,
      "outputs": []
    },
    {
      "cell_type": "code",
      "source": [
        "def solution(s):\n",
        "    \n",
        "    print('len(s):', len(s))\n",
        "    \n",
        "    if len(s) == 1:\n",
        "        return 1\n",
        "\n",
        "    box = []\n",
        "    for i in range(1, len(s)//2+1):\n",
        "        print('몇개씩?:', i)\n",
        "        # print('len(s)//i:',len(s)//i)\n",
        "        \n",
        "        list_ = []\n",
        "        cha_len = len(s)\n",
        "        score_diff = ''\n",
        "        score_same = 0\n",
        "        compare = ''\n",
        "        num = 0\n",
        "        for _ in range(len(s)//i):\n",
        "            character = s[num:i+num]\n",
        "            list_.append(character)\n",
        "            print('character:', character)\n",
        "            cha_len -= len(character)\n",
        "            num += i\n",
        "            if character == compare:\n",
        "                score_same += 1\n",
        "                if cha_len == 0:\n",
        "                    score_diff += str(score_same)\n",
        "            else:\n",
        "                if score_same != 0:\n",
        "                    score_diff += str(score_same)\n",
        "                    score_same = 0\n",
        "                compare = character\n",
        "                score_diff += character\n",
        "                print('score_diff:', score_diff)\n",
        "        print(list_) \n",
        "        print('score_diff:', score_diff, 'cha_len:', cha_len)\n",
        "        box.append(len(score_diff) + cha_len)\n",
        "        \n",
        "    print(box)\n",
        "        \n",
        "    return min(box)"
      ],
      "metadata": {
        "id": "xFZ0KqDanz-g"
      },
      "execution_count": null,
      "outputs": []
    },
    {
      "cell_type": "code",
      "source": [
        "solution('aaaabbbsbsbsbsbbb')"
      ],
      "metadata": {
        "colab": {
          "base_uri": "https://localhost:8080/"
        },
        "id": "H0jZPT4Mjh2K",
        "outputId": "5df0fe29-3d21-4598-8b23-6d656653d909"
      },
      "execution_count": null,
      "outputs": [
        {
          "output_type": "stream",
          "name": "stdout",
          "text": [
            "len(s): 17\n",
            "몇개씩?: 1\n",
            "character: a\n",
            "score_diff: a\n",
            "character: a\n",
            "character: a\n",
            "character: a\n",
            "character: b\n",
            "score_diff: a3b\n",
            "character: b\n",
            "character: b\n",
            "character: s\n",
            "score_diff: a3b2s\n",
            "character: b\n",
            "score_diff: a3b2sb\n",
            "character: s\n",
            "score_diff: a3b2sbs\n",
            "character: b\n",
            "score_diff: a3b2sbsb\n",
            "character: s\n",
            "score_diff: a3b2sbsbs\n",
            "character: b\n",
            "score_diff: a3b2sbsbsb\n",
            "character: s\n",
            "score_diff: a3b2sbsbsbs\n",
            "character: b\n",
            "score_diff: a3b2sbsbsbsb\n",
            "character: b\n",
            "character: b\n",
            "['a', 'a', 'a', 'a', 'b', 'b', 'b', 's', 'b', 's', 'b', 's', 'b', 's', 'b', 'b', 'b']\n",
            "score_diff: a3b2sbsbsbsb2 cha_len: 0\n",
            "몇개씩?: 2\n",
            "character: aa\n",
            "score_diff: aa\n",
            "character: aa\n",
            "character: bb\n",
            "score_diff: aa1bb\n",
            "character: bs\n",
            "score_diff: aa1bbbs\n",
            "character: bs\n",
            "character: bs\n",
            "character: bs\n",
            "character: bb\n",
            "score_diff: aa1bbbs3bb\n",
            "['aa', 'aa', 'bb', 'bs', 'bs', 'bs', 'bs', 'bb']\n",
            "score_diff: aa1bbbs3bb cha_len: 1\n",
            "몇개씩?: 3\n",
            "character: aaa\n",
            "score_diff: aaa\n",
            "character: abb\n",
            "score_diff: aaaabb\n",
            "character: bsb\n",
            "score_diff: aaaabbbsb\n",
            "character: sbs\n",
            "score_diff: aaaabbbsbsbs\n",
            "character: bsb\n",
            "score_diff: aaaabbbsbsbsbsb\n",
            "['aaa', 'abb', 'bsb', 'sbs', 'bsb']\n",
            "score_diff: aaaabbbsbsbsbsb cha_len: 2\n",
            "몇개씩?: 4\n",
            "character: aaaa\n",
            "score_diff: aaaa\n",
            "character: bbbs\n",
            "score_diff: aaaabbbs\n",
            "character: bsbs\n",
            "score_diff: aaaabbbsbsbs\n",
            "character: bsbb\n",
            "score_diff: aaaabbbsbsbsbsbb\n",
            "['aaaa', 'bbbs', 'bsbs', 'bsbb']\n",
            "score_diff: aaaabbbsbsbsbsbb cha_len: 1\n",
            "몇개씩?: 5\n",
            "character: aaaab\n",
            "score_diff: aaaab\n",
            "character: bbsbs\n",
            "score_diff: aaaabbbsbs\n",
            "character: bsbsb\n",
            "score_diff: aaaabbbsbsbsbsb\n",
            "['aaaab', 'bbsbs', 'bsbsb']\n",
            "score_diff: aaaabbbsbsbsbsb cha_len: 2\n",
            "몇개씩?: 6\n",
            "character: aaaabb\n",
            "score_diff: aaaabb\n",
            "character: bsbsbs\n",
            "score_diff: aaaabbbsbsbs\n",
            "['aaaabb', 'bsbsbs']\n",
            "score_diff: aaaabbbsbsbs cha_len: 5\n",
            "몇개씩?: 7\n",
            "character: aaaabbb\n",
            "score_diff: aaaabbb\n",
            "character: sbsbsbs\n",
            "score_diff: aaaabbbsbsbsbs\n",
            "['aaaabbb', 'sbsbsbs']\n",
            "score_diff: aaaabbbsbsbsbs cha_len: 3\n",
            "몇개씩?: 8\n",
            "character: aaaabbbs\n",
            "score_diff: aaaabbbs\n",
            "character: bsbsbsbb\n",
            "score_diff: aaaabbbsbsbsbsbb\n",
            "['aaaabbbs', 'bsbsbsbb']\n",
            "score_diff: aaaabbbsbsbsbsbb cha_len: 1\n",
            "[13, 11, 17, 17, 17, 17, 17, 17]\n"
          ]
        },
        {
          "output_type": "execute_result",
          "data": {
            "text/plain": [
              "11"
            ]
          },
          "metadata": {},
          "execution_count": 48
        }
      ]
    },
    {
      "cell_type": "code",
      "source": [
        "def solution(s):\n",
        "    \n",
        "    print('len(s):', len(s))\n",
        "    \n",
        "    if len(s) == 1:\n",
        "        return 1\n",
        "\n",
        "    box = []\n",
        "    for i in range(1, len(s)//2+1):\n",
        "        print('몇개씩?:', i)\n",
        "        # print('len(s)//i:',len(s)//i)\n",
        "        \n",
        "        cha_len = len(s)\n",
        "        score_diff = ''\n",
        "        score_same = 0\n",
        "        compare = ''\n",
        "        num = 0\n",
        "        for _ in range(len(s)//i):\n",
        "            character = s[num:i+num]\n",
        "            print('character:', character)\n",
        "            cha_len -= len(character)\n",
        "            num += i\n",
        "            if character == compare:\n",
        "                score_same += 1\n",
        "                if cha_len == 0:\n",
        "                    score_diff += str(score_same)\n",
        "            else:\n",
        "                if score_same != 0:\n",
        "                    score_diff += str(score_same)\n",
        "                    score_same = 0\n",
        "                compare = character\n",
        "                score_diff += character\n",
        "                print('score_diff:', score_diff)\n",
        "                    \n",
        "        print('score_diff:', score_diff, 'cha_len:', cha_len)\n",
        "        box.append(len(score_diff) + cha_len)\n",
        "        \n",
        "    print(box)\n",
        "        \n",
        "    return min(box)"
      ],
      "metadata": {
        "id": "9aIGmnoAXRUP"
      },
      "execution_count": null,
      "outputs": []
    },
    {
      "cell_type": "code",
      "source": [
        "solution('aaaabbbsbsbsbsbbb')"
      ],
      "metadata": {
        "colab": {
          "base_uri": "https://localhost:8080/"
        },
        "id": "ycK0brbqn5M8",
        "outputId": "e9a2ab95-93b9-41ef-ce8b-a77c2d628471"
      },
      "execution_count": null,
      "outputs": [
        {
          "output_type": "stream",
          "name": "stdout",
          "text": [
            "len(s): 17\n",
            "몇개씩?: 1\n",
            "character: a\n",
            "score_diff: a\n",
            "character: a\n",
            "character: a\n",
            "character: a\n",
            "character: b\n",
            "score_diff: a3b\n",
            "character: b\n",
            "character: b\n",
            "character: s\n",
            "score_diff: a3b2s\n",
            "character: b\n",
            "score_diff: a3b2sb\n",
            "character: s\n",
            "score_diff: a3b2sbs\n",
            "character: b\n",
            "score_diff: a3b2sbsb\n",
            "character: s\n",
            "score_diff: a3b2sbsbs\n",
            "character: b\n",
            "score_diff: a3b2sbsbsb\n",
            "character: s\n",
            "score_diff: a3b2sbsbsbs\n",
            "character: b\n",
            "score_diff: a3b2sbsbsbsb\n",
            "character: b\n",
            "character: b\n",
            "score_diff: a3b2sbsbsbsb2 cha_len: 0\n",
            "몇개씩?: 2\n",
            "character: aa\n",
            "score_diff: aa\n",
            "character: aa\n",
            "character: bb\n",
            "score_diff: aa1bb\n",
            "character: bs\n",
            "score_diff: aa1bbbs\n",
            "character: bs\n",
            "character: bs\n",
            "character: bs\n",
            "character: bb\n",
            "score_diff: aa1bbbs3bb\n",
            "score_diff: aa1bbbs3bb cha_len: 1\n",
            "몇개씩?: 3\n",
            "character: aaa\n",
            "score_diff: aaa\n",
            "character: abb\n",
            "score_diff: aaaabb\n",
            "character: bsb\n",
            "score_diff: aaaabbbsb\n",
            "character: sbs\n",
            "score_diff: aaaabbbsbsbs\n",
            "character: bsb\n",
            "score_diff: aaaabbbsbsbsbsb\n",
            "score_diff: aaaabbbsbsbsbsb cha_len: 2\n",
            "몇개씩?: 4\n",
            "character: aaaa\n",
            "score_diff: aaaa\n",
            "character: bbbs\n",
            "score_diff: aaaabbbs\n",
            "character: bsbs\n",
            "score_diff: aaaabbbsbsbs\n",
            "character: bsbb\n",
            "score_diff: aaaabbbsbsbsbsbb\n",
            "score_diff: aaaabbbsbsbsbsbb cha_len: 1\n",
            "몇개씩?: 5\n",
            "character: aaaab\n",
            "score_diff: aaaab\n",
            "character: bbsbs\n",
            "score_diff: aaaabbbsbs\n",
            "character: bsbsb\n",
            "score_diff: aaaabbbsbsbsbsb\n",
            "score_diff: aaaabbbsbsbsbsb cha_len: 2\n",
            "몇개씩?: 6\n",
            "character: aaaabb\n",
            "score_diff: aaaabb\n",
            "character: bsbsbs\n",
            "score_diff: aaaabbbsbsbs\n",
            "score_diff: aaaabbbsbsbs cha_len: 5\n",
            "몇개씩?: 7\n",
            "character: aaaabbb\n",
            "score_diff: aaaabbb\n",
            "character: sbsbsbs\n",
            "score_diff: aaaabbbsbsbsbs\n",
            "score_diff: aaaabbbsbsbsbs cha_len: 3\n",
            "몇개씩?: 8\n",
            "character: aaaabbbs\n",
            "score_diff: aaaabbbs\n",
            "character: bsbsbsbb\n",
            "score_diff: aaaabbbsbsbsbsbb\n",
            "score_diff: aaaabbbsbsbsbsbb cha_len: 1\n",
            "[13, 11, 17, 17, 17, 17, 17, 17]\n"
          ]
        },
        {
          "output_type": "execute_result",
          "data": {
            "text/plain": [
              "11"
            ]
          },
          "metadata": {},
          "execution_count": 52
        }
      ]
    },
    {
      "cell_type": "markdown",
      "source": [
        "### 다른 코드들"
      ],
      "metadata": {
        "id": "aC9R3XPGJzrN"
      }
    },
    {
      "cell_type": "code",
      "source": [
        "def solution(s):\n",
        "    length = []\n",
        "    result = \"\"\n",
        "    \n",
        "    if len(s) == 1:\n",
        "        return 1\n",
        "    \n",
        "    for cut in range(1, len(s) // 2 + 1): \n",
        "        count = 1\n",
        "        tempStr = s[:cut] \n",
        "        for i in range(cut, len(s), cut):\n",
        "            if s[i:i+cut] == tempStr:\n",
        "                count += 1\n",
        "            else:\n",
        "                if count == 1:\n",
        "                    count = \"\"\n",
        "                result += str(count) + tempStr\n",
        "                tempStr = s[i:i+cut]\n",
        "                count = 1\n",
        "\n",
        "        if count == 1:\n",
        "            count = \"\"\n",
        "        result += str(count) + tempStr\n",
        "        length.append(len(result))\n",
        "        result = \"\"\n",
        "    \n",
        "    return min(length)\n",
        "\n",
        "\n",
        "\n",
        "'''\n",
        "def compress(text, tok_len):\n",
        "    words = [text[i:i+tok_len] for i in range(0, len(text), tok_len)]\n",
        "    res = []\n",
        "    cur_word = words[0]\n",
        "    cur_cnt = 1\n",
        "    for a, b in zip(words, words[1:] + ['']):\n",
        "        if a == b:\n",
        "            cur_cnt += 1\n",
        "        else:\n",
        "            res.append([cur_word, cur_cnt])\n",
        "            cur_word = b\n",
        "            cur_cnt = 1\n",
        "    return sum(len(word) + (len(str(cnt)) if cnt > 1 else 0) for word, cnt in res)\n",
        "\n",
        "def solution(text):\n",
        "    return min(compress(text, tok_len) for tok_len in list(range(1, int(len(text)/2) + 1)) + [len(text)])\n",
        "\n",
        "a = [\n",
        "    \"aabbaccc\",\n",
        "    \"ababcdcdababcdcd\",\n",
        "    \"abcabcdede\",\n",
        "    \"abcabcabcabcdededededede\",\n",
        "    \"xababcdcdababcdcd\",\n",
        "\n",
        "    'aaaaaa',\n",
        "]\n",
        "\n",
        "for x in a:\n",
        "    print(solution(x))\n",
        "'''"
      ],
      "metadata": {
        "id": "PAE3JqCnq9rJ"
      },
      "execution_count": null,
      "outputs": []
    },
    {
      "cell_type": "markdown",
      "source": [
        "## 2.오픈채팅방\n",
        "\n",
        "- https://programmers.co.kr/learn/courses/30/lessons/42888"
      ],
      "metadata": {
        "id": "eEnb9qjIQp0T"
      }
    },
    {
      "cell_type": "markdown",
      "source": [
        "### 내 풀이"
      ],
      "metadata": {
        "id": "rqVgZcbcetLz"
      }
    },
    {
      "cell_type": "code",
      "source": [
        "def solution(record):\n",
        "    \n",
        "    box = []\n",
        "    \n",
        "    dic_message = {'Enter':'님이 들어왔습니다.',\n",
        "                   'Leave':'님이 나갔습니다.'}\n",
        "    dic_id = {}\n",
        "    \n",
        "    for i in record:\n",
        "        if len(i.split()) == 3:\n",
        "            dic_id[i.split()[1]] = i.split()[2]\n",
        "\n",
        "    print(dic_id)\n",
        "\n",
        "    for i in record:\n",
        "        if i.split()[0] != 'Change':\n",
        "            sentence = dic_id[i.split()[1]]+dic_message[i.split()[0]]\n",
        "            print(sentence)\n",
        "            box.append(sentence)\n",
        "    print(box)\n",
        "    \n",
        "    return box"
      ],
      "metadata": {
        "id": "GZ1qRHhcq9ob"
      },
      "execution_count": null,
      "outputs": []
    },
    {
      "cell_type": "code",
      "source": [
        "solution([\"Enter uid1234 Muzi\", \"Enter uid4567 Prodo\",\"Leave uid1234\",\"Enter uid1234 Prodo\",\"Change uid4567 Ryan\"])"
      ],
      "metadata": {
        "colab": {
          "base_uri": "https://localhost:8080/"
        },
        "id": "cziJIEVQq9l_",
        "outputId": "7066e185-6a74-4947-bd78-77d88668fc20"
      },
      "execution_count": null,
      "outputs": [
        {
          "output_type": "stream",
          "name": "stdout",
          "text": [
            "{'uid1234': 'Prodo', 'uid4567': 'Ryan'}\n",
            "Prodo님이 들어왔습니다.\n",
            "Ryan님이 들어왔습니다.\n",
            "Prodo님이 나갔습니다.\n",
            "Prodo님이 들어왔습니다.\n",
            "['Prodo님이 들어왔습니다.', 'Ryan님이 들어왔습니다.', 'Prodo님이 나갔습니다.', 'Prodo님이 들어왔습니다.']\n"
          ]
        },
        {
          "output_type": "execute_result",
          "data": {
            "text/plain": [
              "['Prodo님이 들어왔습니다.', 'Ryan님이 들어왔습니다.', 'Prodo님이 나갔습니다.', 'Prodo님이 들어왔습니다.']"
            ]
          },
          "metadata": {},
          "execution_count": 186
        }
      ]
    },
    {
      "cell_type": "code",
      "source": [
        "def solution(record):\n",
        "    \n",
        "    box = []\n",
        "    \n",
        "    dic_message = {'Enter':'님이 들어왔습니다.',\n",
        "                   'Leave':'님이 나갔습니다.'}\n",
        "    dic_id = {}\n",
        "    \n",
        "    for i in record:\n",
        "        if len(i.split()) == 3:\n",
        "            dic_id[i.split()[1]] = i.split()[2]\n",
        "\n",
        "    # print(dic_id)\n",
        "\n",
        "    for i in record:\n",
        "        if i.split()[0] != 'Change':\n",
        "            sentence = dic_id[i.split()[1]]+dic_message[i.split()[0]]\n",
        "            # print(sentence)\n",
        "            box.append(sentence)\n",
        "    # print(box)\n",
        "    \n",
        "    return box"
      ],
      "metadata": {
        "id": "G_knS91fq9jD"
      },
      "execution_count": null,
      "outputs": []
    },
    {
      "cell_type": "markdown",
      "source": [
        "## 3.멀쩡한 사각형\n",
        "\n",
        "- https://programmers.co.kr/learn/courses/30/lessons/62048"
      ],
      "metadata": {
        "id": "6trf-mzjeu35"
      }
    },
    {
      "cell_type": "markdown",
      "source": [
        "### 정답 풀이\n",
        "\n",
        "- https://leedakyeong.tistory.com/entry/%ED%94%84%EB%A1%9C%EA%B7%B8%EB%9E%98%EB%A8%B8%EC%8A%A4-%EB%A9%80%EC%A9%A1%ED%95%9C-%EC%82%AC%EA%B0%81%ED%98%95-in-python"
      ],
      "metadata": {
        "id": "ktKezXbqXMiG"
      }
    },
    {
      "cell_type": "code",
      "source": [
        "def gcd(a,b): return b if (a==0) else gcd(b%a,a)    \n",
        "def solution(w,h): return w*h-w-h+gcd(w,h)"
      ],
      "metadata": {
        "id": "ZJwrIMf7XMOX"
      },
      "execution_count": null,
      "outputs": []
    },
    {
      "cell_type": "code",
      "source": [
        "# 유클리스 호제법\n",
        "\n",
        "def gcd(a,b):\n",
        "  if (a==0):\n",
        "    print('답',b)\n",
        "  else:\n",
        "    gcd(b%a,a)\n",
        "    print(b%a,a)"
      ],
      "metadata": {
        "id": "AElQvxMRemIj"
      },
      "execution_count": null,
      "outputs": []
    },
    {
      "cell_type": "code",
      "source": [
        "gcd(60,48)"
      ],
      "metadata": {
        "id": "91H5yfL_emGQ"
      },
      "execution_count": null,
      "outputs": []
    },
    {
      "cell_type": "code",
      "source": [
        "def gcd(a,b):\n",
        "  if a==0:\n",
        "    return b\n",
        "  else:\n",
        "    gcd(b%a, a)"
      ],
      "metadata": {
        "id": "GXEARCoeemBT"
      },
      "execution_count": null,
      "outputs": []
    },
    {
      "cell_type": "markdown",
      "source": [
        "## 4.124 나라의 숫자\n",
        "\n",
        "- https://programmers.co.kr/learn/courses/30/lessons/12899"
      ],
      "metadata": {
        "id": "X-pFmCyiaJIH"
      }
    },
    {
      "cell_type": "code",
      "source": [
        "def solution(n):\n",
        "    num = '124'\n",
        "    answer = \"\"\n",
        "\n",
        "\n",
        "    while n > 0:\n",
        "        n -= 1\n",
        "        answer = num[n % 3] + answer\n",
        "        n //= 3\n",
        "\n",
        "    return answer"
      ],
      "metadata": {
        "id": "NJmmGZx_dLqm"
      },
      "execution_count": null,
      "outputs": []
    },
    {
      "cell_type": "code",
      "source": [
        "def solution(n):\n",
        "    num = '124'\n",
        "    answer = \"\"\n",
        "\n",
        "    while n > 0:\n",
        "        print(n)\n",
        "        n -= 1\n",
        "        print(n)\n",
        "        answer = num[n % 3] + answer # 앞에다가 붙일 수 있음\n",
        "        print(answer)\n",
        "        n //= 3\n",
        "        print(n)\n",
        "        print()\n",
        "\n",
        "    return answer"
      ],
      "metadata": {
        "id": "J3KMOoP6WdsH"
      },
      "execution_count": null,
      "outputs": []
    },
    {
      "cell_type": "code",
      "source": [
        "solution(5)"
      ],
      "metadata": {
        "id": "hbQSa7ZkWdp4",
        "outputId": "7b8f1fff-28b7-48ee-8d08-140e91be86d7",
        "colab": {
          "base_uri": "https://localhost:8080/",
          "height": 218
        }
      },
      "execution_count": null,
      "outputs": [
        {
          "output_type": "stream",
          "name": "stdout",
          "text": [
            "5\n",
            "4\n",
            "2\n",
            "1\n",
            "\n",
            "1\n",
            "0\n",
            "12\n",
            "0\n",
            "\n"
          ]
        },
        {
          "output_type": "execute_result",
          "data": {
            "application/vnd.google.colaboratory.intrinsic+json": {
              "type": "string"
            },
            "text/plain": [
              "'12'"
            ]
          },
          "metadata": {},
          "execution_count": 23
        }
      ]
    },
    {
      "cell_type": "code",
      "source": [
        "3 % 3"
      ],
      "metadata": {
        "id": "ynxDUwyVWdnO",
        "outputId": "e9beffe1-5978-4ff8-aad3-3e40ffc0d023",
        "colab": {
          "base_uri": "https://localhost:8080/"
        }
      },
      "execution_count": null,
      "outputs": [
        {
          "output_type": "execute_result",
          "data": {
            "text/plain": [
              "0"
            ]
          },
          "metadata": {},
          "execution_count": 20
        }
      ]
    },
    {
      "cell_type": "markdown",
      "source": [
        "## 5.기능개발\n",
        "\n",
        "- https://programmers.co.kr/learn/courses/30/lessons/42586"
      ],
      "metadata": {
        "id": "TEhAeX3ydM_V"
      }
    },
    {
      "cell_type": "markdown",
      "source": [
        "### 내 정답"
      ],
      "metadata": {
        "id": "ZLLNQJlloVaO"
      }
    },
    {
      "cell_type": "code",
      "source": [
        "def solution(progresses, speeds):\n",
        "    \n",
        "    box = []\n",
        "    for p,s in zip(progresses, speeds):\n",
        "        days = (100-p)//s if (100-p)%s == 0 else (100-p)//s+1\n",
        "\n",
        "        if len(box) == 0 or box[-1][0] < days:\n",
        "            box.append([days, 1])\n",
        "        else:\n",
        "            box[-1][1] += 1\n",
        "    # print(box)\n",
        "\n",
        "    return [i[1] for i in box]"
      ],
      "metadata": {
        "id": "ULVRYz4TWdUf"
      },
      "execution_count": null,
      "outputs": []
    },
    {
      "cell_type": "markdown",
      "source": [
        "### 다른 풀이"
      ],
      "metadata": {
        "id": "Li-7IiXloXHv"
      }
    },
    {
      "cell_type": "code",
      "source": [
        "def solution(progresses, speeds):\n",
        "\n",
        "    answer = []\n",
        "    time = 0\n",
        "    count = 0\n",
        "    \n",
        "    while len(progresses)> 0:\n",
        "        if (progresses[0] + time*speeds[0]) >= 100: \n",
        "            progresses.pop(0)\n",
        "            speeds.pop(0)\n",
        "            count += 1\n",
        "            \n",
        "        else:\n",
        "            if count > 0:\n",
        "                answer.append(count)\n",
        "                count = 0\n",
        "            time += 1\n",
        "    answer.append(count)\n",
        "    return answer\n",
        "\n",
        "\n",
        "'''\n",
        "def solution(progresses, speeds):\n",
        "    Q=[]\n",
        "    for p, s in zip(progresses, speeds):\n",
        "        if len(Q)==0 or Q[-1][0]<-((p-100)//s):\n",
        "            Q.append([-((p-100)//s),1])\n",
        "        else:\n",
        "            Q[-1][1]+=1\n",
        "    return [q[1] for q in Q]\n",
        "'''"
      ],
      "metadata": {
        "id": "CC2bqGr1WdRw"
      },
      "execution_count": null,
      "outputs": []
    },
    {
      "cell_type": "markdown",
      "source": [
        "## 6.더 맵게\n",
        "\n",
        "- https://programmers.co.kr/learn/courses/30/lessons/42626"
      ],
      "metadata": {
        "id": "si9XJ0g_ooLO"
      }
    },
    {
      "cell_type": "code",
      "source": [
        "'''\n",
        "힙큐\n",
        "\n",
        "https://www.daleseo.com/python-heapq/\n",
        "'''\n",
        "\n",
        "\n",
        "import heapq\n",
        "\n",
        "def solution(scoville, k):\n",
        "    heapq.heapify(scoville)\n",
        "    i = 0\n",
        "    while scoville[0] < k:\n",
        "        if len(scoville) > 1:\n",
        "            heapq.heappush(scoville, heapq.heappop(scoville) + (heapq.heappop(scoville) * 2))\n",
        "            i += 1\n",
        "        else:\n",
        "            return -1\n",
        "    return i\n",
        "\n",
        "'''\n",
        "import heapq as hq\n",
        "\n",
        "def solution(scoville, K):\n",
        "\n",
        "    hq.heapify(scoville)\n",
        "    answer = 0\n",
        "    while True:\n",
        "        first = hq.heappop(scoville)\n",
        "        if first >= K:\n",
        "            break\n",
        "        if len(scoville) == 0:\n",
        "            return -1\n",
        "        second = hq.heappop(scoville)\n",
        "        hq.heappush(scoville, first + second*2)\n",
        "        answer += 1  \n",
        "\n",
        "    return answer\n",
        "'''"
      ],
      "metadata": {
        "id": "WbdH7PFZWdPP"
      },
      "execution_count": null,
      "outputs": []
    },
    {
      "cell_type": "markdown",
      "source": [
        "## 7.타겟 넘버\n",
        "\n",
        "- https://programmers.co.kr/learn/courses/30/lessons/43165"
      ],
      "metadata": {
        "id": "MwuCjfW-Glvb"
      }
    },
    {
      "cell_type": "code",
      "source": [
        "from itertools import product\n",
        "def solution(numbers, target):\n",
        "    l = [(x, -x) for x in numbers]\n",
        "    s = list(map(sum, product(*l)))\n",
        "    return s.count(target)\n",
        "\n",
        "\n",
        "'''\n",
        "def solution(numbers, target):\n",
        "    if not numbers and target == 0 :\n",
        "        return 1\n",
        "    elif not numbers:\n",
        "        return 0\n",
        "    else:\n",
        "        return solution(numbers[1:], target-numbers[0]) + solution(numbers[1:], target+numbers[0])\n",
        "'''"
      ],
      "metadata": {
        "id": "Tbg0tUsWWdMi",
        "outputId": "427a7fce-b96e-4f15-bd2a-f0d7056a8d54",
        "colab": {
          "base_uri": "https://localhost:8080/",
          "height": 72
        }
      },
      "execution_count": null,
      "outputs": [
        {
          "output_type": "execute_result",
          "data": {
            "application/vnd.google.colaboratory.intrinsic+json": {
              "type": "string"
            },
            "text/plain": [
              "'\\ndef solution(numbers, target):\\n    if not numbers and target == 0 :\\n        return 1\\n    elif not numbers:\\n        return 0\\n    else:\\n        return solution(numbers[1:], target-numbers[0]) + solution(numbers[1:], target+numbers[0])\\n'"
            ]
          },
          "metadata": {},
          "execution_count": 32
        }
      ]
    },
    {
      "cell_type": "code",
      "source": [
        "from itertools import product\n",
        "\n",
        "def solution(numbers, target):\n",
        "    l = [(x, -x) for x in numbers]\n",
        "    print(l)\n",
        "    print(len(list(product(*l))))\n",
        "    s = list(map(sum, product(*l)))\n",
        "    print(s)\n",
        "    return s.count(target)"
      ],
      "metadata": {
        "id": "FuvmKbQNWdJ_"
      },
      "execution_count": null,
      "outputs": []
    },
    {
      "cell_type": "markdown",
      "source": [
        "## 8.짝지어 제거하기\n",
        "\n",
        "- https://programmers.co.kr/learn/courses/30/lessons/12973"
      ],
      "metadata": {
        "id": "BLcokBO1O-iW"
      }
    },
    {
      "cell_type": "markdown",
      "source": [
        "### 오답"
      ],
      "metadata": {
        "id": "wHt1rBJRaYXD"
      }
    },
    {
      "cell_type": "code",
      "source": [
        "'''\n",
        "list 에서 value 값으로 다중 index 찾기\n",
        "\n",
        "https://bill1224.tistory.com/228\n",
        "'''\n",
        "\n",
        "def solution(s):\n",
        "    \n",
        "    set_s = set(s)\n",
        "    \n",
        "    for i in set_s:\n",
        "        same_index = list(filter(lambda x: s[x]==i, range(len(s))))\n",
        "        print(same_index)\n",
        "        if \n",
        "    \n",
        "    \n",
        "    answer = -1\n",
        "\n",
        "    # [실행] 버튼을 누르면 출력 값을 볼 수 있습니다.\n",
        "    print('Hello Python')\n",
        "\n",
        "    return answer"
      ],
      "metadata": {
        "id": "xrV0lHJZWdHP"
      },
      "execution_count": null,
      "outputs": []
    },
    {
      "cell_type": "markdown",
      "source": [
        "### 정답"
      ],
      "metadata": {
        "id": "r4kv-BwkaZrk"
      }
    },
    {
      "cell_type": "code",
      "source": [
        "def solution(s): \n",
        "    stack = []\n",
        "    for i in s:\n",
        "        if len(stack) == 0: stack.append(i)\n",
        "        elif stack[-1] == i: stack.pop()\n",
        "        else: stack.append(i)\n",
        "    if len(stack) == 0: return 1\n",
        "    else: return 0 \n",
        "    \n",
        "    \n",
        "'''\n",
        "def solution(s):\n",
        "    answer = []\n",
        "    for i in s:\n",
        "        if not(answer):\n",
        "            answer.append(i)\n",
        "        else:\n",
        "            if(answer[-1] == i):\n",
        "                answer.pop()\n",
        "            else:\n",
        "                answer.append(i)    \n",
        "    return not(answer)\n",
        "'''"
      ],
      "metadata": {
        "id": "6t2bf_blWdEk"
      },
      "execution_count": null,
      "outputs": []
    },
    {
      "cell_type": "markdown",
      "source": [
        "## 9.행렬 테두리 회전하기\n",
        "\n",
        "- https://programmers.co.kr/learn/courses/30/lessons/77485"
      ],
      "metadata": {
        "id": "bgPS5VVXaa2d"
      }
    },
    {
      "cell_type": "code",
      "source": [
        "def solution(rows, columns, queries):\n",
        "    answer = []\n",
        "    board = [list(range(r * columns +1,r * columns + columns +1)) for r in range(rows)]\n",
        "    \n",
        "    for x1, y1, x2, y2 in queries:\n",
        "        temp = board[x1-1][y2-1]\n",
        "        print('temp: ', temp)\n",
        "        min_value = 10001 # 제한사항에 따라서 rows*columns의 최고 값은 100*100=10000이다.\n",
        "        \n",
        "        # 북쪽 테두리\n",
        "        min_value = min(min(board[x1-1][y1-1:y2-1]), min_value)\n",
        "        board[x1-1][y1:y2] = board[x1-1][y1-1:y2-1]\n",
        "        \n",
        "        # 서쪽 테두리\n",
        "        for i in range(x1, x2):\n",
        "            min_value = min(board[i][y1-1], min_value)\n",
        "            board[i-1][y1-1] = board[i][y1-1]\n",
        "        \n",
        "        # 남쪽 테두리\n",
        "        min_value = min(min(board[x2-1][y1:y2]), min_value)\n",
        "        board[x2-1][y1-1:y2-1] = board[x2-1][y1:y2]\n",
        "        \n",
        "        # 동쪽 테두리\n",
        "        for i in range(x2-2, x1-2, -1):\n",
        "            min_value = min(board[i][y2-1], min_value)\n",
        "            board[i+1][y2-1] = board[i][y2-1]\n",
        "        \n",
        "        board[x1][y2-1] = temp\n",
        "        min_value = min(min_value, temp)\n",
        "        \n",
        "        answer.append(min_value)\n",
        "    \n",
        "    return answer\n",
        "\n",
        "\n",
        "'''\n",
        "def solution(rows, columns, queries):\n",
        "    answer = []\n",
        "\n",
        "    board = [[i+(j)*columns for i in range(1,columns+1)] for j in range(rows)]\n",
        "    # print(board)\n",
        "\n",
        "    for a,b,c,d in queries:\n",
        "        stack = []\n",
        "        r1, c1, r2, c2 = a-1, b-1, c-1, d-1\n",
        "\n",
        "\n",
        "        for i in range(c1, c2+1):\n",
        "\n",
        "            stack.append(board[r1][i])\n",
        "            if len(stack) == 1:\n",
        "                continue\n",
        "            else:\n",
        "                board[r1][i] = stack[-2]\n",
        "\n",
        "\n",
        "        for j in range(r1+1, r2+1):\n",
        "            stack.append(board[j][i])\n",
        "            board[j][i] = stack[-2]\n",
        "\n",
        "        for k in range(c2-1, c1-1, -1):\n",
        "            stack.append(board[j][k])\n",
        "            board[j][k] = stack[-2]\n",
        "\n",
        "        for l in range(r2-1, r1-1, -1):\n",
        "            stack.append(board[l][k])\n",
        "            board[l][k] = stack[-2]\n",
        "\n",
        "        answer.append(min(stack))\n",
        "\n",
        "\n",
        "    return answer\n",
        "'''"
      ],
      "metadata": {
        "id": "U87d8exrh8zd"
      },
      "execution_count": null,
      "outputs": []
    },
    {
      "cell_type": "code",
      "source": [
        "list(range(1,5))"
      ],
      "metadata": {
        "id": "B9MnIew1WdCE",
        "outputId": "cbc77fcd-1781-42a3-bb0d-8ead8b14cc72",
        "colab": {
          "base_uri": "https://localhost:8080/"
        }
      },
      "execution_count": null,
      "outputs": [
        {
          "output_type": "execute_result",
          "data": {
            "text/plain": [
              "[1, 2, 3, 4]"
            ]
          },
          "metadata": {},
          "execution_count": 1
        }
      ]
    },
    {
      "cell_type": "code",
      "source": [
        "matrix = [list(range(r * columns +1,r * columns + columns +1))for r in range(rows)]"
      ],
      "metadata": {
        "id": "xxi44NHfWc_s"
      },
      "execution_count": null,
      "outputs": []
    },
    {
      "cell_type": "code",
      "source": [
        "matrix = [list(range(row*columns+1, row*columns+columns+1)) for row in range(rows)]"
      ],
      "metadata": {
        "id": "cNNKPx_fWc9K"
      },
      "execution_count": null,
      "outputs": []
    },
    {
      "cell_type": "markdown",
      "source": [
        "## 10.메뉴 리뉴얼\n",
        "\n",
        "- https://programmers.co.kr/learn/courses/30/lessons/72411"
      ],
      "metadata": {
        "id": "Q1kvLO4qiLG0"
      }
    },
    {
      "cell_type": "code",
      "source": [
        "'''\n",
        "문자열 sorted()\n",
        "\n",
        "https://otugi.tistory.com/268\n",
        "'''\n",
        "\n",
        "\n",
        "from itertools import combinations as cb\n",
        "from collections import Counter\n",
        "\n",
        "def solution(orders, course):\n",
        "    \n",
        "    answer = []\n",
        "    for c in course:\n",
        "        temp = []\n",
        "        for o in orders:\n",
        "            print(sorted(o))\n",
        "            combi = cb(sorted(o), c) # sorted 안하면 오답\n",
        "            temp += combi\n",
        "        count = Counter(temp) # 딕셔너리다.\n",
        "        print(count)\n",
        "        if len(count) != 0 and max(count.values()) != 1:\n",
        "            answer += [''.join(f) for f in count if count[f] == max(count.values())] # 딕셔너리 for문 돌리면 키만 나온다.\n",
        "            # print(answer)\n",
        "\n",
        "    return sorted(answer)"
      ],
      "metadata": {
        "id": "Tz5kVbLH76hL"
      },
      "execution_count": null,
      "outputs": []
    },
    {
      "cell_type": "code",
      "source": [
        "테스트 3\n",
        "입력값 〉\t[\"XYZ\", \"XWY\", \"WXA\"], [2, 3, 4]\n",
        "기댓값 〉\t[\"WX\", \"XY\"]\n",
        "실행 결과 〉\t실행한 결괏값 [\"XY\"]이(가) 기댓값 [\"WX\",\"XY\"]와(과) 다릅니다.\n",
        "출력 〉\tXYZ\n",
        "XWY\n",
        "WXA\n",
        "Counter({('X', 'Y'): 2, ('X', 'Z'): 1, ('Y', 'Z'): 1, ('X', 'W'): 1, ('W', 'Y'): 1, ('W', 'X'): 1, ('W', 'A'): 1, ('X', 'A'): 1})\n",
        "XYZ\n",
        "XWY\n",
        "WXA\n",
        "Counter({('X', 'Y', 'Z'): 1, ('X', 'W', 'Y'): 1, ('W', 'X', 'A'): 1})\n",
        "XYZ\n",
        "XWY\n",
        "WXA\n",
        "Counter()"
      ],
      "metadata": {
        "id": "kkPlJp41Wc6W"
      },
      "execution_count": null,
      "outputs": []
    },
    {
      "cell_type": "code",
      "source": [
        "테스트 3\n",
        "입력값 〉\t[\"XYZ\", \"XWY\", \"WXA\"], [2, 3, 4]\n",
        "기댓값 〉\t[\"WX\", \"XY\"]\n",
        "실행 결과 〉\t테스트를 통과하였습니다.\n",
        "출력 〉\t['X', 'Y', 'Z']\n",
        "['W', 'X', 'Y']\n",
        "['A', 'W', 'X']\n",
        "Counter({('X', 'Y'): 2, ('W', 'X'): 2, ('X', 'Z'): 1, ('Y', 'Z'): 1, ('W', 'Y'): 1, ('A', 'W'): 1, ('A', 'X'): 1})\n",
        "['X', 'Y', 'Z']\n",
        "['W', 'X', 'Y']\n",
        "['A', 'W', 'X']\n",
        "Counter({('X', 'Y', 'Z'): 1, ('W', 'X', 'Y'): 1, ('A', 'W', 'X'): 1})\n",
        "['X', 'Y', 'Z']\n",
        "['W', 'X', 'Y']\n",
        "['A', 'W', 'X']\n",
        "Counter()"
      ],
      "metadata": {
        "id": "JImEDWWJWczH"
      },
      "execution_count": null,
      "outputs": []
    },
    {
      "cell_type": "code",
      "source": [
        "a = \"ABCFG\"\n",
        "sorted(a)"
      ],
      "metadata": {
        "id": "jYleirTUizoN",
        "outputId": "a2054466-72f8-4494-b285-418401f69dfe",
        "colab": {
          "base_uri": "https://localhost:8080/"
        }
      },
      "execution_count": null,
      "outputs": [
        {
          "output_type": "execute_result",
          "data": {
            "text/plain": [
              "['A', 'B', 'C', 'F', 'G']"
            ]
          },
          "metadata": {},
          "execution_count": 41
        }
      ]
    },
    {
      "cell_type": "markdown",
      "source": [
        "## 11.괄호 변환\n",
        "\n",
        "- https://programmers.co.kr/learn/courses/30/lessons/60058"
      ],
      "metadata": {
        "id": "3ycjlKCh8U5s"
      }
    },
    {
      "cell_type": "code",
      "source": [
        "# if \"균형잡힌 괄호 문자열\", then return True\n",
        "def isBanlancedString(str):\n",
        "    return str.count('(') == str.count(')')\n",
        "\n",
        "# if \"올바른 괄호 문자열\", then return True\n",
        "def isCorrectString(str):\n",
        "    count = 0\n",
        "    for s in str:\n",
        "        if s == '(':\n",
        "            count += 1\n",
        "        else: # ')'\n",
        "            count -= 1\n",
        "        if count < 0:\n",
        "            return False\n",
        "    return count == 0\n",
        "\n",
        "def process(str):\n",
        "    # 1. 입력이 빈 문자열인 경우, 빈 문자열을 반환합니다.\n",
        "    if str == \"\":\n",
        "        return \"\"\n",
        "    # 2. 문자열 w를 두 \"균형잡힌 괄호 문자열\" u, v로 분리합니다. 단, u는 \"균형잡힌 괄호 문자열\"로 더 이상 분리할 수 없어야 하며, v는 빈 문자열이 될 수 있습니다.\n",
        "    u, v = splitUV(str)\n",
        "    print(u, v)\n",
        "    # 3. 문자열 u가 \"올바른 괄호 문자열\" 이라면 문자열 v에 대해 1단계부터 다시 수행합니다.\n",
        "    #   3-1. 수행한 결과 문자열을 u에 이어 붙인 후 반환합니다.\n",
        "    if isCorrectString(u):\n",
        "        u += process(v)\n",
        "        return u\n",
        "    else: # 4. 문자열 u가 \"올바른 괄호 문자열\"이 아니라면 아래 과정을 수행합니다.\n",
        "    #   4-1. 빈 문자열에 첫 번째 문자로 '('를 붙입니다.\n",
        "        newStr = \"(\"\n",
        "    #   4-2. 문자열 v에 대해 1단계부터 재귀적으로 수행한 결과 문자열을 이어 붙입니다.\n",
        "        newStr += process(v)\n",
        "    #   4-3. ')'를 다시 붙입니다.\n",
        "        newStr += \")\"\n",
        "    #   4-4. u의 첫 번째와 마지막 문자를 제거하고, 나머지 문자열의 괄호 방향을 뒤집어서 뒤에 붙입니다.\n",
        "        if len(u) > 0:\n",
        "            newStr += reverseStr(u[1:-1])\n",
        "    #   4-5. 생성된 문자열을 반환합니다.\n",
        "        return newStr\n",
        "\n",
        "def reverseStr(str):\n",
        "    ans = \"\"\n",
        "    for s in str:\n",
        "        if s == \"(\":\n",
        "            ans += \")\"\n",
        "        else:\n",
        "            ans += \"(\"\n",
        "    return ans\n",
        "\n",
        "# 2. 문자열 w를 두 \"균형잡힌 괄호 문자열\" u, v로 분리합니다. 단, u는 \"균형잡힌 괄호 문자열\"로 더 이상 분리할 수 없어야 하며, v는 빈 문자열이 될 수 있습니다.\n",
        "def splitUV(str):\n",
        "    u, v = str, \"\"\n",
        "    for i in range(2, len(str), 2):\n",
        "        if isBanlancedString(str[:i]):\n",
        "            u = str[:i]\n",
        "            v = str[i:]\n",
        "            break\n",
        "    return u, v\n",
        "\n",
        "def solution(p):\n",
        "    p = p.strip()\n",
        "\n",
        "    if isCorrectString(p): # 이미 올바른 괄호 문자열이라면 그대로 return\n",
        "        return p\n",
        "\n",
        "    return process(p)"
      ],
      "metadata": {
        "id": "6xUBWCUsTcQz"
      },
      "execution_count": null,
      "outputs": []
    },
    {
      "cell_type": "code",
      "source": [
        "def solution(p):\n",
        "    if p=='': return p\n",
        "    r=True; c=0\n",
        "    for i in range(len(p)):\n",
        "        if p[i]=='(': c-=1\n",
        "        else: c+=1\n",
        "        if c>0: r=False\n",
        "        if c==0:\n",
        "            if r:\n",
        "                return p[:i+1]+solution(p[i+1:])\n",
        "            else:\n",
        "                return '('+solution(p[i+1:])+')'+''.join(list(map(lambda x:'(' if x==')' else ')',p[1:i]) ))"
      ],
      "metadata": {
        "id": "r012k5TdTcOV"
      },
      "execution_count": null,
      "outputs": []
    },
    {
      "cell_type": "markdown",
      "source": [
        "## 12.뉴스 클러스터링\n",
        "\n",
        "- https://programmers.co.kr/learn/courses/30/lessons/17677"
      ],
      "metadata": {
        "id": "wFmeVDOp1Ja-"
      }
    },
    {
      "cell_type": "code",
      "source": [
        "import re\n",
        "import math\n",
        "\n",
        "def solution(str1, str2):\n",
        "    \n",
        "    str1 = str1.upper()\n",
        "    str2 = str2.upper()\n",
        "    \n",
        "    p = re.compile('[A-Z]{2}')\n",
        "    \n",
        "    box1 = []\n",
        "    for i in range(len(str1)):\n",
        "        m = p.findall(str1[i:i+2])\n",
        "        if m:\n",
        "            box1 += m\n",
        "    # print(box1)\n",
        "    \n",
        "    box2 = []\n",
        "    for i in range(len(str2)):\n",
        "        m = p.findall(str2[i:i+2])\n",
        "        if m:\n",
        "            box2 += m\n",
        "    # print(box2)\n",
        "    \n",
        "    # 합집합과 교집합 계산 \n",
        "    gyo = set(box1) & set(box2)\n",
        "    hap = set(box1) | set(box2)\n",
        "    \n",
        "    # print(gyo)\n",
        "    # print(hap)\n",
        "\n",
        "    # 합집합이 0이면 65536 출력 \n",
        "    if len(hap) == 0:\n",
        "        return 65536\n",
        "\n",
        "    # 교집합하고 합집합의 counter를 따로 계산\n",
        "    gyo_sum = sum([min(box1.count(gg), box2.count(gg)) for gg in gyo])\n",
        "    hap_sum = sum([max(box1.count(hh), box2.count(hh)) for hh in hap])\n",
        "\n",
        "    return math.floor((gyo_sum/hap_sum)*65536)"
      ],
      "metadata": {
        "id": "HnuyCIrLTcJh"
      },
      "execution_count": null,
      "outputs": []
    },
    {
      "cell_type": "markdown",
      "source": [
        "## 13.거리두기 확인하기\n",
        "\n",
        "- https://programmers.co.kr/learn/courses/30/lessons/81302"
      ],
      "metadata": {
        "id": "AaLbPKf6BvPq"
      }
    },
    {
      "cell_type": "code",
      "source": [
        "from itertools import product\n",
        "\n",
        "l = ['23456','23456']\n",
        "\n",
        "def solution(places):\n",
        "    \n",
        "    answer = []\n",
        "    x = 'XXXXXXXXX'\n",
        "    \n",
        "    for place in places:\n",
        "        box = []\n",
        "        for line in place:\n",
        "            line = 'XX'+line+'XX'\n",
        "            box.append(line)\n",
        "        box.insert(0,x)\n",
        "        box.insert(1,x)\n",
        "        box.insert(7,x)\n",
        "        box.insert(8,x)\n",
        "        # print(box)\n",
        "        \n",
        "        score = 1\n",
        "        for r,c in list(product(*l)):\n",
        "            r, c = int(r), int(c)\n",
        "            # print(r,c)\n",
        "            if box[r][c] == 'P':\n",
        "                if (box[r-1][c] == 'P') or (box[r+1][c] == 'P') or (box[r][c-1] == 'P') or (box[r][c+1] == 'P'):\n",
        "                    # print(box[r-1][c],box[r+1][c],box[r][c-1],box[r][c+1])\n",
        "                    # print('위반1',r,c)\n",
        "                    score = 0\n",
        "                    \n",
        "                elif (box[r-1][c] == 'O' and (box[r-2][c] == 'P' or box[r-1][c-1] == 'P' or box[r-1][c+1] == 'P')) or (box[r+1][c] == 'O' and (box[r+2][c] == 'P' or box[r+1][c-1] == 'P' or box[r+1][c+1] == 'P')) or (box[r][c-1] == 'O' and (box[r][c-2] == 'P' or box[r-1][c-1] == 'P' or box[r+1][c-1] == 'P')) or (box[r][c+1] == 'O' and (box[r][c+2] == 'P' or box[r-1][c+1] == 'P' or box[r+1][c+1] == 'P')):\n",
        "                    # print('위반2',r,c)\n",
        "                    score = 0\n",
        "        answer.append(score)\n",
        "                    \n",
        "    return answer"
      ],
      "metadata": {
        "id": "PqBmmAaUBtVP"
      },
      "execution_count": null,
      "outputs": []
    },
    {
      "cell_type": "markdown",
      "source": [
        "## 14.수식 최대화\n",
        "\n",
        "- https://programmers.co.kr/learn/courses/30/lessons/67257"
      ],
      "metadata": {
        "id": "IeXZ1uQvU2ez"
      }
    },
    {
      "cell_type": "code",
      "source": [
        "'''\n",
        "파이썬 eval()함수\n",
        "리스트에서 원하는 값의 index를 여러개 찾는법\n",
        "정규표현식 re.split()\n",
        "\n",
        "https://velog.io/@hj8853/%ED%8C%8C%EC%9D%B4%EC%8D%AC%EC%9C%BC%EB%A1%9C-%EC%BD%98%EC%86%94-%EB%94%94%EC%A7%80%ED%84%B8-%EA%B3%84%EC%82%B0%EA%B8%B0-%EB%A7%8C%EB%93%A4%EA%B8%B0\n",
        "https://weejw.tistory.com/374\n",
        "https://stackoverflow.com/questions/52845920/why-output-of-re-split-d-spl5it-the-words-is-different-from-re-split\n",
        "'''"
      ],
      "metadata": {
        "id": "zj-vMfapBtSs"
      },
      "execution_count": null,
      "outputs": []
    },
    {
      "cell_type": "code",
      "source": [
        "from itertools import permutations as pm\n",
        "import re\n",
        "\n",
        "def solution(expression):\n",
        "    \n",
        "    \n",
        "    op = [x for x in ['*','+','-'] if x in expression]\n",
        "    # print(op)    \n",
        "    op = [list(y) for y in pm(op)]\n",
        "    print(op)\n",
        "    ex = re.split(r'(\\D)',expression)\n",
        "    print(ex)\n",
        "    \n",
        "    for i in op:\n",
        "        for j in i:\n",
        "            index = [k for k, ele in enumerate(ex) if ele == j] # 이렇게 다중으로 찾으면 멀티로 나왔을 때 에러난다!\n",
        "            print(index)\n",
        "            for v in index:\n",
        "                print(v)\n",
        "                print(ex[v-1],ex[v],ex[v+1])\n",
        "                # print(eval(ex[v-1]+ex[v]+ex[v+1]))\n",
        "                ev = abs(eval(ex[v-1]+ex[v]+ex[v+1]))\n",
        "                del ex[v-1:v+2]\n",
        "                ex.insert(v-1,str(ev))\n",
        "                print(ev)\n",
        "                print(ex)\n",
        "                \n",
        "    \n",
        "    \n",
        "    answer = 0\n",
        "    return answer\n"
      ],
      "metadata": {
        "id": "ijglHERYBtQM"
      },
      "execution_count": null,
      "outputs": []
    },
    {
      "cell_type": "code",
      "source": [
        "solution(\"100-200*300-500+20\")"
      ],
      "metadata": {
        "id": "kD38MqhYizl_",
        "outputId": "6a875248-2879-4cd5-e49a-791eb2a19cbe",
        "colab": {
          "base_uri": "https://localhost:8080/",
          "height": 650
        }
      },
      "execution_count": null,
      "outputs": [
        {
          "output_type": "stream",
          "name": "stdout",
          "text": [
            "[['*', '+', '-'], ['*', '-', '+'], ['+', '*', '-'], ['+', '-', '*'], ['-', '*', '+'], ['-', '+', '*']]\n",
            "['100', '-', '200', '*', '300', '-', '500', '+', '20']\n",
            "[3]\n",
            "3\n",
            "200 * 300\n",
            "60000\n",
            "['100', '-', '60000', '-', '500', '+', '20']\n",
            "[5]\n",
            "5\n",
            "500 + 20\n",
            "520\n",
            "['100', '-', '60000', '-', '520']\n",
            "[1, 3]\n",
            "1\n",
            "100 - 60000\n",
            "59900\n",
            "['59900', '-', '520']\n",
            "3\n"
          ]
        },
        {
          "output_type": "error",
          "ename": "IndexError",
          "evalue": "ignored",
          "traceback": [
            "\u001b[0;31m---------------------------------------------------------------------------\u001b[0m",
            "\u001b[0;31mIndexError\u001b[0m                                Traceback (most recent call last)",
            "\u001b[0;32m<ipython-input-17-e723798de523>\u001b[0m in \u001b[0;36m<module>\u001b[0;34m()\u001b[0m\n\u001b[0;32m----> 1\u001b[0;31m \u001b[0msolution\u001b[0m\u001b[0;34m(\u001b[0m\u001b[0;34m\"100-200*300-500+20\"\u001b[0m\u001b[0;34m)\u001b[0m\u001b[0;34m\u001b[0m\u001b[0;34m\u001b[0m\u001b[0m\n\u001b[0m",
            "\u001b[0;32m<ipython-input-16-7f1627478d3f>\u001b[0m in \u001b[0;36msolution\u001b[0;34m(expression)\u001b[0m\n\u001b[1;32m     18\u001b[0m             \u001b[0;32mfor\u001b[0m \u001b[0mv\u001b[0m \u001b[0;32min\u001b[0m \u001b[0mindex\u001b[0m\u001b[0;34m:\u001b[0m\u001b[0;34m\u001b[0m\u001b[0;34m\u001b[0m\u001b[0m\n\u001b[1;32m     19\u001b[0m                 \u001b[0mprint\u001b[0m\u001b[0;34m(\u001b[0m\u001b[0mv\u001b[0m\u001b[0;34m)\u001b[0m\u001b[0;34m\u001b[0m\u001b[0;34m\u001b[0m\u001b[0m\n\u001b[0;32m---> 20\u001b[0;31m                 \u001b[0mprint\u001b[0m\u001b[0;34m(\u001b[0m\u001b[0mex\u001b[0m\u001b[0;34m[\u001b[0m\u001b[0mv\u001b[0m\u001b[0;34m-\u001b[0m\u001b[0;36m1\u001b[0m\u001b[0;34m]\u001b[0m\u001b[0;34m,\u001b[0m\u001b[0mex\u001b[0m\u001b[0;34m[\u001b[0m\u001b[0mv\u001b[0m\u001b[0;34m]\u001b[0m\u001b[0;34m,\u001b[0m\u001b[0mex\u001b[0m\u001b[0;34m[\u001b[0m\u001b[0mv\u001b[0m\u001b[0;34m+\u001b[0m\u001b[0;36m1\u001b[0m\u001b[0;34m]\u001b[0m\u001b[0;34m)\u001b[0m\u001b[0;34m\u001b[0m\u001b[0;34m\u001b[0m\u001b[0m\n\u001b[0m\u001b[1;32m     21\u001b[0m                 \u001b[0;31m# print(eval(ex[v-1]+ex[v]+ex[v+1]))\u001b[0m\u001b[0;34m\u001b[0m\u001b[0;34m\u001b[0m\u001b[0;34m\u001b[0m\u001b[0m\n\u001b[1;32m     22\u001b[0m                 \u001b[0mev\u001b[0m \u001b[0;34m=\u001b[0m \u001b[0mabs\u001b[0m\u001b[0;34m(\u001b[0m\u001b[0meval\u001b[0m\u001b[0;34m(\u001b[0m\u001b[0mex\u001b[0m\u001b[0;34m[\u001b[0m\u001b[0mv\u001b[0m\u001b[0;34m-\u001b[0m\u001b[0;36m1\u001b[0m\u001b[0;34m]\u001b[0m\u001b[0;34m+\u001b[0m\u001b[0mex\u001b[0m\u001b[0;34m[\u001b[0m\u001b[0mv\u001b[0m\u001b[0;34m]\u001b[0m\u001b[0;34m+\u001b[0m\u001b[0mex\u001b[0m\u001b[0;34m[\u001b[0m\u001b[0mv\u001b[0m\u001b[0;34m+\u001b[0m\u001b[0;36m1\u001b[0m\u001b[0;34m]\u001b[0m\u001b[0;34m)\u001b[0m\u001b[0;34m)\u001b[0m\u001b[0;34m\u001b[0m\u001b[0;34m\u001b[0m\u001b[0m\n",
            "\u001b[0;31mIndexError\u001b[0m: list index out of range"
          ]
        }
      ]
    },
    {
      "cell_type": "markdown",
      "source": [
        "### 내 풀이"
      ],
      "metadata": {
        "id": "LB6r9Kq6ZL1o"
      }
    },
    {
      "cell_type": "code",
      "source": [
        "from itertools import permutations as pm\n",
        "import re\n",
        "\n",
        "def solution(expression):\n",
        "    \n",
        "    op = [x for x in ['*','+','-'] if x in expression]\n",
        "    # print(op)    \n",
        "    op = [list(y) for y in pm(op)]\n",
        "    # print(op)\n",
        "    ex = re.split(r'(\\D)',expression)\n",
        "    # print(ex)\n",
        "    \n",
        "    answer = []\n",
        "    for i in op:\n",
        "        ex2 = ex[:] # [:]안하면 안됨...\n",
        "        # print('i: ',i)\n",
        "        for j in i:\n",
        "            # print('j: ', j)\n",
        "            while j in ex2:\n",
        "                v = ex2.index(j)\n",
        "                # print('index: ', v)\n",
        "                # print(ex[v-1],ex[v],ex[v+1])\n",
        "                # print(eval(ex[v-1]+ex[v]+ex[v+1]))\n",
        "                ev = eval(ex2[v-1]+ex2[v]+ex2[v+1])\n",
        "                del ex2[v-1:v+2]\n",
        "                ex2.insert(v-1,str(ev))\n",
        "                # print(ev)\n",
        "        # print(abs(int(ex2[0])))\n",
        "        answer.append(abs(int(ex2[0])))\n",
        "                \n",
        "    # print(max(answer))\n",
        "    \n",
        "    return max(answer)"
      ],
      "metadata": {
        "id": "2xAP8zRaizjx"
      },
      "execution_count": null,
      "outputs": []
    },
    {
      "cell_type": "markdown",
      "source": [
        "### 다른 풀이"
      ],
      "metadata": {
        "id": "yWilzWrZZNf4"
      }
    },
    {
      "cell_type": "code",
      "source": [
        "import re\n",
        "from itertools import permutations\n",
        "\n",
        "def solution(expression):\n",
        "    #1\n",
        "    op = [x for x in ['*','+','-'] if x in expression]\n",
        "    op = [list(y) for y in permutations(op)]\n",
        "    ex = re.split(r'(\\D)',expression)\n",
        "\n",
        "    #2\n",
        "    a = []\n",
        "    for x in op:\n",
        "        _ex = ex[:]\n",
        "        for y in x:\n",
        "            while y in _ex:\n",
        "                tmp = _ex.index(y)\n",
        "                _ex[tmp-1] = str(eval(_ex[tmp-1]+_ex[tmp]+_ex[tmp+1]))\n",
        "                _ex = _ex[:tmp]+_ex[tmp+2:]\n",
        "        a.append(_ex[-1])\n",
        "\n",
        "    #3\n",
        "    return max(abs(int(x)) for x in a)"
      ],
      "metadata": {
        "id": "nQ9iG6p2YHUh"
      },
      "execution_count": null,
      "outputs": []
    },
    {
      "cell_type": "markdown",
      "source": [
        "## 15.튜플\n",
        "\n",
        "- https://programmers.co.kr/learn/courses/30/lessons/64065"
      ],
      "metadata": {
        "id": "wivg-jK0ZcQn"
      }
    },
    {
      "cell_type": "markdown",
      "source": [
        "### 내 풀이"
      ],
      "metadata": {
        "id": "dWTMkRngiANf"
      }
    },
    {
      "cell_type": "code",
      "source": [
        "def solution(s):\n",
        "    '''\n",
        "    s = s[2:-2].split('},{')\n",
        "    # print(s)\n",
        "    box = []\n",
        "    for i in s:\n",
        "        # print(i)\n",
        "        list_ = i.split(',')\n",
        "        # print(list_)\n",
        "        box.append(list_)\n",
        "    아래랑 같은 코드다.\n",
        "    '''\n",
        "    boxes = [i.split(',') for i in s[2:-2].split('},{')]\n",
        "    # print(boxes)\n",
        "    \n",
        "    answer = []\n",
        "    for num in range(1, len(boxes)+1):\n",
        "        for box in boxes:\n",
        "            if num == len(box):\n",
        "                # print(box)\n",
        "                for item in box:\n",
        "                    if item not in answer: # 중복없음\n",
        "                        answer.append(item)\n",
        "                        \n",
        "    # print(list(map(int, answer)))\n",
        "\n",
        "    return list(map(int, answer))"
      ],
      "metadata": {
        "id": "aw9eSiOxZPGK"
      },
      "execution_count": null,
      "outputs": []
    },
    {
      "cell_type": "markdown",
      "source": [
        "### 다른 풀이"
      ],
      "metadata": {
        "id": "o2ZCAEgMiBhG"
      }
    },
    {
      "cell_type": "code",
      "source": [
        "import re\n",
        " \n",
        "def solution(s):\n",
        "    answer = []\n",
        "    a = s.split(',{')\n",
        "    print(a)\n",
        "    a.sort(key = len)\n",
        "    print(a)\n",
        "    for j in a:\n",
        "        numbers = re.findall(\"\\d+\", j)\n",
        "        print(numbers)\n",
        "        for k in numbers:\n",
        "            print(k)\n",
        "            if int(k) not in answer:\n",
        "                answer.append(int(k))\n",
        "    return answer\n",
        "\n",
        "\n",
        "'''\n",
        "def solution(s):\n",
        "\n",
        "    s = Counter(re.findall('\\d+', s))\n",
        "    return list(map(int, [k for k, v in sorted(s.items(), key=lambda x: x[1], reverse=True)]))\n",
        "\n",
        "import re\n",
        "from collections import Counter\n",
        "'''"
      ],
      "metadata": {
        "id": "uAPSWJnPZPDc"
      },
      "execution_count": null,
      "outputs": []
    },
    {
      "cell_type": "markdown",
      "source": [
        "## 16.빛의 경로 사이클\n",
        "\n",
        "- https://programmers.co.kr/learn/courses/30/lessons/86052"
      ],
      "metadata": {
        "id": "AVw0tsZ8iXDY"
      }
    },
    {
      "cell_type": "markdown",
      "source": [
        "## 17.전화번호 목록\n",
        "\n",
        "- https://programmers.co.kr/learn/courses/30/lessons/42577"
      ],
      "metadata": {
        "id": "TGJc8oMUmI9v"
      }
    },
    {
      "cell_type": "markdown",
      "source": [
        "### 시간 초과"
      ],
      "metadata": {
        "id": "Cpi8Ov4op9YY"
      }
    },
    {
      "cell_type": "code",
      "source": [
        "def solution(phone_book):\n",
        "    \n",
        "    answer = True\n",
        "    \n",
        "    phone_book.sort()\n",
        "    # print('phone_book: ', phone_book)\n",
        "    \n",
        "    phone_book2 = phone_book[:]\n",
        "    for num1 in phone_book:\n",
        "        # print('num1: ', num1)\n",
        "        phone_book2.remove(num1)\n",
        "        # print('phone_book2: ', phone_book2)\n",
        "        for num2 in phone_book2:\n",
        "            # print('num2: ', num2)\n",
        "            # print('num2[:len(num1)+1]: ', num2[:len(num1)])\n",
        "\n",
        "            if len(num1) <= len(num2) and num1 == num2[:len(num1)]:\n",
        "                # print('yes')\n",
        "                answer = False\n",
        "    \n",
        "    return answer"
      ],
      "metadata": {
        "id": "PN12LhV4ZPA1"
      },
      "execution_count": null,
      "outputs": []
    },
    {
      "cell_type": "code",
      "source": [
        "def solution(phone_book):\n",
        "    \n",
        "    phone_book.sort()\n",
        "    \n",
        "    phone_book2 = phone_book[:]\n",
        "    for num1 in phone_book:\n",
        "        phone_book2.remove(num1)\n",
        "        for num2 in phone_book2:\n",
        "            if num1 == num2[:len(num1)]:\n",
        "                return False\n",
        "    \n",
        "    return True"
      ],
      "metadata": {
        "id": "R4EXoOGaqEIU"
      },
      "execution_count": null,
      "outputs": []
    },
    {
      "cell_type": "markdown",
      "source": [
        "### 정답 풀이"
      ],
      "metadata": {
        "id": "atgozpmEp-5A"
      }
    },
    {
      "cell_type": "code",
      "source": [
        "'''\n",
        "startswith() 함수\n",
        "\n",
        "https://security-nanglam.tistory.com/429\n",
        "'''\n",
        "\n",
        "def solution(phone_book):\n",
        "    phone_book.sort()\n",
        "    for p1, p2 in zip(phone_book, phone_book[1:]):\n",
        "        if p2.startswith(p1):\n",
        "            return False\n",
        "    return True\n",
        "\n",
        "'''\n",
        "def solution(phone_book):\n",
        "    answer = True\n",
        "    hash_map = {}\n",
        "    for phone_number in phone_book:\n",
        "        hash_map[phone_number] = 1\n",
        "    for phone_number in phone_book:\n",
        "        temp = \"\"\n",
        "        for number in phone_number:\n",
        "            temp += number\n",
        "            if temp in hash_map and temp != phone_number:\n",
        "                answer = False\n",
        "    return answer\n",
        "'''"
      ],
      "metadata": {
        "id": "a0mNoYw7ZO24"
      },
      "execution_count": null,
      "outputs": []
    },
    {
      "cell_type": "markdown",
      "source": [
        "## 18.프린터\n",
        "\n",
        "- https://programmers.co.kr/learn/courses/30/lessons/42587"
      ],
      "metadata": {
        "id": "hf2Ew2Ccs4_2"
      }
    },
    {
      "cell_type": "markdown",
      "source": [
        "### 오답"
      ],
      "metadata": {
        "id": "sD3koFwOxNUW"
      }
    },
    {
      "cell_type": "code",
      "source": [
        "def solution(priorities, location):\n",
        "    \n",
        "    \n",
        "    dic =  {i:p for i,p in enumerate(priorities)}\n",
        "    print(dic)\n",
        "    \n",
        "    sort_dic = sorted(dic.items(), key=lambda x: x[1], reverse=True)\n",
        "    print(sort_dic)\n",
        "    \n",
        "    answer = 1\n",
        "    for i, _ in sort_dic:\n",
        "        if i == location:\n",
        "            return answer\n",
        "        answer += 1"
      ],
      "metadata": {
        "id": "aD3XXDChs2_r"
      },
      "execution_count": null,
      "outputs": []
    },
    {
      "cell_type": "markdown",
      "source": [
        "### 정답"
      ],
      "metadata": {
        "id": "ByjfY9cxxOs_"
      }
    },
    {
      "cell_type": "code",
      "source": [
        "'''\n",
        "pop(0) 함수\n",
        "\n",
        "https://helloyjam.github.io/python/pop()-vs-pop(0)/\n",
        "https://www.daleseo.com/python-queue/\n",
        "'''\n",
        "\n",
        "\n",
        "def solution(priorities, location):\n",
        "    answer = 0\n",
        "    from collections import deque\n",
        "\n",
        "    d = deque([(v,i) for i,v in enumerate(priorities)])\n",
        "\n",
        "    while len(d):\n",
        "        item = d.popleft()\n",
        "        if d and max(d)[0] > item[0]:\n",
        "            d.append(item)\n",
        "        else:\n",
        "            answer += 1\n",
        "            if item[1] == location:\n",
        "                break\n",
        "    return answer\n",
        "\n",
        "\n",
        "\n",
        "'''\n",
        "def solution(priorities, location):\n",
        "    queue =  [(i,p) for i,p in enumerate(priorities)]\n",
        "    answer = 0\n",
        "    while True:\n",
        "        cur = queue.pop(0)\n",
        "        if any(cur[1] < q[1] for q in queue):\n",
        "            queue.append(cur)\n",
        "        else:\n",
        "            answer += 1\n",
        "            if cur[0] == location:\n",
        "                return answer\n",
        "'''"
      ],
      "metadata": {
        "id": "vrleVWk4s28-"
      },
      "execution_count": null,
      "outputs": []
    },
    {
      "cell_type": "markdown",
      "source": [
        "## 19.가장 큰 수\n",
        "\n",
        "- https://programmers.co.kr/learn/courses/30/lessons/42746"
      ],
      "metadata": {
        "id": "aFOmdcjAN3t3"
      }
    },
    {
      "cell_type": "markdown",
      "source": [
        "### 시간 초과"
      ],
      "metadata": {
        "id": "kJU1E3yBS4-s"
      }
    },
    {
      "cell_type": "code",
      "source": [
        "from itertools import permutations as pm\n",
        "\n",
        "def solution(numbers):\n",
        "    \n",
        "    numbers = list(map(''.join, pm(list(map(str,numbers)), len(numbers))))\n",
        "    # print(numbers)\n",
        "    \n",
        "    temp = 0\n",
        "    for num in numbers:\n",
        "        if int(num) > temp:\n",
        "            temp = int(num)\n",
        "    # print(temp)\n",
        "    \n",
        "    return str(temp)"
      ],
      "metadata": {
        "id": "1eTRU_y5s26m",
        "outputId": "4c2499e5-7643-4d96-8dec-c1438379f942",
        "colab": {
          "base_uri": "https://localhost:8080/"
        }
      },
      "execution_count": null,
      "outputs": [
        {
          "output_type": "execute_result",
          "data": {
            "text/plain": [
              "['6', '10', '2']"
            ]
          },
          "metadata": {},
          "execution_count": 2
        }
      ]
    },
    {
      "cell_type": "markdown",
      "source": [
        "### 정답 풀이"
      ],
      "metadata": {
        "id": "BRczSAqHTkRB"
      }
    },
    {
      "cell_type": "code",
      "source": [
        "import functools\n",
        "\n",
        "def comparator(a,b):\n",
        "    t1 = a+b\n",
        "    t2 = b+a\n",
        "    return (int(t1) > int(t2)) - (int(t1) < int(t2)) #  t1이 크다면 1  // t2가 크다면 -1  //  같으면 0\n",
        "\n",
        "def solution(numbers):\n",
        "    n = [str(x) for x in numbers]\n",
        "    n = sorted(n, key=functools.cmp_to_key(comparator),reverse=True)\n",
        "    answer = str(int(''.join(n)))\n",
        "    return answer\n",
        "\n",
        "\n",
        "'''\n",
        "def solution(numbers):\n",
        "    numbers = list(map(str, numbers))\n",
        "    numbers.sort(key=lambda x: x*3, reverse=True)\n",
        "    return str(int(''.join(numbers)))\n",
        "'''"
      ],
      "metadata": {
        "id": "RG9o9lkVs23_"
      },
      "execution_count": null,
      "outputs": []
    },
    {
      "cell_type": "markdown",
      "source": [
        "## 20.소수 찾기\n",
        "\n",
        "- https://programmers.co.kr/learn/courses/30/lessons/42839"
      ],
      "metadata": {
        "id": "MGwuIqWbTqQC"
      }
    },
    {
      "cell_type": "markdown",
      "source": [
        "### 시간 초과"
      ],
      "metadata": {
        "id": "U4BicvUfZ_Gz"
      }
    },
    {
      "cell_type": "code",
      "source": [
        "'''\n",
        "|= 연산자\n",
        "\n",
        "https://velog.io/@nayoon-kim/%ED%8C%8C%EC%9D%B4%EC%8D%AC-%EC%97%B0%EC%82%B0%EC%9E%90\n",
        "'''\n",
        "\n",
        "from itertools import permutations as pm\n",
        "\n",
        "def solution(numbers):\n",
        "    \n",
        "    box = set()\n",
        "    for i in range(1, len(numbers)+1):\n",
        "        # print(list(pm(list(numbers), i)))\n",
        "        # print(list(map(''.join, pm(list(numbers), i))))\n",
        "        box |= set(map(int,list(map(''.join, pm(list(numbers), i))))) # 리스트 말고 set으로 하면 된다!\n",
        "    box -= set(range(0, 2)) \n",
        "    # print(box)\n",
        "    \n",
        "    for i in box:\n",
        "        for j in range(2,int(i/2)+1):\n",
        "            # print('j: ', j)\n",
        "            if i%j == 0:\n",
        "                # print('i: ', i)\n",
        "                # print(box-{i})\n",
        "                box = box-{i}\n",
        "\n",
        "    # print(box)\n",
        "    return len(box)\n",
        "                "
      ],
      "metadata": {
        "id": "TA6ak4nBs2wP"
      },
      "execution_count": null,
      "outputs": []
    },
    {
      "cell_type": "markdown",
      "source": [
        "### 정답"
      ],
      "metadata": {
        "id": "Udv1BeBGbkiF"
      }
    },
    {
      "cell_type": "code",
      "source": [
        "from itertools import permutations\n",
        "def solution(n):\n",
        "    a = set()\n",
        "    for i in range(len(n)):\n",
        "        a |= set(map(int, map(\"\".join, permutations(list(n), i + 1))))\n",
        "    a -= set(range(0, 2))\n",
        "    for i in range(2, int(max(a) ** 0.5) + 1):\n",
        "        a -= set(range(i * 2, max(a) + 1, i))\n",
        "    return len(a)"
      ],
      "metadata": {
        "id": "QXopLqTB0tjN"
      },
      "execution_count": null,
      "outputs": []
    },
    {
      "cell_type": "markdown",
      "source": [
        "## 21.조이스틱\n",
        "\n",
        "- https://programmers.co.kr/learn/courses/30/lessons/42860"
      ],
      "metadata": {
        "id": "ywrYHOVWd9yZ"
      }
    },
    {
      "cell_type": "markdown",
      "source": [
        "### 오답"
      ],
      "metadata": {
        "id": "LgpFEqwg06wN"
      }
    },
    {
      "cell_type": "code",
      "source": [
        "'''\n",
        "딕셔너리 병합\n",
        "\n",
        "https://codechacha.com/ko/python-merge-two-dict/\n",
        "'''\n",
        "\n",
        "def solution(name):\n",
        "    \n",
        "    start = 'A'*len(name)\n",
        "    # print(start)\n",
        "    front = list('BCDEFGHIJKLMNOPQRSTUVWXYZ')[:13]\n",
        "    # print(front)\n",
        "    back = list('BCDEFGHIJKLMNOPQRSTUVWXYZ')[:12:-1]\n",
        "    # print(back)\n",
        "    front = {string:num+1 for num, string in enumerate(front)}\n",
        "    # print(front)\n",
        "    back = {string:num+1 for num, string in enumerate(back)}\n",
        "    # print(back)\n",
        "    dic = dict(front, **back)\n",
        "    print(dic)\n",
        "    \n",
        "    score = 0\n",
        "    while name:\n",
        "        print(name)\n",
        "        if name[0] != 'A':\n",
        "            # print(name[0], dic[name[0]])\n",
        "            score += dic[name[0]]\n",
        "            # print(score)\n",
        "            name = name[1:]\n",
        "            print(name)\n",
        "            if name:\n",
        "                if name[0] != 'A':\n",
        "                    score += 1\n",
        "            print('name[0] != A:', name)\n",
        "            \n",
        "        else:\n",
        "            print('name = name[1:]: ', name)\n",
        "            \n",
        "            if len(name) == 1:\n",
        "                return score\n",
        "            \n",
        "            front_i = 0\n",
        "            print('name[:]: ', name)\n",
        "            for i in name:\n",
        "                if i != 'A':\n",
        "                    break\n",
        "                front_i+=1\n",
        "            print('front_i', front_i)\n",
        "                    \n",
        "            back_j = 0\n",
        "            print('nname[1::-1]: ', name[1::-1])\n",
        "            for j in name[1::-1]:\n",
        "                if j != 'A':\n",
        "                    break\n",
        "                back_j+=1\n",
        "            print('back_j', back_j)\n",
        "            \n",
        "            \n",
        "            if front_i <= back_j:\n",
        "                print('FRONT')\n",
        "                score += front_i+1\n",
        "                name = name[front_i+1:]\n",
        "            else:\n",
        "                print('BACK')\n",
        "                score += back_j+1\n",
        "                score += dic[name[::-1][0]]\n",
        "                name = name[::-1][back_j+1:][::-1]\n",
        "                print(name)\n",
        "\n",
        "    return score"
      ],
      "metadata": {
        "id": "mpzKkAjnzUW3"
      },
      "execution_count": null,
      "outputs": []
    },
    {
      "cell_type": "code",
      "source": [
        "solution(\"JEROEN\")"
      ],
      "metadata": {
        "id": "7or-1tueb5Cf",
        "outputId": "ca7be3b3-baa8-4cf5-be50-753550dc7155",
        "colab": {
          "base_uri": "https://localhost:8080/"
        }
      },
      "execution_count": null,
      "outputs": [
        {
          "output_type": "stream",
          "name": "stdout",
          "text": [
            "{'B': 1, 'C': 2, 'D': 3, 'E': 4, 'F': 5, 'G': 6, 'H': 7, 'I': 8, 'J': 9, 'K': 10, 'L': 11, 'M': 12, 'N': 13, 'Z': 1, 'Y': 2, 'X': 3, 'W': 4, 'V': 5, 'U': 6, 'T': 7, 'S': 8, 'R': 9, 'Q': 10, 'P': 11, 'O': 12}\n",
            "JEROEN\n",
            "EROEN\n",
            "name[0] != A: EROEN\n",
            "EROEN\n",
            "ROEN\n",
            "name[0] != A: ROEN\n",
            "ROEN\n",
            "OEN\n",
            "name[0] != A: OEN\n",
            "OEN\n",
            "EN\n",
            "name[0] != A: EN\n",
            "EN\n",
            "N\n",
            "name[0] != A: N\n",
            "N\n",
            "\n",
            "name[0] != A: \n"
          ]
        },
        {
          "output_type": "execute_result",
          "data": {
            "text/plain": [
              "56"
            ]
          },
          "metadata": {},
          "execution_count": 15
        }
      ]
    },
    {
      "cell_type": "code",
      "source": [
        "a = [1,2,3]\n",
        "a[1::-1]"
      ],
      "metadata": {
        "id": "QdDeAbseb4_1",
        "outputId": "f04aebf6-4d16-48a6-c0d1-a96cafc57563",
        "colab": {
          "base_uri": "https://localhost:8080/"
        }
      },
      "execution_count": null,
      "outputs": [
        {
          "output_type": "execute_result",
          "data": {
            "text/plain": [
              "[2, 1]"
            ]
          },
          "metadata": {},
          "execution_count": 8
        }
      ]
    },
    {
      "cell_type": "markdown",
      "source": [
        "### 정답"
      ],
      "metadata": {
        "id": "xgqIMKYQ036M"
      }
    },
    {
      "cell_type": "code",
      "source": [
        "def solution(name):\n",
        "    name=list(name)\n",
        "    target=list(\"A\"*len(name))\n",
        "\n",
        "    cnt=0\n",
        "    index=0\n",
        "    while True:\n",
        "        right=1\n",
        "        left=1\n",
        "        if name[index]!=target[index]:\n",
        "            temp=ord(name[index])-ord(target[index])\n",
        "            cnt+=min(temp, 26-temp)\n",
        "            name[index]=\"A\"\n",
        "\n",
        "        if name==target:\n",
        "            break\n",
        "\n",
        "        for i in range(1,len(name)):\n",
        "            if name[index+i]==\"A\":\n",
        "                right+=1\n",
        "            else:\n",
        "                break\n",
        "        for i in range(1,len(name)):\n",
        "            if name[index-i]==\"A\":\n",
        "                left+=1\n",
        "            else:\n",
        "                break\n",
        "\n",
        "        if right>left:\n",
        "            cnt+=left\n",
        "            index-=left\n",
        "        else:\n",
        "            cnt+=right\n",
        "            index+=right\n",
        "\n",
        "    return (cnt)\n",
        "\n",
        "'''\n",
        "def solution(name):\n",
        "    answer = 0\n",
        "    n = len(name)\n",
        "\n",
        "    def alphabet_to_num(char):\n",
        "        num_char = [i for i in range(14)] + [j for j in range(12, 0, -1)]\n",
        "        return num_char[ord(char) - ord('A')]\n",
        "\n",
        "    for ch in name:\n",
        "        answer += alphabet_to_num(ch)\n",
        "\n",
        "    move = n - 1\n",
        "    for idx in range(n):\n",
        "        next_idx = idx + 1\n",
        "        while (next_idx < n) and (name[next_idx] == 'A'):\n",
        "            next_idx += 1\n",
        "        distance = min(idx, n - next_idx)\n",
        "        move = min(move, idx + n - next_idx + distance)\n",
        "\n",
        "    answer += move\n",
        "    return answer\n",
        "'''"
      ],
      "metadata": {
        "id": "MlV24UFFb49Y"
      },
      "execution_count": null,
      "outputs": []
    },
    {
      "cell_type": "markdown",
      "source": [
        "## 22.게임 맵 최단거리\n",
        "\n",
        "- https://programmers.co.kr/learn/courses/30/lessons/1844"
      ],
      "metadata": {
        "id": "ZLdrF_-61mzE"
      }
    },
    {
      "cell_type": "code",
      "source": [
        "from collections import deque\n",
        "\n",
        "d = [[1,0], [-1, 0], [0,1], [0,-1]]\n",
        "\n",
        "def solution(maps):\n",
        "    r = len(maps)\n",
        "    c = len(maps[0])\n",
        "    table = [[-1 for _ in range(c)] for _ in range(r)]\n",
        "    q = deque()\n",
        "    q.append([0,0])\n",
        "    table[0][0] = 1\n",
        "\n",
        "    while q:\n",
        "        y, x = q.popleft()\n",
        "\n",
        "        for i in range(4):\n",
        "            ny = y + d[i][0]\n",
        "            nx = x + d[i][1]\n",
        "\n",
        "            if -1<ny<r and -1<nx<c:\n",
        "                if maps[ny][nx] == 1:\n",
        "                    if table[ny][nx] == -1:\n",
        "                        table[ny][nx] = table[y][x] + 1\n",
        "                        q.append([ny, nx])\n",
        "\n",
        "    answer = table[-1][-1]\n",
        "    return answer\n",
        "\n",
        "'''\n",
        "from collections import deque\n",
        "\n",
        "def solution(maps):\n",
        "    x_move = [1, 0, -1, 0]\n",
        "    y_move = [0, 1, 0, -1]\n",
        "\n",
        "    x_h, y_h = (len(maps[0]), len(maps))\n",
        "    queue = deque([(0, 0, 1)])\n",
        "\n",
        "    while queue:\n",
        "        x, y, d = queue.popleft()\n",
        "\n",
        "        for i in range(4):\n",
        "            nx = x + x_move[i]\n",
        "            ny = y + y_move[i]\n",
        "\n",
        "            if nx > -1 and ny > -1 and nx < x_h and ny < y_h:\n",
        "                if maps[ny][nx] == 1 or maps[ny][nx] > d + 1:\n",
        "                    maps[ny][nx] = d + 1\n",
        "                    if nx == x_h - 1 and ny == y_h - 1:\n",
        "                        return d + 1\n",
        "\n",
        "                    queue.append((nx, ny, d + 1))\n",
        "\n",
        "    return -1\n",
        "'''"
      ],
      "metadata": {
        "id": "6E2o1Qw91gLm"
      },
      "execution_count": null,
      "outputs": []
    },
    {
      "cell_type": "markdown",
      "source": [
        "## 23.예상 대진표\n",
        "\n",
        "- https://programmers.co.kr/learn/courses/30/lessons/12985"
      ],
      "metadata": {
        "id": "lbUD2mOnCbYy"
      }
    },
    {
      "cell_type": "markdown",
      "source": [
        "### 내 풀이"
      ],
      "metadata": {
        "id": "ifPfhQYaayS6"
      }
    },
    {
      "cell_type": "code",
      "source": [
        "def solution(n,a,b):\n",
        "    \n",
        "    h,l = max(a,b), min(a,b)\n",
        "    print(round(4/2+0.1))\n",
        "    # print(l,h)\n",
        "    \n",
        "    answer = 1\n",
        "    while True:\n",
        "        if l%2==1 and h-1==l:\n",
        "            return answer\n",
        "        else:\n",
        "            print(l,h)\n",
        "            l = round(l/2+0.1)\n",
        "            h = round(h/2+0.1)\n",
        "            print(l,h)\n",
        "            answer += 1"
      ],
      "metadata": {
        "id": "V-2Y-viT1gJQ"
      },
      "execution_count": null,
      "outputs": []
    },
    {
      "cell_type": "markdown",
      "source": [
        "### 다른 풀이"
      ],
      "metadata": {
        "id": "LE0mHeTmazpf"
      }
    },
    {
      "cell_type": "code",
      "source": [
        "def solution(n,a,b):\n",
        "    answer = 0\n",
        "    while a!=b:\n",
        "        a= (a+1)//2\n",
        "        b= (b+1)//2\n",
        "        answer+=1\n",
        "    return answer\n",
        "\n",
        "'''\n",
        "def solution(n,a,b):\n",
        "    return ((a-1)^(b-1)).bit_length()\n",
        "'''"
      ],
      "metadata": {
        "id": "GJ5yi2Bfaxus"
      },
      "execution_count": null,
      "outputs": []
    },
    {
      "cell_type": "markdown",
      "source": [
        "## 24.순위 검색\n",
        "\n",
        "- https://programmers.co.kr/learn/courses/30/lessons/72412"
      ],
      "metadata": {
        "id": "gOrSspkoYjCR"
      }
    },
    {
      "cell_type": "markdown",
      "source": [
        "### 오답"
      ],
      "metadata": {
        "id": "PCyAAZ20PiHJ"
      }
    },
    {
      "cell_type": "code",
      "source": [
        "def solution(info, query):\n",
        "    \n",
        "    ## info를 [[]]로 바꿈\n",
        "    info = [i.split(' ') for i in info]\n",
        "    # print('info: ', info)\n",
        "    \n",
        "    ## query를 and와 -을 뺀 [[]]로 바꿈\n",
        "    quer1 = []\n",
        "    for i in query:\n",
        "        a = i.split()\n",
        "        # print(a)\n",
        "        quer2 = []\n",
        "        for j in a:\n",
        "            # print(j)\n",
        "            ## 여기서 숫자를 int로 만들면 밑에서 힘들다... \n",
        "            # if j.isdigit():\n",
        "            #     quer2.append(int(j))\n",
        "            if j != 'and' and j != '-':\n",
        "                quer2.append(j)\n",
        "        quer1.append(quer2)\n",
        "    # print('quer1: ', quer1)\n",
        "    \n",
        "    ## 정답을 넣을 list\n",
        "    answer = []\n",
        "    for i in quer1:\n",
        "        # print('i: ', i)\n",
        "        \n",
        "        ## 각 query 문장마다 살아남은 info문장을 담을 list\n",
        "        survive = []\n",
        "        info_ = info\n",
        "        for j in i:\n",
        "            # print('j: ', j)\n",
        "            \n",
        "            ## 원소가 찬 survive만 확인하면 된다!\n",
        "            if survive:\n",
        "                # print('SURVIVE: ', survive)\n",
        "                info_ = survive\n",
        "                survive = []\n",
        "                # print('info_: ', info_)\n",
        "\n",
        "            for k in range(len(info_)):\n",
        "                # print('k: ', k)\n",
        "                # print('info_[k]: ', info_[k])\n",
        "                # print('j.isdigit(): ', j.isdigit())\n",
        "                if j.isdigit() and int(j) <= int(info_[k][-1]):\n",
        "                    survive.append(info_[k])\n",
        "\n",
        "                elif j in info_[k]:\n",
        "                    # print('j in info_[k]: ', info_[k])\n",
        "                    survive.append(info_[k])\n",
        "            # print('survive: ', survive)\n",
        "        answer.append(len(survive))\n",
        "    # print('answer: ', answer)\n",
        "    # print()\n",
        "\n",
        "\n",
        "    return answer"
      ],
      "metadata": {
        "id": "F1PgiLuG1gG4"
      },
      "execution_count": 31,
      "outputs": []
    },
    {
      "cell_type": "code",
      "source": [
        "a = [\"java backend junior pizza 150\",\"python frontend senior chicken 210\",\"python frontend senior chicken 150\",\"cpp backend senior pizza 260\",\"java backend junior chicken 80\",\"python backend senior chicken 50\"]\n",
        "b = [\"java and backend and junior and pizza 100\",\"python and frontend and senior and chicken 200\",\"cpp and - and senior and pizza 250\",\"- and backend and senior and - 150\",\"- and - and - and chicken 100\",\"- and - and - and - 150\"]\n",
        "\n",
        "solution(a,b)"
      ],
      "metadata": {
        "id": "8BFGxrX01gEf",
        "outputId": "3d1219ed-bb97-4afa-c093-f123479c1498",
        "colab": {
          "base_uri": "https://localhost:8080/"
        }
      },
      "execution_count": 32,
      "outputs": [
        {
          "output_type": "execute_result",
          "data": {
            "text/plain": [
              "[1, 1, 1, 1, 2, 4]"
            ]
          },
          "metadata": {},
          "execution_count": 32
        }
      ]
    },
    {
      "cell_type": "markdown",
      "source": [
        "### 정답"
      ],
      "metadata": {
        "id": "4sfTKuSkPj9u"
      }
    },
    {
      "cell_type": "code",
      "source": [
        "from itertools import combinations\n",
        "def solution(info, query):\n",
        "    answer = []\n",
        "    db = {}\n",
        "    for i in info:                   # info에 대해 반복\n",
        "        temp = i.split()\n",
        "        conditions = temp[:-1]       # 조건들만 모으고, 점수 따로\n",
        "        score = int(temp[-1])  \n",
        "        for n in range(5):           # 조건들에 대해 조합을 이용해서  \n",
        "            combi = list(combinations(range(4), n))\n",
        "            for c in combi:\n",
        "                t_c = conditions.copy()\n",
        "                for v in c:          # '-'를 포함한 새로운 조건을 만들어냄.\n",
        "                    t_c[v] = '-'\n",
        "                changed_t_c = '/'.join(t_c)\n",
        "                if changed_t_c in db:     # 모든 조건의 경우에 수에 대해 딕셔너리\n",
        "                    db[changed_t_c].append(score)\n",
        "                else:\n",
        "                    db[changed_t_c] = [score]\n",
        "\n",
        "    for value in db.values():             # 딕셔너리 내 모든 값 정렬\n",
        "        value.sort()\n",
        "\n",
        "    for q in query:                       # query의 모든 조건에 대해서\n",
        "        qry = [i for i in q.split() if i != 'and']\n",
        "        qry_cnd = '/'.join(qry[:-1])\n",
        "        qry_score = int(qry[-1])\n",
        "        if qry_cnd in db:                 # 딕셔너리 내에 값이 존재한다면,\n",
        "            data = db[qry_cnd]\n",
        "            if len(data) > 0:          \n",
        "                start, end = 0, len(data)     # lower bound 알고리즘 통해 인덱스 찾고,\n",
        "                while start != end and start != len(data):\n",
        "                    if data[(start + end) // 2] >= qry_score:\n",
        "                        end = (start + end) // 2\n",
        "                    else:\n",
        "                        start = (start + end) // 2 + 1\n",
        "                answer.append(len(data) - start)      # 해당 인덱스부터 끝까지의 갯수가 정답\n",
        "        else:\n",
        "            answer.append(0)\n",
        "\n",
        "    return answer\n",
        "\n",
        "\n",
        "'''\n",
        "from functools import reduce\n",
        "from collections import defaultdict\n",
        "from bisect import insort, bisect_left\n",
        "\n",
        "def solution(info, query):\n",
        "    table = {\"c\": 3, \"j\": 5, \"p\": 6, \"b\": 6, \"f\": 5, \"s\": 6, \"-\": 0}\n",
        "    conv = lambda l, t: (reduce(lambda a, k: (a << 3) + t(table[k[0]]), l[:-1], 0), int(l[-1]))\n",
        "    info = list(map(lambda s: conv(s.split(\" \"), lambda x: 7 - x), info))\n",
        "    query = list(map(lambda s: conv([c for c in s.split(\" \") if c != \"and\"], lambda x: x), query))\n",
        "    d = defaultdict(list)\n",
        "    for k, v in info:\n",
        "        insort(d[k], v)\n",
        "    return [sum([len(l) - bisect_left(l, v) for k, l in d.items() if not k & q]) for q, v in query]\n",
        "'''"
      ],
      "metadata": {
        "id": "fP4Qc6jMPj1Z"
      },
      "execution_count": null,
      "outputs": []
    },
    {
      "cell_type": "code",
      "source": [
        "def solution(info, query):\n",
        "    data = dict()\n",
        "    for a in ['cpp', 'java', 'python', '-']:\n",
        "        for b in ['backend', 'frontend', '-']:\n",
        "            for c in ['junior', 'senior', '-']:\n",
        "                for d in ['chicken', 'pizza', '-']:\n",
        "                    data.setdefault((a, b, c, d), list())\n",
        "    print(data)\n",
        "    for i in info:\n",
        "        i = i.split()\n",
        "        for a in [i[0], '-']:\n",
        "            for b in [i[1], '-']:\n",
        "                for c in [i[2], '-']:\n",
        "                    for d in [i[3], '-']:\n",
        "                        data[(a, b, c, d)].append(int(i[4]))\n",
        "\n",
        "    for k in data:\n",
        "        data[k].sort()\n",
        "\n",
        "        # print(k, data[k])\n",
        "\n",
        "    answer = list()\n",
        "    for q in query:\n",
        "        q = q.split()\n",
        "\n",
        "        pool = data[(q[0], q[2], q[4], q[6])]\n",
        "        find = int(q[7])\n",
        "        l = 0\n",
        "        r = len(pool)\n",
        "        mid = 0\n",
        "        while l < r:\n",
        "            mid = (r+l)//2\n",
        "            if pool[mid] >= find:\n",
        "                r = mid\n",
        "            else:\n",
        "                l = mid+1\n",
        "            # print(l, r, mid, answer)\n",
        "        # answer.append((pool, find, mid))\n",
        "        answer.append(len(pool)-l)\n",
        "\n",
        "    return answer"
      ],
      "metadata": {
        "id": "j72r4tA-Pjy8"
      },
      "execution_count": 33,
      "outputs": []
    },
    {
      "cell_type": "code",
      "source": [
        "a = [\"java backend junior pizza 150\",\"python frontend senior chicken 210\",\"python frontend senior chicken 150\",\"cpp backend senior pizza 260\",\"java backend junior chicken 80\",\"python backend senior chicken 50\"]\n",
        "b = [\"java and backend and junior and pizza 100\",\"python and frontend and senior and chicken 200\",\"cpp and - and senior and pizza 250\",\"- and backend and senior and - 150\",\"- and - and - and chicken 100\",\"- and - and - and - 150\"]\n",
        "\n",
        "solution(a,b)"
      ],
      "metadata": {
        "id": "PDmRUQUtQelI",
        "outputId": "ec1de2cd-2023-48d0-b868-cb70c6206a1e",
        "colab": {
          "base_uri": "https://localhost:8080/"
        }
      },
      "execution_count": 34,
      "outputs": [
        {
          "output_type": "stream",
          "name": "stdout",
          "text": [
            "{('cpp', 'backend', 'junior', 'chicken'): [], ('cpp', 'backend', 'junior', 'pizza'): [], ('cpp', 'backend', 'junior', '-'): [], ('cpp', 'backend', 'senior', 'chicken'): [], ('cpp', 'backend', 'senior', 'pizza'): [], ('cpp', 'backend', 'senior', '-'): [], ('cpp', 'backend', '-', 'chicken'): [], ('cpp', 'backend', '-', 'pizza'): [], ('cpp', 'backend', '-', '-'): [], ('cpp', 'frontend', 'junior', 'chicken'): [], ('cpp', 'frontend', 'junior', 'pizza'): [], ('cpp', 'frontend', 'junior', '-'): [], ('cpp', 'frontend', 'senior', 'chicken'): [], ('cpp', 'frontend', 'senior', 'pizza'): [], ('cpp', 'frontend', 'senior', '-'): [], ('cpp', 'frontend', '-', 'chicken'): [], ('cpp', 'frontend', '-', 'pizza'): [], ('cpp', 'frontend', '-', '-'): [], ('cpp', '-', 'junior', 'chicken'): [], ('cpp', '-', 'junior', 'pizza'): [], ('cpp', '-', 'junior', '-'): [], ('cpp', '-', 'senior', 'chicken'): [], ('cpp', '-', 'senior', 'pizza'): [], ('cpp', '-', 'senior', '-'): [], ('cpp', '-', '-', 'chicken'): [], ('cpp', '-', '-', 'pizza'): [], ('cpp', '-', '-', '-'): [], ('java', 'backend', 'junior', 'chicken'): [], ('java', 'backend', 'junior', 'pizza'): [], ('java', 'backend', 'junior', '-'): [], ('java', 'backend', 'senior', 'chicken'): [], ('java', 'backend', 'senior', 'pizza'): [], ('java', 'backend', 'senior', '-'): [], ('java', 'backend', '-', 'chicken'): [], ('java', 'backend', '-', 'pizza'): [], ('java', 'backend', '-', '-'): [], ('java', 'frontend', 'junior', 'chicken'): [], ('java', 'frontend', 'junior', 'pizza'): [], ('java', 'frontend', 'junior', '-'): [], ('java', 'frontend', 'senior', 'chicken'): [], ('java', 'frontend', 'senior', 'pizza'): [], ('java', 'frontend', 'senior', '-'): [], ('java', 'frontend', '-', 'chicken'): [], ('java', 'frontend', '-', 'pizza'): [], ('java', 'frontend', '-', '-'): [], ('java', '-', 'junior', 'chicken'): [], ('java', '-', 'junior', 'pizza'): [], ('java', '-', 'junior', '-'): [], ('java', '-', 'senior', 'chicken'): [], ('java', '-', 'senior', 'pizza'): [], ('java', '-', 'senior', '-'): [], ('java', '-', '-', 'chicken'): [], ('java', '-', '-', 'pizza'): [], ('java', '-', '-', '-'): [], ('python', 'backend', 'junior', 'chicken'): [], ('python', 'backend', 'junior', 'pizza'): [], ('python', 'backend', 'junior', '-'): [], ('python', 'backend', 'senior', 'chicken'): [], ('python', 'backend', 'senior', 'pizza'): [], ('python', 'backend', 'senior', '-'): [], ('python', 'backend', '-', 'chicken'): [], ('python', 'backend', '-', 'pizza'): [], ('python', 'backend', '-', '-'): [], ('python', 'frontend', 'junior', 'chicken'): [], ('python', 'frontend', 'junior', 'pizza'): [], ('python', 'frontend', 'junior', '-'): [], ('python', 'frontend', 'senior', 'chicken'): [], ('python', 'frontend', 'senior', 'pizza'): [], ('python', 'frontend', 'senior', '-'): [], ('python', 'frontend', '-', 'chicken'): [], ('python', 'frontend', '-', 'pizza'): [], ('python', 'frontend', '-', '-'): [], ('python', '-', 'junior', 'chicken'): [], ('python', '-', 'junior', 'pizza'): [], ('python', '-', 'junior', '-'): [], ('python', '-', 'senior', 'chicken'): [], ('python', '-', 'senior', 'pizza'): [], ('python', '-', 'senior', '-'): [], ('python', '-', '-', 'chicken'): [], ('python', '-', '-', 'pizza'): [], ('python', '-', '-', '-'): [], ('-', 'backend', 'junior', 'chicken'): [], ('-', 'backend', 'junior', 'pizza'): [], ('-', 'backend', 'junior', '-'): [], ('-', 'backend', 'senior', 'chicken'): [], ('-', 'backend', 'senior', 'pizza'): [], ('-', 'backend', 'senior', '-'): [], ('-', 'backend', '-', 'chicken'): [], ('-', 'backend', '-', 'pizza'): [], ('-', 'backend', '-', '-'): [], ('-', 'frontend', 'junior', 'chicken'): [], ('-', 'frontend', 'junior', 'pizza'): [], ('-', 'frontend', 'junior', '-'): [], ('-', 'frontend', 'senior', 'chicken'): [], ('-', 'frontend', 'senior', 'pizza'): [], ('-', 'frontend', 'senior', '-'): [], ('-', 'frontend', '-', 'chicken'): [], ('-', 'frontend', '-', 'pizza'): [], ('-', 'frontend', '-', '-'): [], ('-', '-', 'junior', 'chicken'): [], ('-', '-', 'junior', 'pizza'): [], ('-', '-', 'junior', '-'): [], ('-', '-', 'senior', 'chicken'): [], ('-', '-', 'senior', 'pizza'): [], ('-', '-', 'senior', '-'): [], ('-', '-', '-', 'chicken'): [], ('-', '-', '-', 'pizza'): [], ('-', '-', '-', '-'): []}\n"
          ]
        },
        {
          "output_type": "execute_result",
          "data": {
            "text/plain": [
              "[1, 1, 1, 1, 2, 4]"
            ]
          },
          "metadata": {},
          "execution_count": 34
        }
      ]
    },
    {
      "cell_type": "markdown",
      "source": [
        ""
      ],
      "metadata": {
        "id": "JdMgn4xUPxC6"
      }
    },
    {
      "cell_type": "code",
      "source": [
        ""
      ],
      "metadata": {
        "id": "cjrfKrJdPjwi"
      },
      "execution_count": null,
      "outputs": []
    },
    {
      "cell_type": "code",
      "source": [
        ""
      ],
      "metadata": {
        "id": "vX13ZSu0PjuF"
      },
      "execution_count": null,
      "outputs": []
    },
    {
      "cell_type": "code",
      "source": [
        ""
      ],
      "metadata": {
        "id": "Rk0y10anPjrX"
      },
      "execution_count": null,
      "outputs": []
    },
    {
      "cell_type": "code",
      "source": [
        ""
      ],
      "metadata": {
        "id": "Ik5TInc71gCD"
      },
      "execution_count": null,
      "outputs": []
    },
    {
      "cell_type": "code",
      "source": [
        ""
      ],
      "metadata": {
        "id": "QSUUcW-xb460"
      },
      "execution_count": null,
      "outputs": []
    },
    {
      "cell_type": "markdown",
      "source": [
        "# Level 3"
      ],
      "metadata": {
        "id": "rWzq31N-n3Di"
      }
    },
    {
      "cell_type": "code",
      "source": [
        ""
      ],
      "metadata": {
        "id": "oLyixHLo0Qtz"
      },
      "execution_count": null,
      "outputs": []
    },
    {
      "cell_type": "code",
      "source": [
        ""
      ],
      "metadata": {
        "id": "hdzVuHyP0QrW"
      },
      "execution_count": null,
      "outputs": []
    },
    {
      "cell_type": "code",
      "source": [
        ""
      ],
      "metadata": {
        "id": "fFkmWfx60Qo7"
      },
      "execution_count": null,
      "outputs": []
    },
    {
      "cell_type": "code",
      "source": [
        ""
      ],
      "metadata": {
        "id": "zTLLE4yB0Qmc"
      },
      "execution_count": null,
      "outputs": []
    },
    {
      "cell_type": "markdown",
      "source": [
        "# 구만이"
      ],
      "metadata": {
        "id": "vOXvLjdX0RK0"
      }
    },
    {
      "cell_type": "code",
      "source": [
        "from itertools import product\n",
        "\n",
        "box = [[0,0,0,0,0,0,0],\n",
        "       [0,5,3,7,2,3,0],\n",
        "       [0,3,7,1,6,1,0],\n",
        "       [0,7,2,5,3,4,0],\n",
        "       [0,4,3,6,4,1,0],\n",
        "       [0,8,7,3,5,2,0],\n",
        "       [0,0,0,0,0,0,0]]\n",
        "\n",
        "score = 0\n",
        "l = ['01234','01234']\n",
        "\n",
        "for i in list(product(*l)):\n",
        "  item = box[int(i[0])+1][int(i[1])+1]\n",
        "  item_top = box[int(i[0])][int(i[1])+1]\n",
        "  item_low = box[int(i[0])+2][int(i[1])+1]\n",
        "  item_left = box[int(i[0])+1][int(i[1])]\n",
        "  item_right = box[int(i[0])+1][int(i[1])+2]\n",
        "  print(item, item_top, item_low, item_left, item_right)\n",
        "  if item > item_top and item > item_low and item > item_left and item > item_right:\n",
        "    score += 1\n",
        "\n",
        "print('정답: ', score)"
      ],
      "metadata": {
        "id": "-JyFZCEN0Qj7"
      },
      "execution_count": null,
      "outputs": []
    }
  ],
  "metadata": {
    "colab": {
      "collapsed_sections": [],
      "name": "Colaboratory에 오신 것을 환영합니다",
      "provenance": [],
      "include_colab_link": true
    },
    "kernelspec": {
      "display_name": "Python 3",
      "name": "python3"
    }
  },
  "nbformat": 4,
  "nbformat_minor": 0
}