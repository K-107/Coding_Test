{
  "cells": [
    {
      "cell_type": "markdown",
      "metadata": {
        "id": "view-in-github",
        "colab_type": "text"
      },
      "source": [
        "<a href=\"https://colab.research.google.com/github/K-107/Coding_Test/blob/main/Programmers.ipynb\" target=\"_parent\"><img src=\"https://colab.research.google.com/assets/colab-badge.svg\" alt=\"Open In Colab\"/></a>"
      ]
    },
    {
      "cell_type": "markdown",
      "source": [
        "# Level 1"
      ],
      "metadata": {
        "id": "dILbRLd_h9WS"
      }
    },
    {
      "cell_type": "markdown",
      "source": [
        "## 1.완주하지 못한 선수\n",
        "\n",
        "- https://programmers.co.kr/learn/courses/30/lessons/42576"
      ],
      "metadata": {
        "id": "Efb6vh5qi3tO"
      }
    },
    {
      "cell_type": "markdown",
      "source": [
        "### 1번 풀기 - 시간초과"
      ],
      "metadata": {
        "id": "kut8euwunj3W"
      }
    },
    {
      "cell_type": "code",
      "source": [
        "def solution(participant, completion):\n",
        "    \n",
        "    for i in participant:\n",
        "        if i in completion:\n",
        "            completion.remove(i)\n",
        "        else:\n",
        "            return i"
      ],
      "metadata": {
        "id": "izyVKd0uh9Dv"
      },
      "execution_count": 1,
      "outputs": []
    },
    {
      "cell_type": "code",
      "source": [
        "# sort()는 리스트를 정렬된 상태로 변경한다. 원본이 정렬돼 변경됨.\n",
        "# sorted()는 정렬된 리스트를 생성한다. 변수로 받아줘야한다.\n",
        "# https://cigiko.cafe24.com/python-%EC%A0%95%EB%A0%AC%ED%95%98%EA%B8%B0-sort%EC%99%80-sorted/\n",
        "\n",
        "다 = 'd b e g a g'.split()\n",
        "다"
      ],
      "metadata": {
        "id": "8xhYszgYh9A8",
        "outputId": "7e0eaf57-574e-4e47-9012-b51a9b26d938",
        "colab": {
          "base_uri": "https://localhost:8080/"
        }
      },
      "execution_count": 16,
      "outputs": [
        {
          "output_type": "execute_result",
          "data": {
            "text/plain": [
              "['d', 'b', 'e', 'g', 'a', 'g']"
            ]
          },
          "metadata": {},
          "execution_count": 16
        }
      ]
    },
    {
      "cell_type": "code",
      "source": [
        "다.sort()"
      ],
      "metadata": {
        "id": "fycFrBBzn66g"
      },
      "execution_count": 17,
      "outputs": []
    },
    {
      "cell_type": "code",
      "source": [
        "다"
      ],
      "metadata": {
        "id": "jTkGmrmhn9Hx",
        "outputId": "52764650-f826-4617-bb8c-29264308aa77",
        "colab": {
          "base_uri": "https://localhost:8080/"
        }
      },
      "execution_count": 18,
      "outputs": [
        {
          "output_type": "execute_result",
          "data": {
            "text/plain": [
              "['a', 'b', 'd', 'e', 'g', 'g']"
            ]
          },
          "metadata": {},
          "execution_count": 18
        }
      ]
    },
    {
      "cell_type": "code",
      "source": [
        "라 = 'd b e g a g'.split()\n",
        "sorted(라)"
      ],
      "metadata": {
        "id": "6DYp6EA9n-kH",
        "outputId": "c36c62c9-5154-4f00-9a4f-01eef252061a",
        "colab": {
          "base_uri": "https://localhost:8080/"
        }
      },
      "execution_count": 19,
      "outputs": [
        {
          "output_type": "execute_result",
          "data": {
            "text/plain": [
              "['a', 'b', 'd', 'e', 'g', 'g']"
            ]
          },
          "metadata": {},
          "execution_count": 19
        }
      ]
    },
    {
      "cell_type": "code",
      "source": [
        "라"
      ],
      "metadata": {
        "id": "V-OhW6wBn-dH",
        "outputId": "a9396597-3faa-4d84-87f2-e8110d717d6f",
        "colab": {
          "base_uri": "https://localhost:8080/"
        }
      },
      "execution_count": 20,
      "outputs": [
        {
          "output_type": "execute_result",
          "data": {
            "text/plain": [
              "['d', 'b', 'e', 'g', 'a', 'g']"
            ]
          },
          "metadata": {},
          "execution_count": 20
        }
      ]
    },
    {
      "cell_type": "code",
      "source": [
        "'''\n",
        "split 함수\n",
        "'''\n",
        "# '리스트 + 리스트'는 되지만 '리스트 - 리스트'는 안된다!\n",
        "# https://hjp845.tistory.com/54\n",
        "\n",
        "가 = 'a b c d e'.split( )\n",
        "나 = 'a b c d'.split()\n",
        "가 + 나"
      ],
      "metadata": {
        "id": "pQzonpChh8-c",
        "outputId": "be826e9a-01b8-4a56-de07-322ea71754f8",
        "colab": {
          "base_uri": "https://localhost:8080/"
        }
      },
      "execution_count": 13,
      "outputs": [
        {
          "output_type": "execute_result",
          "data": {
            "text/plain": [
              "['a', 'b', 'c', 'd', 'e', 'a', 'b', 'c', 'd']"
            ]
          },
          "metadata": {},
          "execution_count": 13
        }
      ]
    },
    {
      "cell_type": "code",
      "source": [
        "가 - 나"
      ],
      "metadata": {
        "id": "RFCJKu-Eh85N",
        "outputId": "011b6ceb-c4de-47d7-f62d-f63a2bd9ca42",
        "colab": {
          "base_uri": "https://localhost:8080/",
          "height": 172
        }
      },
      "execution_count": 14,
      "outputs": [
        {
          "output_type": "error",
          "ename": "TypeError",
          "evalue": "ignored",
          "traceback": [
            "\u001b[0;31m---------------------------------------------------------------------------\u001b[0m",
            "\u001b[0;31mTypeError\u001b[0m                                 Traceback (most recent call last)",
            "\u001b[0;32m<ipython-input-14-02b726fb9ad7>\u001b[0m in \u001b[0;36m<module>\u001b[0;34m()\u001b[0m\n\u001b[0;32m----> 1\u001b[0;31m \u001b[0m가\u001b[0m \u001b[0;34m-\u001b[0m \u001b[0m나\u001b[0m\u001b[0;34m\u001b[0m\u001b[0;34m\u001b[0m\u001b[0m\n\u001b[0m",
            "\u001b[0;31mTypeError\u001b[0m: unsupported operand type(s) for -: 'list' and 'list'"
          ]
        }
      ]
    },
    {
      "cell_type": "markdown",
      "source": [
        "### 2번 풀기 - 통과"
      ],
      "metadata": {
        "id": "s-MN7zePnqKF"
      }
    },
    {
      "cell_type": "code",
      "source": [
        "'''\n",
        "zip 함수\n",
        "'''\n",
        "# 서로 길이가 다른 리스트에 zip함수 적용\n",
        "# https://dev-lagom.tistory.com/23\n",
        "\n",
        "def solution(participant, completion):\n",
        "    \n",
        "    sort_par = sorted(participant)\n",
        "    sort_com = sorted(completion)\n",
        "    \n",
        "    for p,c in zip(sort_par, sort_com):\n",
        "        if p != c:\n",
        "            return p\n",
        "    \n",
        "    return sort_par[-1]"
      ],
      "metadata": {
        "id": "cLvMrshmh82a"
      },
      "execution_count": null,
      "outputs": []
    },
    {
      "cell_type": "code",
      "source": [
        "'''\n",
        "pop 함수\n",
        "'''\n",
        "# https://wikidocs.net/14#pop\n",
        "\n",
        "def solution(participant, completion):\n",
        "    \n",
        "    sort_par = sorted(participant)\n",
        "    sort_com = sorted(completion)\n",
        "    \n",
        "    for p,c in zip(sort_par, sort_com):\n",
        "        if p != c:\n",
        "            return p\n",
        "    \n",
        "    return sort_par.pop()"
      ],
      "metadata": {
        "id": "p8XKoV8doUPh"
      },
      "execution_count": null,
      "outputs": []
    },
    {
      "cell_type": "markdown",
      "source": [
        "## 2.직사각형 별찍기\n",
        "\n",
        "- https://programmers.co.kr/learn/courses/30/lessons/12969"
      ],
      "metadata": {
        "id": "2tyylcdwpIeM"
      }
    },
    {
      "cell_type": "markdown",
      "source": [
        "### 1번 풀이 - 틀림"
      ],
      "metadata": {
        "id": "MDmTenSOsEYd"
      }
    },
    {
      "cell_type": "code",
      "source": [
        "# a, b = map(int, input().strip().split(' '))\n",
        "\n",
        "a, b = 5, 3\n",
        "answer = (a*'*', '\\n')*b\n",
        "print(answer)"
      ],
      "metadata": {
        "id": "AeXp5-G5oUMt",
        "outputId": "bebf57c1-d2f9-4259-bb41-83fe9d4741a5",
        "colab": {
          "base_uri": "https://localhost:8080/"
        }
      },
      "execution_count": 23,
      "outputs": [
        {
          "output_type": "stream",
          "name": "stdout",
          "text": [
            "('*****', '\\n', '*****', '\\n', '*****', '\\n')\n"
          ]
        }
      ]
    },
    {
      "cell_type": "markdown",
      "source": [
        "### 2번 풀이 - 정답"
      ],
      "metadata": {
        "id": "mJRq3ssQsHhb"
      }
    },
    {
      "cell_type": "code",
      "source": [
        "# 이걸로 해야한다!\n",
        "# https://dojang.io/mod/page/view.php?id=1224\n",
        "# https://gilu-world.tistory.com/40\n",
        "\n",
        "a, b = 5, 3\n",
        "answer = (a*'*' + '\\n')*b\n",
        "print(answer)"
      ],
      "metadata": {
        "id": "UDczc27AoUKL",
        "outputId": "124ebfe5-ffad-470a-e059-16078872b521",
        "colab": {
          "base_uri": "https://localhost:8080/"
        }
      },
      "execution_count": 25,
      "outputs": [
        {
          "output_type": "stream",
          "name": "stdout",
          "text": [
            "*****\n",
            "*****\n",
            "*****\n",
            "\n"
          ]
        }
      ]
    },
    {
      "cell_type": "markdown",
      "source": [
        "### 추가 문제"
      ],
      "metadata": {
        "id": "ALqid1a2s-rI"
      }
    },
    {
      "cell_type": "code",
      "source": [
        "for i in range(3):\n",
        "  print((i+1)*'*')"
      ],
      "metadata": {
        "id": "FXovGMCCoUHW",
        "outputId": "a274646a-0cea-4fd5-daaf-79c266802071",
        "colab": {
          "base_uri": "https://localhost:8080/"
        }
      },
      "execution_count": 24,
      "outputs": [
        {
          "output_type": "stream",
          "name": "stdout",
          "text": [
            "*\n",
            "**\n",
            "***\n"
          ]
        }
      ]
    },
    {
      "cell_type": "markdown",
      "source": [
        "## 3.x만큼 간격이 있는 n개의 숫자\n",
        "\n",
        "- https://programmers.co.kr/learn/courses/30/lessons/12954"
      ],
      "metadata": {
        "id": "pFBbOWbQt5eg"
      }
    },
    {
      "cell_type": "code",
      "source": [
        "def solution(x, n):\n",
        "    \n",
        "    answer = []\n",
        "    \n",
        "    for i in range(n):\n",
        "        i += 1 # =+는 아니다!\n",
        "        a = x*i\n",
        "        answer.append(a)\n",
        "        \n",
        "    return answer"
      ],
      "metadata": {
        "id": "TExyUaLFoT_l"
      },
      "execution_count": null,
      "outputs": []
    },
    {
      "cell_type": "code",
      "source": [
        "def solution(x, n):\n",
        "    answer = []\n",
        "    for i in range(1,n+1):\n",
        "        answer.append(x*i)\n",
        "    return answer"
      ],
      "metadata": {
        "id": "aT5nazhVvezl"
      },
      "execution_count": null,
      "outputs": []
    },
    {
      "cell_type": "markdown",
      "source": [
        "## 4.행렬의 덧셈\n",
        "\n",
        "- https://programmers.co.kr/learn/courses/30/lessons/12950"
      ],
      "metadata": {
        "id": "Nh7larknwnvY"
      }
    },
    {
      "cell_type": "code",
      "source": [
        ""
      ],
      "metadata": {
        "id": "6KLH5uO4vexg"
      },
      "execution_count": null,
      "outputs": []
    },
    {
      "cell_type": "code",
      "source": [
        ""
      ],
      "metadata": {
        "id": "kvQoiKZ3veu0"
      },
      "execution_count": null,
      "outputs": []
    },
    {
      "cell_type": "code",
      "source": [
        ""
      ],
      "metadata": {
        "id": "8FRXL2J3vese"
      },
      "execution_count": null,
      "outputs": []
    },
    {
      "cell_type": "code",
      "source": [
        ""
      ],
      "metadata": {
        "id": "YQkFV0Vzveph"
      },
      "execution_count": null,
      "outputs": []
    },
    {
      "cell_type": "code",
      "source": [
        ""
      ],
      "metadata": {
        "id": "eeszy3J1vece"
      },
      "execution_count": null,
      "outputs": []
    }
  ],
  "metadata": {
    "colab": {
      "collapsed_sections": [],
      "name": "Colaboratory에 오신 것을 환영합니다",
      "toc_visible": true,
      "provenance": [],
      "include_colab_link": true
    },
    "kernelspec": {
      "display_name": "Python 3",
      "name": "python3"
    }
  },
  "nbformat": 4,
  "nbformat_minor": 0
}